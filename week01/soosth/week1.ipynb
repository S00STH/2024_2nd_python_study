{
 "cells": [
  {
   "cell_type": "code",
   "execution_count": 2,
   "metadata": {},
   "outputs": [
    {
     "name": "stdout",
     "output_type": "stream",
     "text": [
      "this is my first notebook.\n"
     ]
    }
   ],
   "source": [
    "print(\"this is my first notebook.\")"
   ]
  },
  {
   "cell_type": "markdown",
   "metadata": {},
   "source": [
    "# 1장"
   ]
  },
  {
   "cell_type": "markdown",
   "metadata": {},
   "source": [
    "### 1. 식별자 : 프로그래밍 언어에서 이름을 붙일 때 사용하는 단어\n",
    "- 유효한 식별자 : 숫자 시작 불가능, 공백 불가능, 특수문자 언더바(_)만 가능, 키워드 사용 불가능\n",
    "- 예약어 : Python에서 식별자로 사용할 수 없는 미리 정의된 키워드 집합, 특정 의미와 기능을 가짐. ex ) if, else, for, while\n",
    "- 개인 식별자 : 이중 밑줄로 시작하는 식별자, 클래스 정의 내에서 사용\n",
    "- 공용 식별자 : 이중 밑줄로 시작하지 않는 식별자, 프로그램 내 어디에서나 액세스 가능\n",
    "- 스네이프 케이스 : 단어 사이에 언더바(_)를 붙이는 식별자. 변수, 함수, 모듈 이름을 지정할 때 주로 사용 ex) item_list → 괄호 O(함수), 괄호 X(변수)\n",
    "- 캐멀 케이스 : 단어의 첫글자를 대문자로 적는 식별자,  ex) ItemList → 클래스\n",
    "\n",
    "### 2. 주석\n",
    ": 맨 앞에 '#'을 붙여 프로그램을 설명할 수 있음\n",
    ": '''를 사용해 여러줄 주석 삽입 가능"
   ]
  },
  {
   "cell_type": "markdown",
   "metadata": {},
   "source": [
    "### 3. 출력 print()"
   ]
  },
  {
   "cell_type": "code",
   "execution_count": 8,
   "metadata": {},
   "outputs": [
    {
     "name": "stdout",
     "output_type": "stream",
     "text": [
      "# 하나만 출력합니다.\n",
      "Hello Python Programming...!\n",
      "\n",
      "# 여러 개를 출력합니다.\n",
      "10 20 30 40 50\n",
      "안녕하세요 저의 이름은 윤인성입니다!\n",
      "안녕하세요저의이름은윤인성입니다!\n",
      "\n",
      "# 아무것도 출력하지 않습니다.\n",
      "--- 확인 전용선 ---\n",
      "\n",
      "\n",
      "--- 확인 전용선 ---\n"
     ]
    }
   ],
   "source": [
    "# 하나만 출력합니다.\n",
    "print(\"# 하나만 출력합니다.\")\n",
    "print(\"Hello Python Programming...!\")\n",
    "print()\n",
    "\n",
    "# 여러 개를 출력합니다.\n",
    "print(\"# 여러 개를 출력합니다.\")\n",
    "print(10, 20, 30, 40, 50)\n",
    "print(\"안녕하세요\", \"저의\", \"이름은\", \"윤인성입니다!\") # 쉼표 : 단어를 띄어쓰기해 연결해줌\n",
    "print(\"안녕하세요\" + \"저의\" + \"이름은\" + \"윤인성입니다!\") # 더하기 : 단어를 띄어쓰기 없이 연결해줌\n",
    "print()\n",
    "\n",
    "# 아무것도 입력하지 않으면 단순하게 줄바꿈합니다.\n",
    "print(\"# 아무것도 출력하지 않습니다.\")\n",
    "print(\"--- 확인 전용선 ---\")\n",
    "print()\n",
    "print()\n",
    "print(\"--- 확인 전용선 ---\")"
   ]
  },
  {
   "cell_type": "markdown",
   "metadata": {},
   "source": [
    "# 2. 자료형"
   ]
  },
  {
   "cell_type": "markdown",
   "metadata": {},
   "source": [
    "### 1. 자료형과 문자열\n",
    "1) 자료형 : 문자열(string), 숫자(number), 불(boolean)\n",
    "- 자료형 확인 :  type( )  함수 사용하기"
   ]
  },
  {
   "cell_type": "code",
   "execution_count": 10,
   "metadata": {},
   "outputs": [
    {
     "name": "stdout",
     "output_type": "stream",
     "text": [
      "<class 'str'>\n",
      "<class 'int'>\n",
      "<class 'bool'>\n"
     ]
    }
   ],
   "source": [
    "print(type(\"안녕하세요\"))\n",
    "print(type(500))\n",
    "print(type(False))"
   ]
  },
  {
   "cell_type": "markdown",
   "metadata": {},
   "source": [
    "2. 이스케이프 문자\n",
    "- \\\\\" : 큰따옴표\n",
    "- \\\\' : 작은따옴표\n",
    "- \\n : 줄바꿈\n",
    "- \\t : 탭\n",
    "- \\\\\\ : \\"
   ]
  },
  {
   "cell_type": "code",
   "execution_count": 18,
   "metadata": {},
   "outputs": [
    {
     "name": "stdout",
     "output_type": "stream",
     "text": [
      "\"\n",
      "'\n",
      "\n",
      "\n",
      "\t hi\n",
      "\\\n"
     ]
    }
   ],
   "source": [
    "print(\"\\\"\") # 큰따옴표 출력\n",
    "print(\"\\'\") # 작은따옴표 출력\n",
    "print(\"\\n\") # 줄바꿈\n",
    "print(\"\\t hi\") # 탭 출력\n",
    "print(\"\\\\\") # 역슬래시 출력"
   ]
  },
  {
   "cell_type": "markdown",
   "metadata": {},
   "source": [
    "3. 문자열 만들기"
   ]
  },
  {
   "cell_type": "markdown",
   "metadata": {},
   "source": [
    "- 따옴표 이용 문자열"
   ]
  },
  {
   "cell_type": "code",
   "execution_count": 23,
   "metadata": {},
   "outputs": [
    {
     "name": "stdout",
     "output_type": "stream",
     "text": [
      "안녕하세요\n",
      "안녕하세요\n",
      "\"안녕하세요\"라고 했다\n",
      "'안녕하세요'라고 했다.\n",
      "\"안녕하세요\"라고 했다.\n",
      "\"안녕하세요\"라고 했다.\n",
      "파이썬\n",
      "자료\n",
      "만들기\n"
     ]
    }
   ],
   "source": [
    "print(\"안녕하세요\") # 큰따옴표 사용 문자열\n",
    "print('안녕하세요') # 작은따옴표 사용 문자열\n",
    "# 큰따옴표 작은따옴표를 사용할 수 있는 이유 : 따옴표를 표현한 문자열을 만들기 위해\n",
    "print('\"안녕하세요\"라고 했다') \n",
    "print(\"'안녕하세요'라고 했다.\")\n",
    "# 이스케이프 문자를 이용해 문자열에 따옴표를 넣을 수 있음\n",
    "print(\"\\\"안녕하세요\\\"라고 했다.\")\n",
    "print('\\\"안녕하세요\\\"라고 했다.')\n",
    "# 여러줄 문자열 : \"\"\"사용\n",
    "print(\"\"\"파이썬\n",
    "자료\n",
    "만들기\"\"\")"
   ]
  },
  {
   "cell_type": "markdown",
   "metadata": {},
   "source": [
    "- 문자열 연산자"
   ]
  },
  {
   "cell_type": "code",
   "execution_count": 38,
   "metadata": {},
   "outputs": [
    {
     "name": "stdout",
     "output_type": "stream",
     "text": [
      "안녕 하세요\n",
      "안녕하세요\n",
      "안녕안녕안녕안녕안녕\n",
      "안\n",
      "녕\n",
      "하\n",
      "세\n",
      "요\n",
      "안녕\n",
      "녕하\n",
      "하세\n",
      "세요\n",
      "안녕하\n"
     ]
    }
   ],
   "source": [
    "# 쉼표(,) 이용\n",
    "print(\"안녕\", \"하세요\")\n",
    "# + 이용 (단, 문자열과 숫자 연결 불가능)\n",
    "print(\"안녕\" + \"하세요\")\n",
    "# 문자열 반복 : * 사용\n",
    "print(\"안녕\" * 5)\n",
    "# 문자열 선택 : 인덱싱\n",
    "print(\"안녕하세요\"[0])\n",
    "print(\"안녕하세요\"[1])\n",
    "print(\"안녕하세요\"[2])\n",
    "print(\"안녕하세요\"[3])\n",
    "print(\"안녕하세요\"[4])\n",
    "# 슬라이싱 : 끝 번호는 인덱싱하지 않음 (끝 번호 전까지만), 콜론(:) 이용해 문자열의 첫번째부터 인덱싱하거나 끝까지 인덱싱 가능\n",
    "print(\"안녕하세요\"[0:2]) # 안녕\n",
    "print(\"안녕하세요\"[1:3]) # 녕하\n",
    "print(\"안녕하세요\"[2:4]) # 하세\n",
    "print(\"안녕하세요\"[3:]) # 세요\n",
    "print(\"안녕하세요\"[:3]) # 안녕하"
   ]
  },
  {
   "cell_type": "markdown",
   "metadata": {},
   "source": [
    "### 2. 숫자"
   ]
  },
  {
   "cell_type": "markdown",
   "metadata": {},
   "source": [
    "1. 숫자 종류 \n",
    "- 정수 (integer)\n",
    "- 실수 (float)\n",
    "\n",
    "2. 연산자\n",
    "- +, -, *, /\n",
    "- // : 숫자를 나누고 소수점 이하의 자릿수를 떼어 버린 후, 정수 부분만 남김\n",
    "- % : 나머지 반환\n",
    "- ** : 제곱"
   ]
  },
  {
   "cell_type": "code",
   "execution_count": 39,
   "metadata": {},
   "outputs": [
    {
     "name": "stdout",
     "output_type": "stream",
     "text": [
      "<class 'int'>\n",
      "<class 'float'>\n"
     ]
    }
   ],
   "source": [
    "# 숫자 종류\n",
    "print(type(1234))\n",
    "print(type(10.26))"
   ]
  },
  {
   "cell_type": "code",
   "execution_count": 41,
   "metadata": {},
   "outputs": [
    {
     "name": "stdout",
     "output_type": "stream",
     "text": [
      "1.5\n",
      "1\n",
      "1\n",
      "25\n"
     ]
    }
   ],
   "source": [
    "# 연산자\n",
    "print(3/2)\n",
    "print(3//2)\n",
    "print(5%2)\n",
    "print(5**2)"
   ]
  },
  {
   "cell_type": "markdown",
   "metadata": {},
   "source": [
    "### 3. 변수와 입력"
   ]
  },
  {
   "cell_type": "markdown",
   "metadata": {},
   "source": [
    "1. 복합 대입 연산자\n",
    "- += : 덧셈 후 대입 (문자열에도 사용 가능)\n",
    "- -= : 뺄셈 후 대입\n",
    "- *= : 곱셈 후 대입\n",
    "- /= : 나눗셈 후 대입\n",
    "- %= : 나머지를 구한 후 대입\n",
    "- **= : 제곱 후 대입"
   ]
  },
  {
   "cell_type": "code",
   "execution_count": 42,
   "metadata": {},
   "outputs": [
    {
     "name": "stdout",
     "output_type": "stream",
     "text": [
      "110\n"
     ]
    }
   ],
   "source": [
    "A = 100\n",
    "A += 10\n",
    "print(A)"
   ]
  },
  {
   "cell_type": "code",
   "execution_count": 44,
   "metadata": {},
   "outputs": [
    {
     "name": "stdout",
     "output_type": "stream",
     "text": [
      "1000\n"
     ]
    }
   ],
   "source": [
    "A = 10\n",
    "A **= 3\n",
    "print(A)"
   ]
  },
  {
   "cell_type": "code",
   "execution_count": 49,
   "metadata": {},
   "outputs": [
    {
     "name": "stdout",
     "output_type": "stream",
     "text": [
      "안녕하세요\n"
     ]
    }
   ],
   "source": [
    "B = \"안녕\"\n",
    "B += \"하세요\"\n",
    "print(B)"
   ]
  },
  {
   "cell_type": "markdown",
   "metadata": {},
   "source": [
    "2. 사용자 입력 input() : 사용자로부터 데이터를 입력받음\n",
    "- input()함수의 인자는 항상 문자열(string)로 인식 => 캐스트 : 숫자를 받으려면 자료형을 변경해줘야 함 ex int(input()), float(input())"
   ]
  },
  {
   "cell_type": "code",
   "execution_count": 50,
   "metadata": {},
   "outputs": [
    {
     "data": {
      "text/plain": [
       "'hi'"
      ]
     },
     "execution_count": 50,
     "metadata": {},
     "output_type": "execute_result"
    }
   ],
   "source": [
    "input()"
   ]
  },
  {
   "cell_type": "code",
   "execution_count": 54,
   "metadata": {},
   "outputs": [
    {
     "name": "stdout",
     "output_type": "stream",
     "text": [
      "hi\n"
     ]
    }
   ],
   "source": [
    "# 데이터를 입력받아 변수에 할당\n",
    "answer = input()\n",
    "print(answer)"
   ]
  },
  {
   "cell_type": "code",
   "execution_count": 57,
   "metadata": {},
   "outputs": [
    {
     "name": "stdout",
     "output_type": "stream",
     "text": [
      "30\n"
     ]
    }
   ],
   "source": [
    "# 숫자형 데이터 입력받기\n",
    "num = int(input(\"숫자를 입력하시오 :\"))\n",
    "print(num)"
   ]
  },
  {
   "cell_type": "markdown",
   "metadata": {},
   "source": [
    "### 4. 숫자와 문자열의 다양한 기능"
   ]
  },
  {
   "cell_type": "markdown",
   "metadata": {},
   "source": [
    "1. format()\n"
   ]
  },
  {
   "cell_type": "code",
   "execution_count": 59,
   "metadata": {},
   "outputs": [
    {
     "name": "stdout",
     "output_type": "stream",
     "text": [
      "10 1000 2000 3000 4000 1 문자열 True\n"
     ]
    }
   ],
   "source": [
    "# 숫자, 문자열, 변수, 대입\n",
    "# 여러 개 대입 가능\n",
    "C = \"{}\".format(10)\n",
    "D = \"{} {} {} {}\".format(1000, 2000, 3000, 4000)\n",
    "E = \"{} {} {}\".format(1, \"문자열\", True, C)\n",
    "print(C, D, E)"
   ]
  },
  {
   "cell_type": "code",
   "execution_count": 73,
   "metadata": {},
   "outputs": [
    {
     "name": "stdout",
     "output_type": "stream",
     "text": [
      "  10\n",
      "   10\n",
      "00010\n",
      "-0010\n",
      "0.100000\n",
      "-0.100000\n"
     ]
    }
   ],
   "source": [
    "# 정수를 특정 칸에 출력\n",
    "a = \"{:4d}\".format(10)\n",
    "b = \"{:5d}\".format(10)\n",
    "print(a)\n",
    "print(b)\n",
    "\n",
    "# 빈칸을 0으로 채울 수 있음\n",
    "c = \"{:05d}\".format(10)\n",
    "d = \"{:05d}\".format(-10)\n",
    "print(c)\n",
    "print(d)\n",
    "e = \"{:05f}\".format(0.1)\n",
    "f = \"{:05f}\".format(-0.1)\n",
    "print(e)\n",
    "print(f)"
   ]
  },
  {
   "cell_type": "code",
   "execution_count": 75,
   "metadata": {},
   "outputs": [
    {
     "name": "stdout",
     "output_type": "stream",
     "text": [
      "  +10\n",
      "+  10\n",
      "+0010\n"
     ]
    }
   ],
   "source": [
    "# 기호 붙여 출력\n",
    "g = \"{:+5d}\".format(10)\n",
    "h = \"{:=+5d}\".format(10) # 기호와 공백을 조합 할 때는 = 기호를 앞에 붙여 기호를 빈칸 앞에 붙일 것인지, 숫자 앞에 붙일 것인지 지정하는 기호\n",
    "i = \"{:+05d}\".format(10)\n",
    "print(g)\n",
    "print(h)\n",
    "print(i)"
   ]
  },
  {
   "cell_type": "markdown",
   "metadata": {},
   "source": [
    "2. upper() / lower()"
   ]
  },
  {
   "cell_type": "code",
   "execution_count": 80,
   "metadata": {},
   "outputs": [
    {
     "name": "stdout",
     "output_type": "stream",
     "text": [
      "HELLO WORLD\n",
      "hello world\n"
     ]
    }
   ],
   "source": [
    "a = \"Hello World\"\n",
    "print(a.upper()) # 문자열을 대문자로\n",
    "print(a.lower()) # 문자열을 소문자로"
   ]
  },
  {
   "cell_type": "markdown",
   "metadata": {},
   "source": [
    "3. strip() : 문자열 양 옆의 공백을 제거\n",
    "- 이때 공백이란 '띄어쓰기', '탭', '줄바꿈'을 모두 포함"
   ]
  },
  {
   "cell_type": "code",
   "execution_count": 83,
   "metadata": {},
   "outputs": [
    {
     "name": "stdout",
     "output_type": "stream",
     "text": [
      "Hello     World\n"
     ]
    }
   ],
   "source": [
    "a = \"   Hello     World     \"\n",
    "print(a.strip())"
   ]
  },
  {
   "cell_type": "markdown",
   "metadata": {},
   "source": [
    "4. isOO : True / False 반환\n",
    "- isalnum : 문자열이 알파벳 또는 숫자로만 구성되어 있는지 확인\n",
    "- isalpha : 문자열이 알파벳으로만 구성되어 있는지 확인\n",
    "- isdentifier : 문자열이 식별자로 사용할 수있는지 확인\n",
    "- isdecimal : 문자열이 정수 형태인지 확인\n",
    "- isdigit : 문자열이 숫자로 인식될 수 있는 것인지 확인\n",
    "- isspace : 문자열이 공백으로만 구성되어 있는지 확인\n",
    "- islower : 문자열이 소문자로만 구성되어 있는지 확인\n",
    "- isupper : 문자열이 대문자로만 구성되어 있는지 확인"
   ]
  },
  {
   "cell_type": "markdown",
   "metadata": {},
   "source": [
    "5. find()"
   ]
  },
  {
   "cell_type": "code",
   "execution_count": 91,
   "metadata": {},
   "outputs": [
    {
     "name": "stdout",
     "output_type": "stream",
     "text": [
      "0\n",
      "5\n"
     ]
    }
   ],
   "source": [
    "a = \"hellohello\".find(\"hello\") # find() : 왼쪽부터 찾음\n",
    "b = \"hellohello\".rfind(\"hello\") # find() : 오른쪽부터 찾음\n",
    "print(a)\n",
    "print(b)"
   ]
  },
  {
   "cell_type": "markdown",
   "metadata": {},
   "source": [
    "6. in : 문자열 내부에 어떤 문자열이 있는지 확인할 때 사용, True / False 반환"
   ]
  },
  {
   "cell_type": "code",
   "execution_count": 93,
   "metadata": {},
   "outputs": [
    {
     "name": "stdout",
     "output_type": "stream",
     "text": [
      "True\n",
      "False\n"
     ]
    }
   ],
   "source": [
    "print(\"안녕\" in \"안녕하세요\")\n",
    "print(\"hello\" in \"안녕하세요\")"
   ]
  },
  {
   "cell_type": "markdown",
   "metadata": {},
   "source": [
    "7. split() : 문자열을 특정한 문자로 자를 때 사용, 리스트 반환"
   ]
  },
  {
   "cell_type": "code",
   "execution_count": 97,
   "metadata": {},
   "outputs": [
    {
     "name": "stdout",
     "output_type": "stream",
     "text": [
      "['10', '20', '30', '40', '50']\n",
      "['10', ' 20', ' 30', ' 40', ' 50']\n",
      "['10', '20', '30', '40', '50']\n"
     ]
    }
   ],
   "source": [
    "a = \"10 20 30 40 50\".split(\" \") # 공백 기준으로 자르기\n",
    "b = \"10, 20, 30, 40, 50\".split(\",\") # 쉼표 기준으로 자르기\n",
    "c = \"10/20/30/40/50\".split(\"/\") # / 기준으로 자르기\n",
    "print(a)\n",
    "print(b)\n",
    "print(c)"
   ]
  }
 ],
 "metadata": {
  "kernelspec": {
   "display_name": "Python 3",
   "language": "python",
   "name": "python3"
  },
  "language_info": {
   "codemirror_mode": {
    "name": "ipython",
    "version": 3
   },
   "file_extension": ".py",
   "mimetype": "text/x-python",
   "name": "python",
   "nbconvert_exporter": "python",
   "pygments_lexer": "ipython3",
   "version": "3.12.2"
  }
 },
 "nbformat": 4,
 "nbformat_minor": 2
}
