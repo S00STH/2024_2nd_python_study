{
 "cells": [
  {
   "cell_type": "markdown",
   "metadata": {},
   "source": [
    "### 3. IF문\n",
    "IF문 : 논리 연산자를 통해 True 인 경우 내용을 실행 (elif, else로 분기점을 만들 수 있음)<br>\n",
    "논리연산자 : <br>\n",
    "A and B = A,B 둘 다 1인 경우만 1, 그 외 0<br>\n",
    "A or B = A,B 둘 중 하나라도 1인 경우 1, 둘 다 0 인 경우만 0<br>\n",
    "not A = A가 0인 경우 1, 1인 경우 0"
   ]
  },
  {
   "cell_type": "code",
   "execution_count": null,
   "metadata": {},
   "outputs": [],
   "source": [
    "print(5 <= 10 < 100) # 5 <= 10 < 100 의 논리값을 출력\n",
    "print(not(10 < 20)) # 10 < 20의 논리값의 not을 출력\n",
    "print(10 < 20 and 20 > 30) # and 연산자 \n",
    "print(10 < 20 or 20 > 30) # or 연산자\n",
    "print(not 2) # not 연산자"
   ]
  },
  {
   "cell_type": "code",
   "execution_count": null,
   "metadata": {},
   "outputs": [],
   "source": [
    "num = int(input(\"정수 입력 : \"))\n",
    "if num > 0: print(\"양수입니다.\")\n",
    "elif num == 0:   print(\"0입니다.\")\n",
    "else:   print(\"음수입니다.\")"
   ]
  },
  {
   "cell_type": "code",
   "execution_count": null,
   "metadata": {},
   "outputs": [],
   "source": [
    "import datetime as date     #날짜 및 시간 관련 라이브러리\n",
    "now = date.datetime.now()   #현재 날짜/시간을 가져옴\n",
    "print(now)\n",
    "if(now.hour < 12):\n",
    "    print(\"현재 시각은 {}시로 오전입니다!\".format(now.hour))\n",
    "\n",
    "elif(now.hour == 12):\n",
    "    pass # 미구현일 때, 에러없이 넘기는 함수\n",
    "else:\n",
    "    print(\"현재 시각은 {}시로 오후입니다!\".format(now.hour))\n",
    "    pass"
   ]
  },
  {
   "cell_type": "markdown",
   "metadata": {},
   "source": [
    "### 4. 리스트\n",
    "리스트 : 서로 다른 자료형을 모두 배열처럼 저장할 수 있는 형태"
   ]
  },
  {
   "cell_type": "code",
   "execution_count": null,
   "metadata": {},
   "outputs": [],
   "source": [
    "list_a = [True, \"문자열\", 52, 5.24]\n",
    "list_a[0] = False # 리스트는 인덱스를 통해 접근, 변경 가능\n",
    "print(list_a)\n",
    "print(list_a[-1]) # -1 인덱스는 뒤에서 부터 시작 \n",
    "print(list_a[1][2]) # 1번째 인덱스의 \"문자열\" string의 2번째 인덱스 출력\n",
    "\n",
    "list_b = [[2,3],[5,7],[9,5]] # 리스트안에 리스트를 넣을 수 있어 다차원 표현이 가능  3x2\n",
    "print(list_b)\n",
    "print(len(list_b)) # 1차원에 3개\n",
    "print(len(list_b[0])) # 2차원에 2개\n",
    "\n"
   ]
  },
  {
   "cell_type": "code",
   "execution_count": null,
   "metadata": {},
   "outputs": [],
   "source": [
    "list_c = [[[1,2],[2,5],[3]],[2,3,5]]\n",
    "print(list_c[0][1][1]) # [2,5] 의 1번째 인덱스 -> 5"
   ]
  },
  {
   "cell_type": "code",
   "execution_count": null,
   "metadata": {},
   "outputs": [],
   "source": [
    "list_A = [2, 3, 4]\n",
    "list_A.append(5)    # 리스트의 맨 뒤에 5 추가\n",
    "list_A.insert(0,1)  # 리스트의 0번째에 1 추가\n",
    "print(list_A)\n",
    "\n",
    "list_B = [11,12,13]\n",
    "print(list_A+list_B)    # 리스트의 덧셈 연산자 (각 리스트에 변화 X)\n",
    "list_A.extend(list_B)   # 리스트 A에 B를 추가하는 함수\n",
    "print(\"A : \",list_A)    # A에 B를 추가\n",
    "print(\"B : \",list_B)    # B에는 변화 X\n",
    "\n",
    "del list_B[1]           # return 값 없음, [A:B] 를 이용해 여러 개 삭제 가능\n",
    "print(list_B)           # B의 1번째 인덱스 삭제 (12 삭제)\n",
    "print(list_B.pop(0))    # B의 0번째 인덱스 삭제 (11 삭제 , 인수를 넣지 않을 시 맨 뒤의 인덱스 삭제, del 과 달리 return = 삭제한 값)\n",
    "\n",
    "list_A.remove(12)       # A에서 값 12 삭제\n",
    "print(list_A)   \n",
    "\n",
    "list_B.clear()          # 리스트 인덱스 전체 제거\n",
    "\n",
    "print(5 in list_A)      # 리스트에 값 5가 있는 지 확인"
   ]
  },
  {
   "cell_type": "markdown",
   "metadata": {},
   "source": [
    "### 3주차 추가 스터디 내용\n",
    "1.리스트를 저장한 변수 A는 리스트의 메모리 주소값을 가리킨다. <br>\n",
    "따라서, A를 또 다른 변수 X에 저장할 경우, X와 A는 같은 리스트를 가리키게 된다. (리스트 2개로 복사되는 것이 아님.)"
   ]
  },
  {
   "cell_type": "code",
   "execution_count": null,
   "metadata": {},
   "outputs": [],
   "source": [
    "a = [1, 2, 3]\n",
    "b = a\n",
    "a[2] = 4\n",
    "print(b)\n",
    "\n",
    "    "
   ]
  },
  {
   "cell_type": "markdown",
   "metadata": {},
   "source": [
    "2. 리스트에 객체 본인도 포함 가능. <br>\n",
    "이 객체는 1번째 문제에서 리스트를 저장한 변수는 메모리 주소를 가리킴을 더욱 알 수 있게 함. "
   ]
  },
  {
   "cell_type": "code",
   "execution_count": null,
   "metadata": {},
   "outputs": [],
   "source": [
    "numbers = [1,2,3]\n",
    "X = [11,15]\n",
    "numbers.append(numbers)\n",
    "print(numbers)\n",
    "print(numbers[3])\n",
    "print(numbers[:])   # 4번째 인덱스를 실행할 때 [1,2,3] 도 포함해 실행한다. 이중 반복문의 느낌\n",
    "numbers.append(5)   \n",
    "print(numbers[:])   # 추가된 5의 값도 3번째 인덱스를 출력할 때 포함되는 것을 보아 리스트를 복사한것이 아닌 메모리 주소값을 복사했다.\n",
    "numbers.extend(X) \n",
    "print(numbers[:])"
   ]
  },
  {
   "cell_type": "markdown",
   "metadata": {},
   "source": [
    "### 딕셔너리\n",
    "리스트는 인덱스를 기반으로 값을 저장함 <br>\n",
    "딕셔너리는 키를 기반으로 값을 저장함"
   ]
  },
  {
   "cell_type": "code",
   "execution_count": null,
   "metadata": {},
   "outputs": [],
   "source": [
    "dict_A = {\n",
    "    \"name\" : \"김무강\",\n",
    "    \"grade\" : 2,\n",
    "    type : \"파이썬\"     # type은 기본 식별자가 있어 \"\"를 사용하지 않아도 됨\n",
    "}\n",
    "print(dict_A)\n",
    "print(dict_A[\"name\"])   # 키 name에 해당하는 값 출력\n",
    "dict_A[\"공강\"] = \"금요일\"   # 공강이라는 키가 없으므로 새로 만들어 값을 저장함.\n",
    "print(dict_A)\n",
    "\n",
    "del dict_A[\"공강\"]      # \"공강\"이라는 키를 삭제\n",
    "print(dict_A)           \n",
    "\n",
    "print(dict_A.get(\"name\"), dict_A.get(\"공강\"))   # \"공강\"이라는 키가 있는 지 확인 있으면 그 값을 반환, 없으면 None을 반환\n",
    "print(\"공강\" in dict_A) # A에 \"공강\"이라는 키가 있는 지 true,false로 반환"
   ]
  },
  {
   "cell_type": "markdown",
   "metadata": {},
   "source": [
    "### 반복문\n",
    "반복문에는 for, while 문이 있음"
   ]
  },
  {
   "cell_type": "code",
   "execution_count": null,
   "metadata": {},
   "outputs": [],
   "source": [
    "for i in range(5):      # range(5) = 0~4까지의 정수를 포함한 리스트\n",
    "    print(i, end=\" \")\n",
    "print()                 # 줄바꿈용\n",
    "\n",
    "for i in range(1,6):    # range(1,6) = 1~5까지의 리스트\n",
    "    print(i,end=\"  \")\n",
    "print()\n",
    "\n",
    "for i in range(1,6,2):  # range(1,6,2) = 1부터 6까지 2씩 증가하는 리스트\n",
    "    print(i,end=\"  \")   \n",
    "print()\n",
    "\n",
    "for i in range(2,-5,-1):    # range(2,-5,-1) = 2부터 -4까지 -1씩 감소하는 리스트\n",
    "    print(i,end=\"  \")       # 인덱스를 거꾸로 적용하고 싶을 때 적용 가능\n",
    "print()\n",
    "\n",
    "list_A = [22,66,101,205]\n",
    "for ele in list_A:      # A에 있는 모든 요소를 차례대로 가져옴\n",
    "    print(ele, end=\"\\t\")    # end : 줄바꿈없이 출력하게 만듬"
   ]
  },
  {
   "cell_type": "code",
   "execution_count": null,
   "metadata": {},
   "outputs": [],
   "source": [
    "i = 0\n",
    "while(1):               # 무한 반복 (조건문을 이용해 탈출 가능)\n",
    "    if (i == 20):       # i == 20 인 경우 반복문 탈출\n",
    "        break\n",
    "    i+=1 \n",
    "print(i)\n",
    "\n",
    "while(i < 30):          # i<30일때까지만 실행\n",
    "    print(i, end=\"  \")\n",
    "    i+=1\n",
    "print(\"\\n{}\".format(i))                # i = 30일 떄 탈출하므로 i의 값은 30이 됨"
   ]
  },
  {
   "cell_type": "code",
   "execution_count": null,
   "metadata": {},
   "outputs": [],
   "source": [
    "TT = [1,2,3,5,10]\n",
    "val = 2\n",
    "while val in TT:        # TT안에 val이 있을 때까지만\n",
    "    TT.remove(val) \n",
    "print(TT)\n",
    "\n",
    "for i in TT:\n",
    "    if(i == 1):         # i==1 일 때만 생략\n",
    "        continue\n",
    "    print(i)"
   ]
  },
  {
   "cell_type": "code",
   "execution_count": 10,
   "metadata": {},
   "outputs": [
    {
     "name": "stdout",
     "output_type": "stream",
     "text": [
      "102\n",
      "7\n",
      "203\n"
     ]
    },
    {
     "ename": "TypeError",
     "evalue": "'generator' object is not callable",
     "output_type": "error",
     "traceback": [
      "\u001b[1;31m---------------------------------------------------------------------------\u001b[0m",
      "\u001b[1;31mTypeError\u001b[0m                                 Traceback (most recent call last)",
      "Cell \u001b[1;32mIn[10], line 6\u001b[0m\n\u001b[0;32m      4\u001b[0m \u001b[38;5;28mprint\u001b[39m(\u001b[38;5;28msum\u001b[39m(num))     \u001b[38;5;66;03m# num을 다 더한 값\u001b[39;00m\n\u001b[0;32m      5\u001b[0m num2 \u001b[38;5;241m=\u001b[39m \u001b[38;5;28mreversed\u001b[39m(num)\u001b[38;5;66;03m# 리스트 뒤집기\u001b[39;00m\n\u001b[1;32m----> 6\u001b[0m \u001b[38;5;28mprint\u001b[39m(\u001b[38;5;28;43mlist\u001b[39;49m\u001b[43m(\u001b[49m\u001b[43mnum2\u001b[49m\u001b[43m)\u001b[49m)\n\u001b[0;32m      7\u001b[0m \u001b[38;5;28mprint\u001b[39m(\u001b[38;5;28mlist\u001b[39m(num2))   \u001b[38;5;66;03m# 한 번 쓰면 제거 (제너레이터 : 순서를 기억해 한 번 쓰면 그 다음으로 계속 넘어감, 끝까지 한 번 다 써서 그 다음 빈칸을 출력) \u001b[39;00m\n\u001b[0;32m      9\u001b[0m \u001b[38;5;28mprint\u001b[39m(\u001b[38;5;28mtype\u001b[39m(\u001b[38;5;28menumerate\u001b[39m(num)))\n",
      "\u001b[1;31mTypeError\u001b[0m: 'generator' object is not callable"
     ]
    }
   ],
   "source": [
    "num = [102, 32, 7, 62]\n",
    "print(max(num))     # num에서 가장 큰 값\n",
    "print(min(num))     # num에서 가장 작은 값\n",
    "print(sum(num))     # num을 다 더한 값\n",
    "num2 = reversed(num)# 리스트 뒤집기\n",
    "print(list(num2))\n",
    "print(list(num2))   # 한 번 쓰면 제거 (제너레이터 : 순서를 기억해 한 번 쓰면 그 다음으로 계속 넘어감, 끝까지 한 번 다 써서 그 다음 빈칸을 출력) \n",
    "\n",
    "print(type(enumerate(num)))\n",
    "num3 = (enumerate(num))  # num리스트에서 각 항에 인덱스 번호를 추가해 튜플 자료형으로 만듦\n",
    "print(next(num3))"
   ]
  },
  {
   "cell_type": "code",
   "execution_count": null,
   "metadata": {},
   "outputs": [],
   "source": [
    "arr = [i*i for i in range(10)]  # i = 0~9까지 이고 리스트에 i*i 값을 저장함\n",
    "print(arr)\n",
    "\n",
    "arr2 = [i*i for i in range(10) if i != 0]  # i != 0 일때만 저장\n",
    "print(arr2)\n",
    "\n",
    "print(\"::\".join([\"1\",\"2\",\"3\"])) # 리스트 사이에 \"::\"을 넣음"
   ]
  },
  {
   "cell_type": "code",
   "execution_count": null,
   "metadata": {},
   "outputs": [],
   "source": [
    "list2 = [x for x in range(10)]\n",
    "x = iter(list2)\n",
    "print(type(x), x)\n",
    "print(x.__next__())\n",
    "print(x.__next__())\n",
    "print(next(x))\n",
    "print(x)"
   ]
  },
  {
   "cell_type": "code",
   "execution_count": null,
   "metadata": {},
   "outputs": [],
   "source": [
    "list1=(x for x in range(10))\n",
    "print(type(list1))\n",
    "print(next(list1))"
   ]
  },
  {
   "cell_type": "code",
   "execution_count": null,
   "metadata": {},
   "outputs": [],
   "source": [
    "def endless_numbers():\n",
    "    num = 2\n",
    "    while True:\n",
    "        yield num\n",
    "        num += 2\n",
    "list = endless_numbers()\n",
    "for i in range(10):\n",
    "    print(next(list))"
   ]
  }
 ],
 "metadata": {
  "kernelspec": {
   "display_name": "Python 3",
   "language": "python",
   "name": "python3"
  },
  "language_info": {
   "codemirror_mode": {
    "name": "ipython",
    "version": 3
   },
   "file_extension": ".py",
   "mimetype": "text/x-python",
   "name": "python",
   "nbconvert_exporter": "python",
   "pygments_lexer": "ipython3",
   "version": "3.9.13"
  }
 },
 "nbformat": 4,
 "nbformat_minor": 2
}
