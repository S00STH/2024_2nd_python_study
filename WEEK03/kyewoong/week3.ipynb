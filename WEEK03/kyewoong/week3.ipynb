{
 "cells": [
  {
   "cell_type": "markdown",
   "metadata": {},
   "source": [
    "-모듈 :  import 명령어로 호출"
   ]
  },
  {
   "cell_type": "code",
   "execution_count": null,
   "metadata": {},
   "outputs": [],
   "source": [
    "import datetime             #현재 시각을 나타내는 모듈 호출\n",
    "now = datetime.datetime.now()   \n",
    "\n",
    "if now.hour < 12:           #현재 시각 12시 이전이면 오전 출력\n",
    "    print(\"현재 시각은 {}시로 오전입니다.\".format(now.hour))\n",
    "if now.hour >= 12:          #현재 시각 12시 이후이면 오후 출력\n",
    "    print(\"현재 시각은 {}시로 오후입니다.\".format(now.hour))"
   ]
  },
  {
   "cell_type": "markdown",
   "metadata": {},
   "source": [
    "-if 문 : 조건에 따라 코드를 실행\n",
    "-> 조건 분기 : 조건을 기반으로 실행의 흐름을 변경(조건이 여러 가지인 경우 elif와 else를 이용해 분기)"
   ]
  },
  {
   "cell_type": "code",
   "execution_count": null,
   "metadata": {},
   "outputs": [],
   "source": [
    "import datetime\n",
    "\n",
    "now = datetime.datetime.now()\n",
    "#현재 월에 따라 계절을 나누는 조건분기\n",
    "if 3 <= now.month <= 5 :             \n",
    "    print(\"이번 달은 {}월로 봄입니다.\".format(now.month))\n",
    "if 6 <= now.month <= 8 :\n",
    "    print(\"이번 달은 {}월로 여름입니다.\".format(now.month))\n",
    "if 9 <= now.month <= 11 :\n",
    "    print(\"이번 달은 {}월로 가을입니다.\".format(now.month))\n",
    "if now.month == 12 or 1 <= now.month <= 2 :\n",
    "    print(\"이번 달은 {}월로 겨울입니다.\".format(now.month))"
   ]
  },
  {
   "cell_type": "code",
   "execution_count": null,
   "metadata": {},
   "outputs": [],
   "source": [
    "number = int(input(\"정수를 입력해주세요:\"))\n",
    "# 입력받은 숫자로 배수 구하기\n",
    "if number % 2 == 0 :\n",
    "    print(\"{}은 2로 나누어 떨어지는 숫자\".format(number))   #.format()으로 {}안에 숫자 집어넣기\n",
    "elif number % 3 == 0 :\n",
    "    print(\"{}은 3으로 나누어 떨어지는 숫자\".format(number))\n",
    "elif number % 5 == 0 :\n",
    "    print(\"{}은 5로 나누어 떨어지는 숫자\".format(number))\n",
    "elif number % 7 == 0 :\n",
    "    print(\"{}은 7로 나누어 떨어지는 숫자\".format(number))"
   ]
  },
  {
   "cell_type": "code",
   "execution_count": null,
   "metadata": {},
   "outputs": [],
   "source": [
    "number = int(input(\"정수 입력:\"))\n",
    "\n",
    "if number > 0:\n",
    "  print(\"{}은 양의 정수입니다.\".format(number))\n",
    "elif number == 0:\n",
    "  pass # number가 0이 입력받았을 때\n",
    " #미구현상태\n",
    "else:\n",
    "  print(\"{}은 음의 정수입니다.\".format(number))"
   ]
  },
  {
   "cell_type": "markdown",
   "metadata": {},
   "source": [
    "- 리스트: 자료를 저장할 수 있는 자료\n",
    "-> list_a = [요소1,요소2,요소3,요소4]\n",
    "-> list_a[0] , list_a[1] , ...\n",
    "-> list_a[-4] , list_a[-3] , list_a[-2] , list_a[-1]\n",
    "-> 인덱스를 양수로 표현할 때는 첫번째 요소가 [0]이고 음수로 표현할 때는 마지막 요소가 [-1]이다"
   ]
  },
  {
   "cell_type": "code",
   "execution_count": null,
   "metadata": {},
   "outputs": [],
   "source": [
    "list_a = [273, 32, \"문자열\", \"True\", \"False\"]\n",
    "list_a[0] = \"변경\"  #배열의 맨 첫번째에 \"변경\"이라는 요소 새로 추가\n",
    "print(list_a)\n",
    "print(list_a[-1])\n",
    "print(list_a[2])\n",
    "print(list_a[2][0])  #배열 세번째 요소의 첫번째 문자\n",
    "print(list_a[3][1])  #배열 네번째 요소의 두번째 문자\n",
    "print(list_a[4][0])  #배열 다섯번째 요소의 첫번째 문자"
   ]
  },
  {
   "cell_type": "markdown",
   "metadata": {},
   "source": [
    "-리스트 안에 리스트 사용도 가능하다"
   ]
  },
  {
   "cell_type": "code",
   "execution_count": null,
   "metadata": {},
   "outputs": [],
   "source": [
    "list_b = [[1,2,3],[4,5,6],[7,8,9]]\n",
    "print(list_b[1])  #list_b 안의 두번째 배열 요소 [4,5,6] 출력\n",
    "print(list_b[1][2]) #두번째 배열요소의 세번째 요소인 6 출력"
   ]
  },
  {
   "cell_type": "markdown",
   "metadata": {},
   "source": [
    "-리스트 연산 : 연결(+),반복(*),길이(len())"
   ]
  },
  {
   "cell_type": "code",
   "execution_count": null,
   "metadata": {},
   "outputs": [],
   "source": [
    "list_c = [1,2,3]\n",
    "list_d = [4,5,6]\n",
    "print(list_c + list_d) #리스트 c,d를 연결해서 [1,2,3,4,5,6] 출력\n",
    "print(list_c * 3) #리스트 c를 3번 반복 -> [1,2,3,1,2,3,1,2,3]\n",
    "print(len(list_d)) #리스트 d의 길이를 출력(요소의 갯수)\n",
    "list_c\n",
    "list_c.append(4) #리스트 c 뒤에 4라는 요소 추가->[1,2,3,4]\n",
    "list_c.append(5) #리스트 c 뒤에 5라는 요소 추가->[1,2,3,4,5]\n",
    "list_c.insert(1,20) #리스트 c의 두번째 자리(인덱스 1)에 20을 삽입->[1,20,2,3,4,5]\n",
    "print(list_c)\n",
    "list_d.extend(list_a)\n",
    "print(list_d) #기존의 리스트 d의 요소들([4,5,6])에 리스트 a의 요소를 덧붙임(확장)\n",
    "#리스트에 요소 제거하기-인덱스로 제거하기\n",
    "print(list_a)\n",
    "del list_a[3] #리스트 a의 4번째 요소를 제거(del 키워드 이용)\n",
    "print(list_a) #[\"변경\",32, \"문자열\", \"False\"] 출력\n",
    "list_a.pop(1) #라스트 a의 첫번째 요소를 제거(pop 함수 이용)\n",
    "print(list_a) #[32, \"문자열\", \"False\"] 출력\n",
    "list_A = [10,11,12]\n",
    "list_B = [13,14,15,16]\n",
    "list_A.remove(10) #리스트 A에서 값 10 삭제\n",
    "list_B.clear() #리스트 값 전체 삭제 -> 빈 배열이 됨\n",
    "print(list_A)\n",
    "print(list_B)\n",
    "print(4 in list_A) #리스트 A에 4라는 값이 있는 지 확인"
   ]
  },
  {
   "cell_type": "markdown",
   "metadata": {},
   "source": [
    "-딕셔너리 : 키를 기반으로 값을 저장"
   ]
  },
  {
   "cell_type": "code",
   "execution_count": null,
   "metadata": {},
   "outputs": [],
   "source": [
    "dictionary = {\n",
    "    \"name\":\"전계웅\",\n",
    "    \"ID\" : 20010737\n",
    "}\n",
    "dictionary[\"age\"] = 25 #딕셔너리에 새로운 키 age와 해당 값 25를 새로 추가\n",
    "print(dictionary)\n",
    "del dictionary[\"ID\"] #딕셔너리에 ID라는 키를 제거\n",
    "print(dictionary)\n",
    "print(\"age\" in dictionary) #딕셔너리에 age가 있는지 검사->있으면 True 출력"
   ]
  },
  {
   "cell_type": "markdown",
   "metadata": {},
   "source": [
    "-범위 : range(A,B) -> A부터 B-1까지의 정수로 범위 , range(A,B,C) -> A부터 B-1까지 인데 앞뒤 숫자가 C만큼의 차이"
   ]
  },
  {
   "cell_type": "code",
   "execution_count": null,
   "metadata": {},
   "outputs": [],
   "source": [
    "output = \"\"\n",
    "for i in range(1,5):  #i 값으로 1부터 4까지 반복\n",
    "  for j in range(4,i,-1):  #j 값으로 증가하는 i 값에 따라 4부터 1씩 감소\n",
    "      output += ' '         #j가 14부터 하나씩 내려갈때 마다 공백 출력\n",
    "  for k in range(0, 2 * i -1): \n",
    "      output += '*'    #k 값이 반복됨에 따라 * 출력\n",
    "  output += '/n'\n",
    "\n",
    "print(output)"
   ]
  },
  {
   "cell_type": "code",
   "execution_count": null,
   "metadata": {},
   "outputs": [],
   "source": [
    "arr = [273, 32, 103, 57, 52]\n",
    "for element in arr:   #배열 요소를 하나씩 반복하여 출력\n",
    "    print(element)   "
   ]
  },
  {
   "cell_type": "markdown",
   "metadata": {},
   "source": [
    "-while 문 -> while 조건식:\n",
    "                실행 문장"
   ]
  },
  {
   "cell_type": "code",
   "execution_count": null,
   "metadata": {},
   "outputs": [],
   "source": [
    "numbers = [5,15,6,20,7,25]\n",
    "\n",
    "for number in numbers:\n",
    "    if number < 10:\n",
    "        continue    #number가 10보다 작으면 계속 반복\n",
    "    print(number)   #10보다 큰 수가 출력된다"
   ]
  },
  {
   "cell_type": "code",
   "execution_count": null,
   "metadata": {},
   "outputs": [],
   "source": [
    "example_list = [\"a\",\"b\",\"c\",\"d\"]\n",
    "print(enumerate(example_list))\n",
    "\n",
    "array = [i*i for i in range(0,6,2)] #0부터 5까지 i를 2씩 올리며 i*i 값을 출력\n",
    "print(array)\n",
    "\n",
    "array_a = [\"A\",\"B\",\"C\",\"D\",\"E\"]\n",
    "output = [str for str in array_a if str != \"D\"]\n",
    "print(output) #배열 안에 \"D\"가 아닌것만 출력\n",
    "\n",
    "num = [1,2,3,4,5,6]\n",
    "r_num = reversed(num)\n",
    "print(\"reversed numbers:\",r_num) #이터레이터로 반환\n",
    "print(next(r_num)) #이터레이터는 반복문의 매개변수로 전달이 가능하고 next()함수로 내부의 요소를 하나씩 꺼낼 수 있다\n",
    "\n",
    "print(\"::\".join([\"A\",\"B\",\"C\"]))  #리스트 요소들 사이에 \"::\"을 넣어서 출력"
   ]
  },
  {
   "cell_type": "markdown",
   "metadata": {},
   "source": [
    "- 추가 스터디 내용"
   ]
  },
  {
   "cell_type": "markdown",
   "metadata": {},
   "source": [
    "-변수 a는 리스트의 메모리 주소값을 저장하므로 변수 a를 b에 저장하면 b도 동일한 리스트를 가리킨다."
   ]
  },
  {
   "cell_type": "code",
   "execution_count": null,
   "metadata": {},
   "outputs": [],
   "source": [
    "a = [1,2,3]\n",
    "b = a\n",
    "a[2] = 4  #배열 a(=b)의 2번째 인덱스(세번째 요소) 값을 4로\n",
    "print(b)"
   ]
  },
  {
   "cell_type": "code",
   "execution_count": null,
   "metadata": {},
   "outputs": [],
   "source": [
    "nums = [1,2,3]\n",
    "nums.append(nums)\n",
    "print(nums)\n",
    "print(nums[3]) #3번째 인덱스로 추가된 [1,2,3] 출력\n",
    "print(nums[::-1]) #슬라이싱: 처음 인덱스부터 마지막 인덱스까지 -1단계(역순)출력\n",
    "nums.extend(nums) #자기 자신도 포함 가능\n",
    "print(nums[:])  #슬라이싱: 처음부터 끝까지"
   ]
  }
 ],
 "metadata": {
  "kernelspec": {
   "display_name": "Python 3.12.6 64-bit (windows store)",
   "language": "python",
   "name": "python3"
  },
  "language_info": {
   "codemirror_mode": {
    "name": "ipython",
    "version": 3
   },
   "file_extension": ".py",
   "mimetype": "text/x-python",
   "name": "python",
   "nbconvert_exporter": "python",
   "pygments_lexer": "ipython3",
   "version": "3.12.7"
  },
  "vscode": {
   "interpreter": {
    "hash": "8f85ee4129b01a0be6ff94339c5f692273a53d544ed2d537055393834590bd04"
   }
  }
 },
 "nbformat": 4,
 "nbformat_minor": 2
}
