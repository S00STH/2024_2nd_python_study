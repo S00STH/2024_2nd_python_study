{
 "cells": [
  {
   "cell_type": "markdown",
   "metadata": {},
   "source": [
    "bool:참과 거짓을 나타내는 자료형,주로 조건문의 반환 값으로 사용.\n",
    "bool에서 변하지 않는 참과 거짓\n",
    "-문자열,리스트,튜플,딕셔너리 등의 값이 비어 있다면 FALSE(거짓)\n",
    "-문자열,리스트,튜플,딕셔너리 등의 값이 비어 있지 않다면 TRUE(참)\n",
    "-IF문(조건문)으로 참,거짓 판별\n"
   ]
  },
  {
   "cell_type": "code",
   "execution_count": 1,
   "metadata": {},
   "outputs": [
    {
     "name": "stdout",
     "output_type": "stream",
     "text": [
      "True\n"
     ]
    }
   ],
   "source": [
    "if \"python\" :\n",
    "  print(\"True\")\n",
    "else :\n",
    "  print(\"False\")\n",
    "# if문(조건문)에서 True면 내부 코드 실행, False면 내부 코드 실행하지 않고 통과\n",
    "# \"python\"이라는 문자열은 값이 비어 있지 않음 -> True"
   ]
  },
  {
   "cell_type": "code",
   "execution_count": 2,
   "metadata": {},
   "outputs": [
    {
     "name": "stdout",
     "output_type": "stream",
     "text": [
      "False\n"
     ]
    }
   ],
   "source": [
    "# if문(조건문)에서 True면 내부 코드 실행, False면 내부 코드 실행하지 않고 통과\n",
    "# []이라는 빈 리스트는 값이 비어 있음 -> False\n",
    "if [] :\n",
    "  print(\"True\")\n",
    "else :\n",
    "  print(\"False\")"
   ]
  },
  {
   "cell_type": "code",
   "execution_count": 3,
   "metadata": {},
   "outputs": [
    {
     "name": "stdout",
     "output_type": "stream",
     "text": [
      "True\n"
     ]
    }
   ],
   "source": [
    "# if문(조건문)에서 True면 내부 코드 실행, False면 내부 코드 실행하지 않고 통과\n",
    "# 이분법에서 1은 True이며 0은 False를 의미\n",
    "if 1 :\n",
    "  print(\"True\")\n",
    "else :\n",
    "  print(\"False\")"
   ]
  },
  {
   "cell_type": "code",
   "execution_count": 4,
   "metadata": {},
   "outputs": [
    {
     "data": {
      "text/plain": [
       "False"
      ]
     },
     "execution_count": 4,
     "metadata": {},
     "output_type": "execute_result"
    }
   ],
   "source": [
    "# 조건문이 아닌 bool 함수를 통해 True, False를 출력할 수 있음\n",
    "# ''이라는 빈 문자열은 값이 비어 있음 -> False\n",
    "bool('')"
   ]
  },
  {
   "cell_type": "code",
   "execution_count": 5,
   "metadata": {},
   "outputs": [
    {
     "data": {
      "text/plain": [
       "True"
      ]
     },
     "execution_count": 5,
     "metadata": {},
     "output_type": "execute_result"
    }
   ],
   "source": [
    "# 조건문이 아닌 bool 함수를 통해 True, False를 출력할 수 있음\n",
    "# [1,2,3]이라는 리스트는 값이 비어 있지 않음 -> True\n",
    "bool([1,2,3])"
   ]
  },
  {
   "cell_type": "markdown",
   "metadata": {},
   "source": [
    "IF문\n",
    "-조건이 참일 경우만 실행\n",
    "-IF문에 속한 모든 문장은 들여쓰기 필수\n",
    "-IF 조건문 뒤에는 반드시 : 삽임"
   ]
  },
  {
   "cell_type": "code",
   "execution_count": 8,
   "metadata": {},
   "outputs": [
    {
     "name": "stdout",
     "output_type": "stream",
     "text": [
      "americano\n",
      "cafe latte\n",
      "cold brew coffee\n"
     ]
    }
   ],
   "source": [
    "caffeine = True\n",
    "\n",
    "if caffeine :\n",
    "    print(\"americano\")\n",
    "    print(\"cafe latte\")\n",
    "    print(\"cold brew coffee\")"
   ]
  },
  {
   "cell_type": "markdown",
   "metadata": {},
   "source": [
    "else 문\n",
    "-else문은 if문 뒤에 사용하며,if문 조건이 거짓을때 실행되는 부분"
   ]
  },
  {
   "cell_type": "code",
   "execution_count": null,
   "metadata": {},
   "outputs": [],
   "source": [
    "elif문\n",
    "-elif 문은 세 개 이상의 조건을 연결할 때 사용"
   ]
  },
  {
   "cell_type": "code",
   "execution_count": null,
   "metadata": {},
   "outputs": [],
   "source": [
    "score = \"C\"\n",
    "\n",
    "if score == \"A\" :\n",
    "  print(\"A class\")\n",
    "elif score == \"B\" :\n",
    "  print(\"B class\")\n",
    "elif score == \"C\" :\n",
    "  print(\"C class\")\n",
    "else :\n",
    "  print(\"D class\")"
   ]
  },
  {
   "cell_type": "markdown",
   "metadata": {},
   "source": [
    "in/not in 연산자\n",
    "-데이터 안에 찾고자 하는 것이 있는지 없는지 확인하는 연산자"
   ]
  },
  {
   "cell_type": "code",
   "execution_count": null,
   "metadata": {},
   "outputs": [],
   "source": [
    "# python 문자열에 k가 포함되어 있지 않다면 True, 포함 되어 있다면 False 출력\n",
    "if 'k' not in 'python':\n",
    "    print(True)\n",
    "else:\n",
    "    print(False)"
   ]
  },
  {
   "cell_type": "code",
   "execution_count": null,
   "metadata": {},
   "outputs": [],
   "source": [
    "관계 연산자\n",
    "-두 개의 값을 비교하여 그 값을 참 또는 거짓으로 판별하는 연산자\n",
    "ex) ==, !=,<,>,>=,<="
   ]
  },
  {
   "cell_type": "markdown",
   "metadata": {},
   "source": [
    "리스트 자료형(list)\n",
    "-여러 자료형을 담을 수 있고,여러 요소를 하나의 변수로 사용하고 싶을때 사용"
   ]
  },
  {
   "cell_type": "markdown",
   "metadata": {},
   "source": [
    "리스트를 생성하는 방법은 \n",
    "-대괄호[]에 자료를 쉼표로 구분하여 입력\n",
    "-대괄호[]내부에 넣는 자료를 요소라고 함"
   ]
  },
  {
   "cell_type": "code",
   "execution_count": 11,
   "metadata": {},
   "outputs": [
    {
     "name": "stdout",
     "output_type": "stream",
     "text": [
      "['문자열', False, 3, 5.2]\n",
      "5.2\n",
      "1\n",
      "3\n",
      "2\n"
     ]
    }
   ],
   "source": [
    "list_a = [\"문자열\", False, 3, 5.2]\n",
    "list_a[0] = \"문자열\" #왼쪽부터 순차적으로 0,1,2 등등의 인덱스를 갖는다\n",
    "print(list_a)\n",
    "print(list_a[-1])  #음수는 오른쪽부터\n",
    "\n",
    "\n",
    "list_b = [[3,3],[7,7],[6,1]] # 리스트안에 리스트를 넣을 수 있음\n",
    "print(list_b[2][1])\n",
    "\n",
    "print(len(list_b)) # 1차원에 3개\n",
    "print(len(list_b[2])) # 2차원에 2개"
   ]
  },
  {
   "cell_type": "code",
   "execution_count": 13,
   "metadata": {},
   "outputs": [
    {
     "name": "stdout",
     "output_type": "stream",
     "text": [
      "[0, 1, 2, 3, 4, 5, 6]\n",
      "[0, 1, 2, 3, 4, 5, 6]\n",
      "[0, 1, 2, 3, 4, 6, 0, 1, 2, 3, 4, 5, 6]\n"
     ]
    }
   ],
   "source": [
    "list_A = [1,2, 3, 4,5]\n",
    "list_A.append(6)    # 리스트의 맨 뒤에 6 추가\n",
    "list_A.insert(0,0)  # 리스트의 0번째에 0 추가\n",
    "print(list_A)\n",
    "\n",
    "print(list_A+list_B)    # 리스트끼리의 덧셈\n",
    "list_A.extend(list_A)   # 리스트 A에 A를 추가\n",
    "\n",
    "\n",
    "list_A.remove(5)       # A에서 값 5 삭제\n",
    "print(list_A)   \n",
    "\n",
    "list_A.clear()          # 리스트 인덱스 전체 제거\n",
    "\n"
   ]
  },
  {
   "cell_type": "markdown",
   "metadata": {},
   "source": [
    "딕셔너리 자료형\n",
    "-리스트가 '인덱스'기반으로 값을 저장하는 거였다면, 딕셔너리는 '키'기반으로 갑을 저장\n",
    "-'BOOK'이라는 단어에 '책'이라는 뜻이 부합되듯이 KEY는 'BOOK'이고 value는 '책'이다"
   ]
  },
  {
   "cell_type": "code",
   "execution_count": 14,
   "metadata": {},
   "outputs": [],
   "source": [
    "# 딕셔너리 선언\n",
    "myDictionary = {\n",
    "    \"name\" : \"taeo\",\n",
    "    \"job\" : \"student\"\n",
    "}"
   ]
  },
  {
   "cell_type": "code",
   "execution_count": 15,
   "metadata": {},
   "outputs": [
    {
     "name": "stdout",
     "output_type": "stream",
     "text": [
      "taeo\n",
      "student\n"
     ]
    }
   ],
   "source": [
    "# 딕셔너리 값 출력\n",
    "print(myDictionary['name'])\n",
    "print(myDictionary['job'])"
   ]
  },
  {
   "cell_type": "code",
   "execution_count": 18,
   "metadata": {},
   "outputs": [
    {
     "name": "stdout",
     "output_type": "stream",
     "text": [
      "{'name': 'taeo', 'job': 'student', 'food': ['apple', 'banana']}\n"
     ]
    }
   ],
   "source": [
    "# 딕셔너리 값 추가\n",
    "myDictionary[\"food\"] = [\"apple\", \"banana\"]\n",
    "print(myDictionary)"
   ]
  },
  {
   "cell_type": "markdown",
   "metadata": {},
   "source": [
    "for문 : 변수에 대입되어 '반복적으로 문장'수행\n",
    "for 변수 in 리스트(또는 문자열);\n",
    " print(~~~~~)"
   ]
  },
  {
   "cell_type": "code",
   "execution_count": 19,
   "metadata": {},
   "outputs": [
    {
     "name": "stdout",
     "output_type": "stream",
     "text": [
      "파이썬 스터디\n",
      "파이썬 스터디\n",
      "파이썬 스터디\n",
      "파이썬 스터디\n",
      "파이썬 스터디\n"
     ]
    }
   ],
   "source": [
    "for i in range(5):\n",
    "  print(\"파이썬 스터디\")\n",
    "# range() 함수를 사용하여 0부터 5미만까지 5번 반복 "
   ]
  },
  {
   "cell_type": "code",
   "execution_count": 20,
   "metadata": {},
   "outputs": [
    {
     "name": "stdout",
     "output_type": "stream",
     "text": [
      "K\n",
      "o\n",
      "r\n",
      "e\n",
      "a\n"
     ]
    }
   ],
   "source": [
    "# myList 변수에 국가명인 'Korea' 문자열을 넣고 반복문으로 출력\n",
    "myList = 'Korea'\n",
    "\n",
    "for a in myList:\n",
    "  print(a)"
   ]
  },
  {
   "cell_type": "markdown",
   "metadata": {},
   "source": [
    "while 반복문: 조건을 만족하는 한,반복적으로 문장을 실행,불 표현식이 참인 동안 문장 계속 반복, 불표현식이 거짓이 되면 반복문 종료"
   ]
  },
  {
   "cell_type": "code",
   "execution_count": 22,
   "metadata": {},
   "outputs": [
    {
     "name": "stdout",
     "output_type": "stream",
     "text": [
      "count: 0\n",
      "count: 1\n",
      "count: 2\n",
      "count: 3\n",
      "count: 4\n"
     ]
    }
   ],
   "source": [
    "# count 변수가 5가 될 때까지 반복하여 count 출력\n",
    "count = 0\n",
    "\n",
    "while count < 5:\n",
    "  print(\"count:\", count)\n",
    "  count = count + 1"
   ]
  },
  {
   "cell_type": "code",
   "execution_count": 23,
   "metadata": {},
   "outputs": [
    {
     "name": "stdout",
     "output_type": "stream",
     "text": [
      "a =  11 \t count = 1\n",
      "a =  12 \t count = 2\n",
      "a =  13 \t count = 3\n",
      "a =  14 \t count = 4\n",
      "a =  15 \t count = 5\n",
      "a =  16 \t count = 6\n",
      "a =  17 \t count = 7\n",
      "a =  18 \t count = 8\n",
      "a =  19 \t count = 9\n",
      "a =  20 \t count = 10\n",
      "a =  21 \t count = 11\n",
      "a =  22 \t count = 12\n",
      "a =  23 \t count = 13\n",
      "a =  24 \t count = 14\n",
      "a =  25 \t count = 15\n",
      "a =  26 \t count = 16\n",
      "a =  27 \t count = 17\n",
      "a =  28 \t count = 18\n",
      "a =  29 \t count = 19\n",
      "a =  30 \t count = 20\n",
      "반복문 종료\n"
     ]
    }
   ],
   "source": [
    "a = 10\n",
    "count = 0\n",
    "\n",
    "while a > 3:\n",
    "  count = count + 1\n",
    "  a = a + 1\n",
    "  if count > 20:\n",
    "    break # break 키워드를 통해 'count가 20보다 클때'무한 반복문을 빠져나옴\n",
    "  print(\"a = \", a, \"\\t count =\", count)\n",
    "\n",
    "print(\"반복문 종료\")"
   ]
  },
  {
   "cell_type": "markdown",
   "metadata": {},
   "source": [
    "# 3주차 추가 스터디 내용\n",
    "1. 다음의 경우 b의 출력은 어떻게 될까요? 이유에 대해 자세히 공부해주세요. 힌트: 변수와 메모리 주소\n",
    "```python\n",
    "a = [1, 2, 3]\n",
    "b = a\n",
    "a[2] = 4"
   ]
  },
  {
   "cell_type": "markdown",
   "metadata": {},
   "source": [
    "변수 a는 리스트의 메모리 주소값을 저장한다.\n",
    "따라서, a를 또 다른 변수 b에 저장할 경우, b와 A는 같은 리스트를 가리키게 된다. (a=[1,2,4],b=[1,2,4])"
   ]
  },
  {
   "cell_type": "code",
   "execution_count": null,
   "metadata": {},
   "outputs": [],
   "source": []
  },
  {
   "cell_type": "markdown",
   "metadata": {},
   "source": [
    "2. 리스트의 요소엔 type과 관계없이 다양한 객체를 포함할 수 있습니다. 숫자, 문자열, 리스트, 심지어 함수까지!\n",
    "\n",
    "그리고 리스트 객체 본인도 포함시킬 수 있습니다...\n",
    "\n",
    "```python\n",
    "numbers = [1,2,3]\n",
    "numbers.append(numbers)\n",
    "print(numbers)\n",
    "print(numbers[3])\n",
    "```\n",
    "\n",
    "이런 numbers에 리스트 슬라이싱, append, 확장 등 리스트 기법들을 사용해보고 리스트에 저장되는 것이 정확히 무엇인지 생각해봅시다."
   ]
  },
  {
   "cell_type": "code",
   "execution_count": 38,
   "metadata": {},
   "outputs": [
    {
     "name": "stdout",
     "output_type": "stream",
     "text": [
      "[1, 2, 3]\n",
      "[1, 2, 3, [...]]\n",
      "2373290470144\n",
      "[1, 2, 3, [...]]\n",
      "[1, 2, 3, [1, 2, 3, [...]]]\n",
      "[1, 2, 3, [...], 1, 2, 3, [...]]\n",
      "None\n",
      "140718291061520\n"
     ]
    }
   ],
   "source": [
    "numbers = [1,2,3]\n",
    "print(numbers)\n",
    "numbers.append(numbers) #append\n",
    "print(numbers)\n",
    "print(id(numbers))\n",
    "print(numbers[3]) #자기 자신을 출력한다\n",
    "print(numbers[0:4])    #리스트 슬라이싱 \n",
    "b=numbers.extend(numbers) #확장\n",
    "print(numbers) #확장된 형태로 출력됨됨\n",
    "print(b) #list.extend()는 리스트를 수정하지만 반환값은 None이다\n",
    "print(id(b))\n"
   ]
  },
  {
   "cell_type": "markdown",
   "metadata": {},
   "source": [
    "리스트는 파이썬의 모든 객체를 포함할수 있다."
   ]
  }
 ],
 "metadata": {
  "kernelspec": {
   "display_name": "my_env",
   "language": "python",
   "name": "python3"
  },
  "language_info": {
   "codemirror_mode": {
    "name": "ipython",
    "version": 3
   },
   "file_extension": ".py",
   "mimetype": "text/x-python",
   "name": "python",
   "nbconvert_exporter": "python",
   "pygments_lexer": "ipython3",
   "version": "3.11.9"
  }
 },
 "nbformat": 4,
 "nbformat_minor": 2
}
