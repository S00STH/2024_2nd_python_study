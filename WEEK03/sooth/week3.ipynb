{
 "cells": [
  {
   "cell_type": "markdown",
   "metadata": {},
   "source": [
    "# 3.조건문"
   ]
  },
  {
   "cell_type": "markdown",
   "metadata": {},
   "source": [
    "### 1. 불 (Boolean) : True(참) & False(거짓)\n",
    "#### (1) 불 만들기 : 비교 연산자"
   ]
  },
  {
   "cell_type": "code",
   "execution_count": 4,
   "metadata": {},
   "outputs": [
    {
     "name": "stdout",
     "output_type": "stream",
     "text": [
      "False\n",
      "True\n",
      "True\n",
      "False\n"
     ]
    }
   ],
   "source": [
    "print(10 == 100)\n",
    "print(10 != 100)\n",
    "print(10 < 100)\n",
    "print(10 > 100)"
   ]
  },
  {
   "cell_type": "code",
   "execution_count": 5,
   "metadata": {},
   "outputs": [
    {
     "name": "stdout",
     "output_type": "stream",
     "text": [
      "True\n",
      "True\n",
      "True\n",
      "False\n"
     ]
    }
   ],
   "source": [
    "# 파이썬은 문자열에도 비교 연산자 적용 가능 : 사전 순서로 앞에 있는 것이 작은 값을 갖는다.\n",
    "print(\"가방\" == \"가방\")\n",
    "print(\"가방\" != \"하마\")\n",
    "print(\"가방\" < \"하마\")\n",
    "print(\"가방\" > \"하마\")"
   ]
  },
  {
   "cell_type": "markdown",
   "metadata": {},
   "source": [
    "#### (2) 불 연산하기 : 논리 연산자\n",
    "- not 연산자 : 단항 연산자 (주의 : 일반적으로 비교 연산자로 불 자료형의 변수를 만들고, 이 변수에 not 연산자를 적용한다.)"
   ]
  },
  {
   "cell_type": "code",
   "execution_count": 8,
   "metadata": {},
   "outputs": [
    {
     "name": "stdout",
     "output_type": "stream",
     "text": [
      "under_20: True\n",
      "not uner_20: False\n"
     ]
    }
   ],
   "source": [
    "x = 10\n",
    "under_20 = x < 20 # 비교 연산자로 불 자료형 변수 만들기\n",
    "print(\"under_20:\", under_20)\n",
    "print(\"not uner_20:\", not under_20) # 불 자료형 변수에 not 적용"
   ]
  },
  {
   "cell_type": "markdown",
   "metadata": {},
   "source": [
    "- and 연산자 : 양쪽 변의 값이 모두 참일 때만 True 출력\n",
    "- or 연산자 : 둘 중 하나만 참이어도 Ture 출력"
   ]
  },
  {
   "cell_type": "markdown",
   "metadata": {},
   "source": [
    "### 2. if 조건문 : 조건 분기 (조건을 기반으로 실행의 흐름을 변경하는 것)\n",
    "#### (1)if 조건문 형식\n",
    "\n",
    "if 불 값이 나오는 표현식: (주의 : if 조건문 뒤에는 반드시 콜론(:)을 붙여줘야 한다.)\n",
    "\n",
    "    불 값이 참일 때 실행할 문장 (앞에 4칸 들여씌기 필수)\n",
    "\n",
    "    불 값이 참일 때 실행할 문장"
   ]
  },
  {
   "cell_type": "code",
   "execution_count": 10,
   "metadata": {},
   "outputs": [
    {
     "name": "stdout",
     "output_type": "stream",
     "text": [
      "양수입니다.\n"
     ]
    }
   ],
   "source": [
    "number = int(input(\"정수 입력 :\"))\n",
    "\n",
    "if number > 0:\n",
    "    print(\"양수입니다.\")\n",
    "if number < 0:\n",
    "    print(\"음수입니다.\")\n",
    "if number == 0:\n",
    "    print(\"0입니다.\")"
   ]
  },
  {
   "cell_type": "markdown",
   "metadata": {},
   "source": [
    "#### (2) if~else문\n",
    "\n",
    "if 조건:\n",
    "\n",
    "조건이 참일 때 실행할 문장 (4간 들여쓰기)\n",
    "\n",
    "else:\n",
    "\n",
    "조건이 거짓일 때 실행할 문장 (4칸 들여쓰기)"
   ]
  },
  {
   "cell_type": "code",
   "execution_count": 11,
   "metadata": {},
   "outputs": [
    {
     "name": "stdout",
     "output_type": "stream",
     "text": [
      "홀수입니다.\n"
     ]
    }
   ],
   "source": [
    "number = int(input(\"정수 입력:\"))\n",
    "\n",
    "if number % 2 == 0:\n",
    "    print(\"짝수입니다.\")\n",
    "else:\n",
    "    print(\"홀수입니다.\")"
   ]
  },
  {
   "cell_type": "markdown",
   "metadata": {},
   "source": [
    "#### (3) elif 구문\n",
    "\n",
    "if 조건A:\n",
    "\n",
    "조건 A가 참일 때 실행할 문장\n",
    "\n",
    "elif 조건B :\n",
    "\n",
    "조건 B가 참일 때 실행할 문장\n",
    "\n",
    "elif 조건C :\n",
    "\n",
    "조건 C가 참일 때 실행할 문장\n",
    "\n",
    ".\n",
    "\n",
    ".\n",
    "\n",
    ".\n",
    "\n",
    "else:\n",
    "\n",
    "모든 조건이 거짓일 때 문장 "
   ]
  },
  {
   "cell_type": "code",
   "execution_count": 12,
   "metadata": {},
   "outputs": [
    {
     "name": "stdout",
     "output_type": "stream",
     "text": [
      "가을입니다.\n"
     ]
    }
   ],
   "source": [
    "import datetime\n",
    "now = datetime.datetime.now()\n",
    "month = now.month\n",
    "if 3 <= month <= 5:\n",
    "    print(\"봄입니다.\")\n",
    "elif 6 <= month <= 8:\n",
    "    print(\"여름입니다.\")\n",
    "elif 9 <= month <= 11:\n",
    "    print(\"가을입니다.\")\n",
    "else:\n",
    "    print(\"겨울입니다.\")"
   ]
  },
  {
   "cell_type": "markdown",
   "metadata": {},
   "source": [
    "#### (4) False로 변환되는 값 : if 조건문의 매개변수에 불이 아닌 다른 값이 올 때는 자동으로 이를 불로 변환해서 처리한다.\n",
    "\n",
    "flase로 변환되는 값은 None, 숫자 0과 0.0, 빈 컨테이너(빈 문자열, 빈 바이트열, 빈 리스트, 빈 튜플, 빈 딕셔너리 등)이다. 이 외에는 모두 True로 변환된다."
   ]
  },
  {
   "cell_type": "code",
   "execution_count": 14,
   "metadata": {},
   "outputs": [
    {
     "name": "stdout",
     "output_type": "stream",
     "text": [
      "# if 조건문에 0 넣기\n",
      "0은 False로 변환된다.\n",
      "\n",
      "# if 조건문에 빈 문자열 넣기\n",
      "빈 문자열은 False로 변환된다.\n"
     ]
    }
   ],
   "source": [
    "print(\"# if 조건문에 0 넣기\")\n",
    "if 0:\n",
    "    print(\"0은 True로 변환된다.\")\n",
    "else:\n",
    "    print(\"0은 False로 변환된다.\")\n",
    "print()\n",
    "\n",
    "print(\"# if 조건문에 빈 문자열 넣기\")\n",
    "if \"\":\n",
    "    print(\"빈 문자열은 True로 변환된다.\")\n",
    "else:\n",
    "    print(\"빈 문자열은 False로 변환된다.\")"
   ]
  },
  {
   "cell_type": "markdown",
   "metadata": {},
   "source": [
    "#### (5) pass : \"프로그래밍의 골격을 잡아놓고 나중에 개발하겠다.\"라는 의미, pass를 만나면 아무 것도 하지 않는다."
   ]
  },
  {
   "cell_type": "code",
   "execution_count": 15,
   "metadata": {},
   "outputs": [],
   "source": [
    "number = int(input(\"정수 입력:\"))\n",
    "if number > 0:\n",
    "    pass\n",
    "else:\n",
    "    pass"
   ]
  },
  {
   "cell_type": "markdown",
   "metadata": {},
   "source": [
    "- raise notimplementerror : \"아직 구현하지 않은 부분이다.\"라는 오류를 강제로 발생시킬 수 있다."
   ]
  },
  {
   "cell_type": "markdown",
   "metadata": {},
   "source": [
    "# <확인 문제>"
   ]
  },
  {
   "cell_type": "code",
   "execution_count": 16,
   "metadata": {},
   "outputs": [
    {
     "name": "stdout",
     "output_type": "stream",
     "text": [
      "12\n"
     ]
    }
   ],
   "source": [
    "x = 2\n",
    "y = 10\n",
    "if x > 4:\n",
    "    if y > 2:\n",
    "        print(x * y)\n",
    "else:\n",
    "    print(x + y)"
   ]
  },
  {
   "cell_type": "code",
   "execution_count": 18,
   "metadata": {},
   "outputs": [
    {
     "name": "stdout",
     "output_type": "stream",
     "text": [
      "조건에 맞습니다.\n"
     ]
    }
   ],
   "source": [
    "x = 13\n",
    "if 10 < x <20:\n",
    "    print(\"조건에 맞습니다.\")"
   ]
  },
  {
   "cell_type": "code",
   "execution_count": 21,
   "metadata": {},
   "outputs": [
    {
     "name": "stdout",
     "output_type": "stream",
     "text": [
      "용 띠입니다.\n"
     ]
    }
   ],
   "source": [
    "str_input = int(input(\"태어난 해를 입력해 주세요\"))\n",
    "birth_year = str_input\n",
    "\n",
    "if birth_year % 12 == 0:\n",
    "    print(\"원숭이 띠입니다.\")\n",
    "elif birth_year % 12 == 1:\n",
    "    print(\"닭 띠입니다.\")\n",
    "elif birth_year % 12 == 2:\n",
    "    print(\"개 띠입니다.\")\n",
    "elif birth_year % 12 == 3:\n",
    "    print(\"돼지 띠입니다.\")\n",
    "elif birth_year % 12 == 4:\n",
    "    print(\"쥐 띠입니다.\")\n",
    "elif birth_year % 12 == 5:\n",
    "    print(\"쥐 띠입니다.\")\n",
    "elif birth_year % 12 == 6:\n",
    "    print(\"소 띠입니다.\")\n",
    "elif birth_year % 12 == 7:\n",
    "    print(\"범 띠입니다.\")\n",
    "elif birth_year % 12 == 8:\n",
    "    print(\"토끼 띠입니다.\")\n",
    "elif birth_year % 12 == 9:\n",
    "    print(\"용 띠입니다.\")\n",
    "elif birth_year % 12 == 10:\n",
    "    print(\"뱀 띠입니다.\")\n",
    "elif birth_year % 12 == 11:\n",
    "    print(\"말 띠입니다.\")\n",
    "else:\n",
    "    print(\"양 띠입니다.\")"
   ]
  },
  {
   "cell_type": "markdown",
   "metadata": {},
   "source": [
    "# <과제>\n",
    "\n",
    "#### 1. 다음의 경우 b의 출력은 어떻게 될까요? 이유에 대해 자세히 공부해주세요. 힌트: 변수와 메모리 주소"
   ]
  },
  {
   "cell_type": "code",
   "execution_count": 1,
   "metadata": {},
   "outputs": [],
   "source": [
    "a = [1, 2, 3] # 리스트 [1, 2, 3]을 변수 a에 할당 -> a는 이 리스트 객체의 메모리 주소를 참조\n",
    "b = a # b도 a와 동일한 메모리 주소를 참조 -> b는 새로운 리스트를 만들지 않고, a가 가리키는 동일한 리스트를 가리킴\n",
    "a[2] = 4 # a와 b 모두 동일한 리스트 [1, 2, 4] 참조"
   ]
  },
  {
   "cell_type": "markdown",
   "metadata": {},
   "source": [
    "따라서 b를 출력하면 [1, 2, 4]가 출력된다.\n",
    "\n",
    "메모리와 변수 참조의 개념 : Python에서 변수는 값을 직접 저장하는 것이 아니라 그 값이 저장된 메모리 주소를 참조한다. 따라서 두 변수가 동일한 리스트를 가리킬 때, 한 변수를 통해 리스트를 수정하면, 다른 변수에서도 그 변경 사항이 반영된다."
   ]
  },
  {
   "cell_type": "markdown",
   "metadata": {},
   "source": [
    "#### 2. 리스트의 요소엔 type과 관계없이 다양한 객체를 포함할 수 있습니다. 숫자, 문자열, 리스트, 심지어 함수까지! 그리고 리스트 객체 본인도 포함시킬 수 있습니다.. 아래와 같은 numbers에 리스트 슬라이싱, append, 확장 등 리스트 기법들을 사용해보고 리스트에 저장되는 것이 정확히 무엇인지 생각해봅시다.\n",
    "numbers = [1,2,3]\n",
    "\n",
    "numbers.append(numbers)\n",
    "\n",
    "print(numbers)\n",
    "\n",
    "print(numbers[3])"
   ]
  },
  {
   "cell_type": "markdown",
   "metadata": {},
   "source": [
    "(1) append : 이 코드는 리스트 numbers의 끝에 자기 자신인 numbers 리스트를 추가"
   ]
  },
  {
   "cell_type": "code",
   "execution_count": 8,
   "metadata": {},
   "outputs": [
    {
     "name": "stdout",
     "output_type": "stream",
     "text": [
      "[1, 2, 3, [...]]\n"
     ]
    }
   ],
   "source": [
    "numbers = [1,2,3]\n",
    "numbers.append(numbers)\n",
    "print(numbers)"
   ]
  },
  {
   "cell_type": "markdown",
   "metadata": {},
   "source": [
    "네 번째 요소 [...]는 numbers 리스트 자체를 가리키며, 이를 '순환 참조'라고 함"
   ]
  },
  {
   "cell_type": "markdown",
   "metadata": {},
   "source": [
    "(2) 슬라이싱"
   ]
  },
  {
   "cell_type": "code",
   "execution_count": 9,
   "metadata": {},
   "outputs": [
    {
     "name": "stdout",
     "output_type": "stream",
     "text": [
      "[1, 2, 3, [...]]\n"
     ]
    }
   ],
   "source": [
    "print(numbers[3])"
   ]
  },
  {
   "cell_type": "markdown",
   "metadata": {},
   "source": [
    "리스트의 요소 순서는 0번째부터이다. numbers = [1,2,3,[...]]이고 numbers[3]은 numbers 리스트 자체를 가르키므로 numbers[3]=[1,2,3,[...]]이다."
   ]
  },
  {
   "cell_type": "markdown",
   "metadata": {},
   "source": [
    "리스트는 \"참조\"를 저장하는 자료구조이다. 즉 리스트의 각 요소는 값을 직접 저장하는 것이 아니라 해당 값이 위치한 메모리 주소(참조)를 저장한다."
   ]
  }
 ],
 "metadata": {
  "kernelspec": {
   "display_name": "prompt",
   "language": "python",
   "name": "python3"
  },
  "language_info": {
   "codemirror_mode": {
    "name": "ipython",
    "version": 3
   },
   "file_extension": ".py",
   "mimetype": "text/x-python",
   "name": "python",
   "nbconvert_exporter": "python",
   "pygments_lexer": "ipython3",
   "version": "3.11.9"
  }
 },
 "nbformat": 4,
 "nbformat_minor": 2
}
