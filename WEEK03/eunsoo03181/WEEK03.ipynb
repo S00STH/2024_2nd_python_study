{
 "cells": [
  {
   "cell_type": "markdown",
   "metadata": {},
   "source": [
    "# **Python 3주차**\n",
    "\n",
    "## 1. 조건문<br>\n",
    "\n",
    "### boolean\n",
    "흔히 bool이라고 불리는 불리언형은 True와 False 값을 갖는 자료형입니다.\n",
    "<br>\n",
    "<br>\n",
    "\n",
    "### 비교 연산자\n",
    "비교 연산자는 다음과 같이 있습니다. 비교 연산자의 연산의 반환값은 boolean입니다."
   ]
  },
  {
   "cell_type": "code",
   "execution_count": 2,
   "metadata": {},
   "outputs": [
    {
     "name": "stdout",
     "output_type": "stream",
     "text": [
      "True\n",
      "False\n",
      "True\n",
      "True\n",
      "False\n",
      "True\n",
      "False\n",
      "True\n"
     ]
    }
   ],
   "source": [
    "# 두 값이 같으면 True를, 다르면 False를 반환합니다.\n",
    "print(1 == 1) \n",
    "\n",
    "# 값이 참이면 True를, 다르면 False를 반환합니다.\n",
    "print(2 > 3)\n",
    "print(1 < 5)\n",
    "print(3 >= 3)\n",
    "print( 9 <= 8)\n",
    "\n",
    "# 두 값이 다르면 True를, 같으면 False를 반환합니다.\n",
    "print(0 != 10)\n",
    "\n",
    "# 문자열도 비교 연산자를 이용할 수 있으며, 사전 순으로 작은 값을 갖습니다.\n",
    "print(\"가\" > \"갸\")\n",
    "print(\"세종\" != \"대학교\")"
   ]
  },
  {
   "cell_type": "markdown",
   "metadata": {},
   "source": [
    "\n",
    "## 논리 연산자\n",
    "논리 연산자는 크게 not, and, or이 있습니다.\n",
    "<br>"
   ]
  },
  {
   "cell_type": "code",
   "execution_count": 3,
   "metadata": {},
   "outputs": [
    {
     "name": "stdout",
     "output_type": "stream",
     "text": [
      "False\n",
      "False\n",
      "True\n"
     ]
    }
   ],
   "source": [
    "# not 연산자는 True와 False를 서로 변환합니다.\n",
    "print(not True)\n",
    "\n",
    "# and 연산자는 두 변의 값이 True인 경우에만, True를 반환합니다.\n",
    "print(True and False)\n",
    "\n",
    "# or 연산자는 두 변의 값이 False인 경우에만, False를 반환합니다.\n",
    "print(True or False)"
   ]
  },
  {
   "cell_type": "markdown",
   "metadata": {},
   "source": [
    "## if 조건문\n",
    "if 조건문은 해당 조건이 True인 경우에만 실행되는 구문입니다."
   ]
  },
  {
   "cell_type": "code",
   "execution_count": 6,
   "metadata": {},
   "outputs": [
    {
     "name": "stdout",
     "output_type": "stream",
     "text": [
      "1번째 조건문을 실행합니다.\n"
     ]
    }
   ],
   "source": [
    "if True:\n",
    "    print(\"1번째 조건문을 실행합니다.\")\n",
    "\n",
    "if False:\n",
    "    print(\"2번째 조건문을 실행합니다.\")\n",
    "\n",
    "p = input(\"a를 입력할 경우 3번째 조건문을 실행합니다: \")\n",
    "\n",
    "if p == 'a':\n",
    "    print(\"3번째 조건문을 실행합니다.\")"
   ]
  },
  {
   "cell_type": "markdown",
   "metadata": {},
   "source": [
    "### 오전과 오후를 구분하는 프로그램 만들기\n",
    "datetime은 Python에 지원하는 모듈로 날짜와 시간과 관련된 기능을 가져옵니다."
   ]
  },
  {
   "cell_type": "code",
   "execution_count": 10,
   "metadata": {},
   "outputs": [
    {
     "name": "stdout",
     "output_type": "stream",
     "text": [
      "현재 시간은 오후 9시 46분입니다.\n"
     ]
    }
   ],
   "source": [
    "import datetime\n",
    "\n",
    "now = datetime.datetime.now()\n",
    "\n",
    "if now.hour < 12:\n",
    "    print(f\"현재 시간은 오전 {now.hour}시 {now.minute}분입니다.\")\n",
    "\n",
    "if now.hour >= 12:\n",
    "    print(f\"현재 시간은 오후 {now.hour - 12}시 {now.minute}분입니다.\")"
   ]
  },
  {
   "cell_type": "markdown",
   "metadata": {},
   "source": [
    "now는 datetime(2번째) 클래스로 생성된 객체입니다.<br>\n",
    "클래스 뒤에 있는 now()는 클래스 메소드로 클래스 속성을 읽거나 수정할 때 사용합니다.<br>\n",
    "인스턴스 없이 클래스에서 직접 호출 가능하다는 점은 정적(static) 메소드과 비슷하지만,<br>\n",
    "정적 메소드는 클래스에 의존하지 않습니다."
   ]
  },
  {
   "cell_type": "markdown",
   "metadata": {},
   "source": [
    "### 홀수와 짝수를 구분하는 프로그램 만들기\n",
    "기본적으로 나머지 연산자(%)를 통해 홀수와 짝수를 만들 수 있지만,<br>\n",
    "다음은 boolean형을 반환하는 in 연산자를 활용하여 홀수와 짝수를 구별하는 알고리즘입니다."
   ]
  },
  {
   "cell_type": "code",
   "execution_count": 11,
   "metadata": {},
   "outputs": [
    {
     "name": "stdout",
     "output_type": "stream",
     "text": [
      "입력한 수는 짝수입니다.\n"
     ]
    }
   ],
   "source": [
    "insert = input(\"정수를 입력해주세요: \")\n",
    "\n",
    "last_number = insert[-1]\n",
    "\n",
    "if last_number in \"02468\":\n",
    "    print(\"입력한 수는 짝수입니다.\")\n",
    "\n",
    "if last_number in \"13579\":\n",
    "    print(\"입력한 수는 홀수입니다.\")\n"
   ]
  },
  {
   "cell_type": "markdown",
   "metadata": {},
   "source": [
    "## if~else 조건문과 elif 조건문\n",
    "else는 if문이 참이 아닌 경우 실행되며, elif는 조건이 참이며, 이전의 if문과 elif문이 참이 아닐 때 실행됩니다.<br>\n",
    "다음은 위의 코드를 else문을 이용해 보완한 것입니다."
   ]
  },
  {
   "cell_type": "code",
   "execution_count": null,
   "metadata": {},
   "outputs": [],
   "source": [
    "insert = input(\"정수를 입력해주세요: \")\n",
    "\n",
    "last_number = insert[-1]\n",
    "\n",
    "if last_number in \"02468\":\n",
    "    print(\"입력한 수는 짝수입니다.\")\n",
    "else:\n",
    "    print(\"입력한 수는 홀수입니다.\")"
   ]
  },
  {
   "cell_type": "markdown",
   "metadata": {},
   "source": [
    "### False 반환되는 값과 pass 키워드\n",
    "값 중 0, 0.0, None, null은 모두 False를 반환하며, 나머지는 True를 반환합니다.<br>\n",
    "pass 키워드는 아직 구현을 하지 않는 함수, 메소드 등을 넘길 때 사용합니다.<br>\n",
    "<br>\n",
    "<br>"
   ]
  },
  {
   "cell_type": "markdown",
   "metadata": {},
   "source": [
    "## 2. 리스트\n",
    "리스트란 값을 한 곳에 모아서 관리할 수 있는 데이터 구조입니다.<br>\n",
    "배열(Array)과 비슷해보이지만 리스트 내에 다양한 데이터 타입을 혼합해서 저장할 수 있고<br> \n",
    "그 크기를 자유롭게 바꿀 수 있다는 차이점이 있습니다.<br>\n",
    "<br>\n",
    "리스트 내의 값은 요소(element)라 부르고, 문자열과 마찬가지로 인덱스는 0부터 시작하며,<br>\n",
    "마지막 요소에서 시작할 경우 -1로 시작합니다.<br>\n",
    "<br>\n",
    "리스트 안에서도 한 번 더 인덱스를 지정하여, 값의 일부분을 가져올 수 있으며,<br>\n",
    "리스트 안에 리스트를 넣을 수 있습니다."
   ]
  },
  {
   "cell_type": "code",
   "execution_count": 6,
   "metadata": {},
   "outputs": [
    {
     "name": "stdout",
     "output_type": "stream",
     "text": [
      "['Hello, World!', 5.5, True, 1]\n",
      "Hello, World!\n",
      "True\n",
      ",\n",
      "[['Hello, World!', 5.5, True, 1], [1, 2, 'Python']]\n",
      "t\n"
     ]
    }
   ],
   "source": [
    "array = [ \"Hello, World!\", 5.5, True, 1 ]\n",
    "print(array)\n",
    "\n",
    "print(array[0])\n",
    "print(array[-2])\n",
    "\n",
    "print(array[0][5])\n",
    "\n",
    "# 리스트 안에 리스트를 넣을 수 있습니다.\n",
    "array_in_array = [ array, [1, 2, \"Python\"]]\n",
    "\n",
    "print(array_in_array)\n",
    "print(array_in_array[1][2][2])"
   ]
  },
  {
   "cell_type": "markdown",
   "metadata": {},
   "source": [
    "### 리스트 연산자\n",
    "리스트는 +를 통해 두 리스트를 연결할 수 있고, *를 통해 반복할 수 있습니다.<br>\n",
    "len() 함수는 리스트의 길이를 구할 수 있습니다.<br>\n",
    "<br>\n",
    "len() 함수는 문자열, 딕셔너리, 리스트를 모두 매개변수로 받을 수 있는데,<br>\n",
    "이는 객체 지향 프로그래밍(OOP, Object-Oriented Programming)의 중요한 특징 중 하나인<br>\n",
    "다형성(polymorphism)을 잘 활용하는 예라고 할 수 있습니다.<br>"
   ]
  },
  {
   "cell_type": "code",
   "execution_count": 20,
   "metadata": {},
   "outputs": [
    {
     "name": "stdout",
     "output_type": "stream",
     "text": [
      "[1, 2, 3, 4, 5, 6]\n",
      "[1, 2, 3, 1, 2, 3, 1, 2, 3, 1, 2, 3, 1, 2, 3]\n",
      "15\n"
     ]
    }
   ],
   "source": [
    "list_a = [ 1, 2, 3 ]\n",
    "list_b = [ 4, 5, 6 ]\n",
    "\n",
    "list_c = list_a + list_b\n",
    "list_d = list_a * 5\n",
    "\n",
    "print(list_c)\n",
    "print(list_d)\n",
    "print(len(list_d))"
   ]
  },
  {
   "cell_type": "markdown",
   "metadata": {},
   "source": [
    "### append(), insert(), extend()\n",
    "Python의 모든 데이터는 객체(Object)입니다.<br>\n",
    "객체는 속성과 기능을 갖는데, 각각 필드(Field)와 메소드(Method)가 그 기능을 수행합니다.<br>\n",
    "<br>\n",
    "append()와 insert()그리고 extend()는 인스턴스 메소드로 객체의 상태를 변경할 수 있는 메소드입니다.<br>\n",
    "<br>\n",
    "append() 리스트 뒤에 요소를 추가하는 메소드입니다.<br>\n",
    "특정 위치에 추가하고자 한다면, insert() 메소드를 사용합니다.<br>\n",
    "<br>\n",
    "extend() 메소드는 리스트를 매개변수로 받고, 매개변수의 요소를 모두 뒤에 추가합니다.<br>\n",
    "append() 메소드 또한 리스트를 매개변수로 받을 수 있지만, 다음과 같은 차이를 보입니다.<br>"
   ]
  },
  {
   "cell_type": "code",
   "execution_count": 35,
   "metadata": {},
   "outputs": [
    {
     "name": "stdout",
     "output_type": "stream",
     "text": [
      "[1, 2, 3, 4, 5]\n",
      "[1, 2, 3, 4, 5, 4, 5, 6]\n",
      "[1, 2, 3, 4, 5, [4, 5, 6]]\n"
     ]
    }
   ],
   "source": [
    "list_a = [ 1, 2, 3 ]\n",
    "list_b = [ 4, 5, 6 ]\n",
    "\n",
    "list_a.append(5)\n",
    "list_a.insert(3, 4) # 1번째 매개변수로 위치를, 2번째 매개변수로 요소를 받습니다.\n",
    "print(list_a)\n",
    "\n",
    "list_c = [ 1, 2, 3, 4, 5 ]\n",
    "\n",
    "list_a.extend(list_b)\n",
    "list_c.append(list_b)\n",
    "\n",
    "print(list_a)\n",
    "print(list_c)"
   ]
  },
  {
   "cell_type": "markdown",
   "metadata": {},
   "source": [
    "### 깊은 복사와 얕은 복사\n",
    "\n",
    "위에서 만약 list_c를 저렇게 하지 않고, 다음과 같이 할 경우 이상한 일이 발생합니다."
   ]
  },
  {
   "cell_type": "code",
   "execution_count": 37,
   "metadata": {},
   "outputs": [
    {
     "name": "stdout",
     "output_type": "stream",
     "text": [
      "[1, 2, 3, 4, 5]\n",
      "[1, 2, 3, 4, 5, 4, 5, 6, [4, 5, 6]]\n",
      "[1, 2, 3, 4, 5, 4, 5, 6, [4, 5, 6]]\n",
      "[1, 2, 3, 4, 5, 4, 5, 6, [4, 5, 6], 'a만 변경?']\n"
     ]
    }
   ],
   "source": [
    "list_a = [ 1, 2, 3 ]\n",
    "list_b = [ 4, 5, 6 ]\n",
    "\n",
    "list_a.append(5)\n",
    "list_a.insert(3, 4) \n",
    "print(list_a)\n",
    "\n",
    "list_c = list_a # 변경 부분\n",
    "\n",
    "list_a.extend(list_b)\n",
    "list_c.append(list_b)\n",
    "\n",
    "print(list_a)\n",
    "print(list_c)\n",
    "\n",
    "\n",
    "list_a.append(\"a만 변경?\")\n",
    "print(list_c)"
   ]
  },
  {
   "cell_type": "markdown",
   "metadata": {},
   "source": [
    "분명 list_a만 수정했는데도, list_c의 값이 바뀐 것을 볼 수 있습니다.<br>\n",
    "결론부터 말하면, list_c는 얕은 복사(shallow copy)가 진행되었기 때문입니다.<br>\n",
    "<br>\n",
    "파이썬은 모든 데이터를 객체로 처리하고, 객체는 모두 자신이 직접 값을 저장하지 않고<br>\n",
    "이가 저장된 값을 참조(Reference)합니다.<br>\n",
    "<br>\n",
    "id() 함수는 객체가 참조하고 있는 주솟값을 반환하는 함수로, 다음과 같이 출력됩니다.<br>\n",
    "실행할 때마다 저장되는 곳이 변경될 수 있으므로 실행마다 반환값이 다를 수도 있습니다."
   ]
  },
  {
   "cell_type": "code",
   "execution_count": 40,
   "metadata": {},
   "outputs": [
    {
     "name": "stdout",
     "output_type": "stream",
     "text": [
      "p가 참조하는 값: 140707318024920, q가 참조하는 값: 140707318024920\n",
      "p가 참조하는 값: 1412905377856, q가 참조하는 값: 1412905377856\n"
     ]
    }
   ],
   "source": [
    "p = 10\n",
    "q = p\n",
    "\n",
    "list_a = [ 0 ]\n",
    "list_b = list_a\n",
    "\n",
    "# 둘이 같은 값을 참조\n",
    "print(f\"p가 참조하는 값: {id(p)}, q가 참조하는 값: {id(q)}\")\n",
    "print(f\"p가 참조하는 값: {id(list_a)}, q가 참조하는 값: {id(list_b)}\")"
   ]
  },
  {
   "cell_type": "markdown",
   "metadata": {},
   "source": [
    "'p와 q', 'list_a와 list_b'는 서로 같은 값을 참조하고 있습니다.<br>\n",
    "하지만, 각각의 쌍은 차이가 있습니다. "
   ]
  },
  {
   "cell_type": "code",
   "execution_count": 45,
   "metadata": {},
   "outputs": [
    {
     "name": "stdout",
     "output_type": "stream",
     "text": [
      "Before\n",
      "p가 참조하는 값: 140707318024920, q가 참조하는 값: 140707318024920\n",
      "p가 참조하는 값: 1412905987648, q가 참조하는 값: 1412905987648\n",
      "\n",
      "After\n",
      "p가 참조하는 값: 140707318024760, q가 참조하는 값: 140707318024920\n",
      "p가 참조하는 값: 1412905987648, q가 참조하는 값: 1412905987648\n"
     ]
    }
   ],
   "source": [
    "p = 10\n",
    "q = p\n",
    "\n",
    "list_a = [ 0 ]\n",
    "list_b = list_a\n",
    "\n",
    "# 둘이 같은 값을 참조\n",
    "print(\"Before\")\n",
    "print(f\"p가 참조하는 값: {id(p)}, q가 참조하는 값: {id(q)}\")\n",
    "print(f\"p가 참조하는 값: {id(list_a)}, q가 참조하는 값: {id(list_b)}\")\n",
    "\n",
    "p = 5\n",
    "list_a.append(1)\n",
    "\n",
    "print(\"\\nAfter\")\n",
    "print(f\"p가 참조하는 값: {id(p)}, q가 참조하는 값: {id(q)}\")\n",
    "print(f\"p가 참조하는 값: {id(list_a)}, q가 참조하는 값: {id(list_b)}\")"
   ]
  },
  {
   "cell_type": "markdown",
   "metadata": {},
   "source": [
    "p와 list_a를 바꿨을때, p는 완전히 새로운 주소로 참조를 하여 p와 q가 가리키는 값은 달라졌지만,<br>\n",
    "list_a와 list_b는 여전히 동일한 값을 반환하고 있습니다.<br>\n",
    "<br>\n",
    "int(정수), float(실수), str(문자열)와 같은 문자열은 변경 불가능한(Immutable) 자료형으로<br>\n",
    "한 번 생성되면 그 값을 변경할 수 없는 자료형입니다.<br>\n",
    "즉, 값 자체를 수정할 수 없으며 변수를 재할당할 때 새로운 객체가 생성됩니다.<br>\n",
    "<br>\n",
    "한편, list(리스트), dict(딕셔너리)와 같은 경우, 변경 가능한(Mutable) 자료형으로<br> \n",
    "그 내용을 변경할 수 있으며, 참조가 동일할 때는 하나를 수정하면 그 수정이 참조된 모든 변수에 반영됩니다.<br>\n",
    "즉 이들은 참조형 변수로 동작하며 한 객체를 여러 변수가 참조할 때 그 값을 변경하면 참조하는 모든 변수에서 반영됩니다.<br>\n",
    "<br>\n",
    "위와 같이 list_b = list_a를 한 것을 얕은 복사(Shallow Copy)라 부르고,<br>\n",
    "서로 완전히 독립된 리스트로 만드는 깊은 복사(Deep Copy)는 copy 모듈을 통해 진행할 수 있습니다."
   ]
  },
  {
   "cell_type": "code",
   "execution_count": 47,
   "metadata": {},
   "outputs": [
    {
     "name": "stdout",
     "output_type": "stream",
     "text": [
      "Before\n",
      "p가 참조하는 값: 1412905561728, q가 참조하는 값: 1412906062400\n",
      "\n",
      "After\n",
      "p가 참조하는 값: 1412905561728, q가 참조하는 값: 1412906062400\n",
      "list_a = [0, 1], list_b = [0]\n"
     ]
    }
   ],
   "source": [
    "import copy\n",
    "\n",
    "list_a = [ 0 ]\n",
    "list_b = copy.deepcopy(list_a)\n",
    "\n",
    "# 둘이 같은 값을 참조\n",
    "print(\"Before\")\n",
    "print(f\"p가 참조하는 값: {id(list_a)}, q가 참조하는 값: {id(list_b)}\")\n",
    "\n",
    "list_a.append(1)\n",
    "\n",
    "print(\"\\nAfter\")\n",
    "print(f\"p가 참조하는 값: {id(list_a)}, q가 참조하는 값: {id(list_b)}\")\n",
    "print(f\"list_a = {list_a}, list_b = {list_b}\")"
   ]
  },
  {
   "cell_type": "markdown",
   "metadata": {},
   "source": [
    "### pop(), remove(), clear()\n",
    "del 키워드와 pop() 메소드는 특정 위치의 요소를 제거합니다.<br>\n",
    "remove() 메소드는 특정 값인 요소를 제거합니다.<br>\n",
    "clear() 메소드는 리스트 내부의 요소를 모두 제거합니다."
   ]
  },
  {
   "cell_type": "code",
   "execution_count": 50,
   "metadata": {},
   "outputs": [
    {
     "name": "stdout",
     "output_type": "stream",
     "text": [
      "[2, 3, 4, 5, 6]\n",
      "[3, 4, 5, 6]\n",
      "[3, 4, 5]\n",
      "[]\n"
     ]
    }
   ],
   "source": [
    "list_a = [ 1, 2, 3, 4, 5, 6]\n",
    "\n",
    "del list_a[0]\n",
    "print(list_a)\n",
    "\n",
    "list_a.pop(0)\n",
    "print(list_a)\n",
    "\n",
    "list_a.remove(6)\n",
    "print(list_a)\n",
    "\n",
    "list_a.clear()\n",
    "print(list_a)"
   ]
  },
  {
   "cell_type": "markdown",
   "metadata": {},
   "source": [
    "## for 반복문\n",
    "for 반복문은 다음과 같이 사용합니다. 값이 True인 경우 실행합니다."
   ]
  },
  {
   "cell_type": "code",
   "execution_count": 54,
   "metadata": {},
   "outputs": [
    {
     "name": "stdout",
     "output_type": "stream",
     "text": [
      "Hi\n",
      "Hi\n",
      "Hi\n",
      "Hi\n",
      "Hi\n",
      "Hi\n",
      "Hi\n",
      "Hi\n",
      "Hi\n",
      "Hi\n",
      "Hi\n",
      "Hi\n",
      "Hi\n",
      "Hi\n",
      "Hi\n",
      "2\n",
      "3\n",
      "5\n",
      "7\n",
      "11\n",
      "13\n",
      "17\n",
      "19\n"
     ]
    }
   ],
   "source": [
    "for i in range(15):\n",
    "    print(\"Hi\")\n",
    "\n",
    "list_a = [2, 3, 5, 7, 11, 13, 17, 19]\n",
    "\n",
    "for i in list_a:\n",
    "    print(i)"
   ]
  },
  {
   "cell_type": "markdown",
   "metadata": {},
   "source": [
    "## 딕셔너리\n",
    "딕셔너리(Dictionary)는 Python에서 제공하는 매우 유용한 자료형으로,<br>\n",
    "키(key)와 값(value)의 쌍을 저장하는 변경 가능한(Mutable) 자료 구조입니다.<br>\n",
    "<br>\n",
    "키는 반드시 변경 불가능한 자료형이 와야하고, 값은 상관 없습니다.<br>\n"
   ]
  },
  {
   "cell_type": "code",
   "execution_count": 65,
   "metadata": {},
   "outputs": [
    {
     "name": "stdout",
     "output_type": "stream",
     "text": [
      "{'Model': 'iPhone 16 Pro', 'Capacity': '256GB', 'Processor': 'A18 Pro', 'Price': 1700000, 'for_sale': True, 'Benchmarked': [3400, 8341]}\n",
      "iPhone 16 Pro\n",
      "8341\n",
      "{'Model': 'iPhone 16 Pro', 'Capacity': '256GB', 'Processor': 'A18 Pro', 'Price': 1700000, 'for_sale': True, 'Benchmarked': [3400, 8341], 'iOS': 18.0}\n",
      "{'Model': 'iPhone 16 Pro', 'Capacity': '128GB', 'Processor': 'A18 Pro', 'Price': 1550000, 'for_sale': True, 'Benchmarked': [3400, 8341], 'iOS': 18.0}\n",
      "{'Model': 'iPhone 16 Pro', 'Capacity': '128GB', 'Processor': 'A18 Pro', 'Price': 1550000, 'for_sale': True, 'iOS': 18.0}\n"
     ]
    }
   ],
   "source": [
    "dict_a = {\n",
    "    \"Model\": \"iPhone 16 Pro\",\n",
    "    \"Capacity\": \"256GB\",\n",
    "    \"Processor\": \"A18 Pro\",\n",
    "    \"Price\": 1700000,\n",
    "    \"for_sale\": True,\n",
    "    \"Benchmarked\": [ 3400, 8341 ]\n",
    "}\n",
    "\n",
    "print(dict_a)\n",
    "\n",
    "# 딕셔너리 접근 방법\n",
    "print(dict_a[\"Model\"])\n",
    "print(dict_a[\"Benchmarked\"][1])\n",
    "\n",
    "\n",
    "# 딕셔너리 값 추가 방법\n",
    "dict_a[\"iOS\"] = 18.0\n",
    "print(dict_a)\n",
    "\n",
    "# 딕셔너리 값 변경 방법\n",
    "dict_a[\"Capacity\"] = \"128GB\"\n",
    "dict_a[\"Price\"] = 1550000\n",
    "print(dict_a)\n",
    "\n",
    "# 딕셔너리 값 제거 방법\n",
    "del dict_a[\"Benchmarked\"]\n",
    "print(dict_a)"
   ]
  },
  {
   "cell_type": "markdown",
   "metadata": {},
   "source": [
    "### 딕셔너리 in 키워드\n",
    "in 키워드를 통해, 딕셔너리 내에 해당 키가 있는지 확인할 수 있습니다."
   ]
  },
  {
   "cell_type": "code",
   "execution_count": 66,
   "metadata": {},
   "outputs": [
    {
     "name": "stdout",
     "output_type": "stream",
     "text": [
      "iPhone 16 Pro\n"
     ]
    }
   ],
   "source": [
    "dict_a = {\n",
    "    \"Model\": \"iPhone 16 Pro\",\n",
    "    \"Capacity\": \"256GB\",\n",
    "    \"Processor\": \"A18 Pro\",\n",
    "    \"Price\": 1700000,\n",
    "    \"for_sale\": True,\n",
    "    \"Benchmarked\": [ 3400, 8341 ]\n",
    "}\n",
    "\n",
    "i = input(\"키를 입력해주세요: \")\n",
    "\n",
    "# 딕셔너리 접근 방법\n",
    "if i in dict_a:\n",
    "    print(dict_a[i])"
   ]
  },
  {
   "cell_type": "markdown",
   "metadata": {},
   "source": [
    "### 딕셔너리 메소드\n",
    "get() 메소드는 딕셔너리의 값을 가져오는 더 안전한 방법으로, 해당하는 값이 있을 경우 이를 반환하고<br>\n",
    "없을 경우, 지정한 값을 반환합니다.<br>\n",
    "<br>\n",
    "values()는 딕셔너리의 모든 값을 반환합니다.<br>\n",
    "리스트와 비슷해보이지만, 반환값은 리스트가 아니므로 리스트 객체의 인스턴스 메소드를 사용할 수 없습니다.<br>\n",
    "<br>\n",
    "items()는 딕셔너리의 모든 키-값쌍을 튜플 형태로 반환합니다.<br>\n",
    "튜플은 리스트와 유사하지만 변경 불가능한 데이터 구조입니다.<br>\n",
    "즉, 튜플은 리스트가 아니기 때문에 리스트 객체의 인스턴스 메소드를 사용할 수 없고,<br>\n",
    "사용하고자 한다면 list로 casting을 해야합니다."
   ]
  },
  {
   "cell_type": "code",
   "execution_count": 78,
   "metadata": {},
   "outputs": [
    {
     "name": "stdout",
     "output_type": "stream",
     "text": [
      "iPhone 16 Pro\n",
      "Not Found\n",
      "dict_values(['iPhone 16 Pro', '256GB', 'A18 Pro', 1700000, True, [3400, 8341]])\n",
      "dict_items([('Model', 'iPhone 16 Pro'), ('Capacity', '256GB'), ('Processor', 'A18 Pro'), ('Price', 1700000), ('for_sale', True), ('Benchmarked', [3400, 8341])])\n",
      "('Model', 'iPhone 16 Pro')\n",
      "8341\n"
     ]
    }
   ],
   "source": [
    "dict_a = {\n",
    "    \"Model\": \"iPhone 16 Pro\",\n",
    "    \"Capacity\": \"256GB\",\n",
    "    \"Processor\": \"A18 Pro\",\n",
    "    \"Price\": 1700000,\n",
    "    \"for_sale\": True,\n",
    "    \"Benchmarked\": [ 3400, 8341 ]\n",
    "}\n",
    "\n",
    "print(dict_a.get(\"Model\"))\n",
    "print(dict_a.get(\"iOS\", \"Not Found\")) # 두 번째 매개변수는 입력하지 않은 경우 None을 출력합니다.\n",
    "\n",
    "print(dict_a.values())\n",
    "\n",
    "dict_ai = dict_a.items()\n",
    "print(dict_ai)\n",
    "\n",
    "# tuple을 list로 casting\n",
    "list_dict_ai = list(dict_ai)\n",
    "print(list_dict_ai[0])\n",
    "print(list_dict_ai[5][1][1])"
   ]
  },
  {
   "cell_type": "markdown",
   "metadata": {},
   "source": [
    "### 딕셔너리 순회\n",
    "순회(iteration)란 데이터 구조(리스트, 튜플, 딕셔너리 등)에 포함된 요소들을 하나씩 방문하여 처리하는 과정을 말합니다.<br>\n",
    "딕셔너리를 순회하는 방법은 다음과 같이 다양합니다."
   ]
  },
  {
   "cell_type": "code",
   "execution_count": 83,
   "metadata": {},
   "outputs": [
    {
     "name": "stdout",
     "output_type": "stream",
     "text": [
      "Model\n",
      "Capacity\n",
      "Processor\n",
      "Price\n",
      "for_sale\n",
      "Benchmarked\n",
      "\n",
      "iPhone 16 Pro\n",
      "256GB\n",
      "A18 Pro\n",
      "1700000\n",
      "True\n",
      "[3400, 8341]\n",
      "\n",
      "Model: iPhone 16 Pro\n",
      "Capacity: 256GB\n",
      "Processor: A18 Pro\n",
      "Price: 1700000\n",
      "for_sale: True\n",
      "Benchmarked: [3400, 8341]\n",
      "\n",
      "Model: iPhone 16 Pro\n",
      "Capacity: 256GB\n",
      "Processor: A18 Pro\n",
      "Price: 1700000\n",
      "for_sale: True\n",
      "Benchmarked: [3400, 8341]\n"
     ]
    }
   ],
   "source": [
    "dict_a = {\n",
    "    \"Model\": \"iPhone 16 Pro\",\n",
    "    \"Capacity\": \"256GB\",\n",
    "    \"Processor\": \"A18 Pro\",\n",
    "    \"Price\": 1700000,\n",
    "    \"for_sale\": True,\n",
    "    \"Benchmarked\": [ 3400, 8341 ]\n",
    "}\n",
    "\n",
    "# 키 순회\n",
    "for key in dict_a:\n",
    "    print(key)\n",
    "print()\n",
    "\n",
    "# 값 순회\n",
    "for value in dict_a.values():\n",
    "    print(value)\n",
    "print()\n",
    "\n",
    "# 키-값 쌍 순회\n",
    "for key, value in dict_a.items():\n",
    "    print(f\"{key}: {value}\")\n",
    "print()\n",
    "\n",
    "for key in dict_a:\n",
    "    print(f\"{key}: {dict_a[key]}\")"
   ]
  },
  {
   "cell_type": "markdown",
   "metadata": {},
   "source": [
    "## 반복문\n",
    "### range()\n",
    "range 함수는 세 개의 매개변수를 받습니다.<br>\n",
    "하나만 넣을 경우, 0부터 N-1까지의 정수를 반환합니다.<br>\n",
    "<br>\n",
    "두 개를 넣을 경우, A부터 B-1까지의 정수를 반환합니다.<br>\n",
    "<br>\n",
    "세 개를 넣을 경우, A부터 B-1까지 C의 공차를 두어 정수를 반환합니다.<br>\n",
    "또한, C를 음수로 하여 음수 방향으로 진행할 수 있습니다.<br>\n",
    "<br>\n",
    "<br>\n",
    "마지막 값은 포함하지 않기 때문에 '+1' 또는 '-1' 붙여 가독성을 향상시키고, 마지막 값을 포함시킬 수 있습니다."
   ]
  },
  {
   "cell_type": "code",
   "execution_count": 89,
   "metadata": {},
   "outputs": [
    {
     "name": "stdout",
     "output_type": "stream",
     "text": [
      "[0, 1, 2, 3, 4, 5, 6, 7, 8, 9]\n",
      "\n",
      "[2, 3, 4, 5, 6, 7, 8, 9, 10]\n",
      "\n",
      "[30, 27, 24, 21, 18, 15, 12, 9, 6, 3, 0]\n"
     ]
    }
   ],
   "source": [
    "list_a = []\n",
    "\n",
    "for i in range(10):\n",
    "    list_a.append(i)\n",
    "print(list_a)\n",
    "print()\n",
    "list_a.clear()\n",
    "\n",
    "for i in range(2, 10 + 1):\n",
    "    list_a.append(i)\n",
    "print(list_a)\n",
    "print()\n",
    "list_a.clear()\n",
    "\n",
    "for i in range(30, 0 - 1, -3):\n",
    "    list_a.append(i)\n",
    "print(list_a)"
   ]
  },
  {
   "cell_type": "markdown",
   "metadata": {},
   "source": [
    "### while 반복문\n",
    "while은 조건이 True를 반환하면 실행하는 반복문으로, 주로 무한 반복할 때 사용합니다.<br>\n",
    "break와 continue는 각각 반복문을 벗어날 때 사용하는 키워드와 현재의 반복을 생략하고 다음으로 넘어갈 때 사용하는 키워드입니다."
   ]
  },
  {
   "cell_type": "code",
   "execution_count": 93,
   "metadata": {},
   "outputs": [
    {
     "name": "stdout",
     "output_type": "stream",
     "text": [
      "2 4 6 8 10 12 14 16 18 20 22 24 26 28 30 32 34 36 38 40 42 44 46 48 50 52 54 56 58 60 62 64 66 68 70 72 74 76 78 80 82 84 86 88 90 92 94 96 98 100 "
     ]
    }
   ],
   "source": [
    "count = 0\n",
    "while True:\n",
    "    count += 1\n",
    "    \n",
    "    if count % 2:\n",
    "        continue\n",
    "\n",
    "    print(count, end=\" \") # end는 기본적으로 \\n이지만, 직접 지정할 수 있습니다.\n",
    "\n",
    "    if count == 100:\n",
    "        break"
   ]
  },
  {
   "cell_type": "markdown",
   "metadata": {},
   "source": [
    "## 문자열, 리스트, 딕셔너리 기본 함수\n",
    "\n",
    "min(), max(), sum()은 각각 리스트 내부의 최솟값, 최댓값, 총합을 반환합니다.<br>\n",
    "<br>\n",
    "reversed() 함수는 리스트를 반전시킵니다.<br>\n",
    "다만, 반환값은 이터레이터로 한 번 사용되면 더 이상 사용되지 않습니다.<br>\n",
    "즉 다시 사용하고자 한다면 이터레이터로 반환된 값을 리스트와 같은 이터러블로 바꿔야 합니다.<br>\n",
    "<br>\n",
    "enumerate() 함수는 리스트의 인덱스와 그 값을 함께 튜플 형태로 반환하며,이도 이터레이터로 반환합니다."
   ]
  },
  {
   "cell_type": "code",
   "execution_count": 102,
   "metadata": {},
   "outputs": [
    {
     "name": "stdout",
     "output_type": "stream",
     "text": [
      "10, 1, 55\n",
      "[10, 9, 8, 7, 6, 5, 4, 3, 2, 1]\n",
      "0번째 값은 10입니다.\n",
      "1번째 값은 9입니다.\n",
      "2번째 값은 8입니다.\n",
      "3번째 값은 7입니다.\n",
      "4번째 값은 6입니다.\n",
      "5번째 값은 5입니다.\n",
      "6번째 값은 4입니다.\n",
      "7번째 값은 3입니다.\n",
      "8번째 값은 2입니다.\n",
      "9번째 값은 1입니다.\n"
     ]
    }
   ],
   "source": [
    "array = [ 1, 2, 3, 4, 5, 6, 7, 8, 9, 10]\n",
    "print(f\"{max(array)}, {min(array)}, {sum(array)}\")\n",
    "\n",
    "r_array = list(reversed(array))\n",
    "print(r_array)\n",
    "\n",
    "temp = list(enumerate(r_array))\n",
    "\n",
    "for i, j in temp:\n",
    "    print(f\"{i}번째 값은 {j}입니다.\")"
   ]
  },
  {
   "cell_type": "markdown",
   "metadata": {},
   "source": [
    "### 리스트 내포\n",
    "리스트 안에는 조건문, 반복문과 같이 구문을 넣어 만들 수 있습니다.<br>\n",
    "다음은 3의 배수를 저장하는 리스트를 만드는 방법입니다."
   ]
  },
  {
   "cell_type": "code",
   "execution_count": 104,
   "metadata": {},
   "outputs": [
    {
     "name": "stdout",
     "output_type": "stream",
     "text": [
      "[0, 3, 6, 9, 12, 15, 18, 21, 24, 27, 30, 33, 36, 39, 42, 45, 48, 51, 54, 57, 60, 63, 66, 69, 72, 75, 78, 81, 84, 87, 90, 93, 96, 99]\n"
     ]
    }
   ],
   "source": [
    "three = [i for i in range(100) if i % 3 == 0]\n",
    "print(three)"
   ]
  },
  {
   "cell_type": "markdown",
   "metadata": {},
   "source": [
    "풀어서 설명하자면,<br>\n",
    "0~99 사이의 i 중 3으로 나누어 떨어지는 i를 리스트에 저장하라는 의미입니다."
   ]
  },
  {
   "cell_type": "markdown",
   "metadata": {},
   "source": [
    "### join() 메소드\n",
    "join() 메소드는 문자열 객체의 인스턴스 메소드로, 문자열로 구성된 리스트를 모두 문자열로 연결합니다."
   ]
  },
  {
   "cell_type": "code",
   "execution_count": 106,
   "metadata": {},
   "outputs": [
    {
     "name": "stdout",
     "output_type": "stream",
     "text": [
      "Hello, World!\n",
      "H.e.l.l.o.,. .W.o.r.l.d.!\n"
     ]
    }
   ],
   "source": [
    "array = [\"H\", \"e\", \"l\", \"l\", \"o\", \",\", \" \", \"W\", \"o\", \"r\", \"l\", \"d\", \"!\"]\n",
    "print((\"\".join(array)))\n",
    "print((\".\".join(array)))"
   ]
  },
  {
   "cell_type": "markdown",
   "metadata": {},
   "source": [
    "### slpit() 메소드\n",
    "split() 메소드는 문자열을 특정 문자 기준으로 나누어 리스트로 반환하는 메소드입니다."
   ]
  },
  {
   "cell_type": "code",
   "execution_count": 111,
   "metadata": {},
   "outputs": [
    {
     "name": "stdout",
     "output_type": "stream",
     "text": [
      "['Hello,', 'World', 'from', 'Python']\n",
      "['Hello,', 'World from Python']\n"
     ]
    }
   ],
   "source": [
    "text = \"Hello, World from Python\"\n",
    "\n",
    "print(text.split(\" \"))\n",
    "\n",
    "# 2번째 매개변수는 최대 분할 횟수를 의미하며, 기본값은 -1입니다.\n",
    "print(text.split(\" \", 1))"
   ]
  },
  {
   "cell_type": "markdown",
   "metadata": {},
   "source": [
    "---\n",
    "# 과제\n",
    "\n",
    "### 1. 다음의 경우 b의 출력은 어떻게 될까요? 이유에 대해 자세히 공부해주세요. 힌트: 변수와 메모리 주소\n",
    "\n",
    "```python\n",
    "a = [1, 2, 3]\n",
    "b = a\n",
    "a[2] = 4\n",
    "```"
   ]
  },
  {
   "cell_type": "markdown",
   "metadata": {},
   "source": [
    "**풀이**<br>\n",
    "파이썬은 모든 데이터를 객체로 저장하고, 객체는 모두 직접 값을 갖지 않고 값이 저장된 주솟값을 참조합니다.<br>\n",
    "객체는 크게 두 개의 종류로 나뉘는데, 변경 불가능한(Immutable)과 변경 가능한(Mutable) 자료형으로 나뉩니다.<br>\n",
    "<br>\n",
    "변경 불가능한 자료형은 한 번 값이 저장되면 그 값을 변경할 수 없어 새로운 값으로 변경하기 위해서는 다른 주소를 참조해야 합니다.<br>\n",
    "그러나, 변경 가능한 자료형은 값을 수정할 수 있으며, 값의 수정에 주솟값을 바꾸지 않습니다.<br>\n",
    "<br>\n",
    "위와 같은 리스트는 변경 가능한 자료형으로 a와 b는 같은 주소를 참조하고, a의 값이 수정되어도 그 주솟값이 바뀌지 않으므로,<br>\n",
    "변경된 값이 저장된 주솟값을 그대로 참조하는 b도 그 값도 반영합니다.<br>\n",
    "<br>\n",
    "위와 같은 복사는 '얕은 복사(Shallow Copy)'라고 부르며,<br>\n",
    "리스트를 복사할 때 새로운 주솟값이 아닌 복사하는 리스트의 주솟값을 복사하는 방식입니다.<br>\n",
    "아래는 코드를 통한 보충 설명입니다."
   ]
  },
  {
   "cell_type": "code",
   "execution_count": 4,
   "metadata": {},
   "outputs": [
    {
     "name": "stdout",
     "output_type": "stream",
     "text": [
      "a의 주솟값 : 1724972587840\n",
      "b의 주솟값 : 1724972587840\n",
      "[1, 2, 4]\n"
     ]
    }
   ],
   "source": [
    "a = [1, 2, 3]\n",
    "b = a\n",
    "a[2] = 4\n",
    "print(\"a의 주솟값 : \" + str(id(a)))\n",
    "print(\"b의 주솟값 : \" + str(id(b)))\n",
    "print(b)"
   ]
  },
  {
   "cell_type": "markdown",
   "metadata": {},
   "source": [
    "### 2. 리스트의 요소엔 type과 관계없이 다양한 객체를 포함할 수 있습니다. 숫자, 문자열, 리스트, 심지어 함수까지!\n",
    "\n",
    "그리고 리스트 객체 본인도 포함시킬 수 있습니다...\n",
    "\n",
    "```python\n",
    "numbers = [1,2,3]\n",
    "numbers.append(numbers)\n",
    "print(numbers)\n",
    "print(numbers[3])\n",
    "```\n",
    "\n",
    "이런 numbers에 리스트 슬라이싱, append, 확장 등 리스트 기법들을 사용해보고 리스트에 저장되는 것이 정확히 무엇인지 생각해봅시다.\n",
    "\n",
    "\n",
    "**풀이**"
   ]
  },
  {
   "cell_type": "code",
   "execution_count": 16,
   "metadata": {},
   "outputs": [
    {
     "name": "stdout",
     "output_type": "stream",
     "text": [
      "[1, 2, 3, [...]]\n",
      "[1, 2, 3, [...]]\n",
      "[1, 2, 3, [...]]\n",
      "2694515215104\n",
      "2694515215104\n",
      "[1, 2]\n",
      "[1, 2, 3, [...], 4]\n",
      "[1, 2, 3, [...], 4, {'name': 'name', 'age': 0}]\n",
      "[1, 2, 3, [...], 4, {'name': 'name', 'age': 0}, <enumerate object at 0x000002735DA04EA0>]\n",
      "[1, 2, 3, [...], 4, {'name': 'name', 'age': 0}, <enumerate object at 0x000002735DA04EA0>, dict_values(['name', 0])]\n",
      "[1, 2, 3, [...], 4, {'name': 'name', 'age': 0}, <enumerate object at 0x000002735DA04EA0>, dict_values(['name', 0]), 1, 2, 3, [...], 4, {'name': 'name', 'age': 0}, <enumerate object at 0x000002735DA04EA0>, dict_values(['name', 0])]\n"
     ]
    }
   ],
   "source": [
    "numbers = [1,2,3]\n",
    "numbers.append(numbers)\n",
    "print(numbers)\n",
    "print(numbers[3])\n",
    "\n",
    "# 3번 인덱스에는 자기 자신을 순환 참조하므로 해당 인덱스에는 계속 자기 자신이 나타납니다.\n",
    "print(numbers[3][3][3][3][3][3][3][3][3][3][3][3][3][3][3][3][3]) # [...]는 자기 자신을 저장하고 있다는 뜻입니다.\n",
    "\n",
    "# 주솟값도 동일합니다.\n",
    "print(id(numbers))\n",
    "print(id(numbers[3]))\n",
    "\n",
    "# 리스트 슬라이싱\n",
    "print(numbers[0:2])\n",
    "\n",
    "# append\n",
    "dict_a = {\n",
    "    \"name\" : \"name\",\n",
    "    \"age\" : 0\n",
    "}\n",
    "numbers.append(4)\n",
    "print(numbers)\n",
    "\n",
    "numbers.append(dict_a)\n",
    "print(numbers)\n",
    "\n",
    "numbers.append(enumerate(dict_a))\n",
    "print(numbers)\n",
    "\n",
    "numbers.append(dict_a.values())\n",
    "print(numbers)\n",
    "\n",
    "# 리스트에는 자신을 포함한 모든 객체를 저장할 수 있습니다.\n",
    "\n",
    "\n",
    "# extend(확장)\n",
    "numbers.extend(numbers)\n",
    "print(numbers)"
   ]
  },
  {
   "cell_type": "markdown",
   "metadata": {},
   "source": [
    "이를 통해 리스트는 Python의 모든 객체를 포함할 수 있는 매우 유연한 자료형임을 알 수 있습니다.<br>"
   ]
  }
 ],
 "metadata": {
  "kernelspec": {
   "display_name": "Python 3",
   "language": "python",
   "name": "python3"
  },
  "language_info": {
   "codemirror_mode": {
    "name": "ipython",
    "version": 3
   },
   "file_extension": ".py",
   "mimetype": "text/x-python",
   "name": "python",
   "nbconvert_exporter": "python",
   "pygments_lexer": "ipython3",
   "version": "3.12.2"
  }
 },
 "nbformat": 4,
 "nbformat_minor": 2
}
