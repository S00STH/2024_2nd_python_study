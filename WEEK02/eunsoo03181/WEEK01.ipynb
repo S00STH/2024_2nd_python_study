{
 "cells": [
  {
   "cell_type": "markdown",
   "metadata": {},
   "source": [
    "## **Python 1주차**\n",
    "\n",
    "# Python\n",
    "\n",
    "```python\n",
    "print(\"Hello, World!\")\n",
    "```\n",
    "<br>\n",
    "<br>\n",
    "파이썬(*Python*)은 1991년에 만들어진 인터프리터 언어입니다.<br>\n",
    "코드를 설계하는 것이 간단해서 프로그래밍을 처음 접하는 사람에게도 인기인 언어입니다.<br>\n",
    "위의 코드가 python으로 \"Hello, World!\"를 출력하는 코드인데, 다른 언어에 비해 쉬워 보입니다.<br>\n",
    "우리가 흔히 사용하는 python은 CPython입니다.<br>\n",
    "<br>\n",
    "---\n",
    "## 파이썬의 특징\n",
    "파이썬은 다음과 같은 특징이 있습니다.<br>\n",
    "\n",
    "**1. 간결한 문법**   \n",
    "방금 언급했듯 파이썬은 직관적이고 간결합니다.<br>\n",
    "이는 처음 언어를 접할 때 출력하는 \"Hello, World!\"를 출력하는 코드를 봐도 알 수 있습니다.<br>\n",
    "<br>\n",
    "다음은 C와 Java의 \"Hello, World!\"를 출력하는 코드인데, 이를 보면 파이썬이 훨씬 더 쉬운 코드임을 알 수 있습니다.<br>\n",
    "<br>\n",
    "<br>\n",
    "\n",
    "**C로 \"Hello, World!\" 출력하기**\n",
    "```C\n",
    "#include <stdio.h>\n",
    "\n",
    "int main(void) {\n",
    "    printf(\"Hello, World!\\n\");\n",
    "    return 0;\n",
    "}\n",
    "```\n",
    "**Java로 \"Hello, World!\" 출력하기**\n",
    "```java\n",
    "public void Main {\n",
    "    public static void main(String[] args) {\n",
    "        System.out.println(\"Hello, World!\");\n",
    "    }\n",
    "}\n",
    "```\n",
    "<br>\n",
    "<br>\n",
    "\n",
    "**2. 객체 지향 프로그래밍 지원**  \n",
    "파이썬은 객체 지향 프로그래밍(OOP)을 지원하여, 객체 지향 프로그래밍 언어가 갖는 다양한 기능을 활용할 수 있습니다.  \n",
    "<br>\n",
    "<br>\n",
    "\n",
    "**3. 인터프리터 언어**  \n",
    "파이썬은 인터프리터 언어로, 코드를 한 번에 기계어로 바꾸는 컴파일과 달리 코드를 한 줄씩 실행합니다.<br> \n",
    "실행 중 오류를 쉽게 찾고 수정할 수 있습니다.<br>\n",
    "컴파일 방식과 인터프리터 방식을 같이 수행하는 Java와 달리,<br>\n",
    "파이썬은 기본적으로 순수 인터프리터 언어이므로 실행 속도가 컴파일 언어에 비해 **느린 상황**이 발생할 수 있습니다.<br>\n",
    "<br>\n",
    "<br>\n",
    "\n",
    "**4. 운영체제로부터 자유로움**  \n",
    "Python은 Java와 마찬가지로 운영체제에 구속받지 않고 어디에서나 실행이 가능합니다.<br>\n",
    "Windows에서 제작한 코드를, macOS 또는 Linux에서 실행하는 것도 가능합니다.<br>\n",
    "<br>\n",
    "\n",
    "---\n",
    "## CPython과 PVM  \n",
    "\n",
    "우리가 사용하는 파이썬은 기본적으로 CPython입니다.<br>\n",
    "CPython은 표준 Python 구현체로, C/C++언어로 구현된 Python입니다.<br>  \n",
    "CPython은 우리가 설계한 파이썬 코드를 인터프리팅하여 바이트코드로 변환해주고,<br>\n",
    "바이트코드는 파이썬 가상 머신(PVM: Python Virtual Machine)을 통해 인터프리팅되어 우리가 설계한 코드를 최종적으로 실행합니다.<br>\n",
    "<br>\n",
    "<br>\n",
    "운영체제에 크게 관련이 없는 Java가 JVM을 사용하는 것과 비슷한 특징을 가졌기 때문에,<br>\n",
    "파이썬은 운영체제에 상관없이 코드 실행이 가능합니다.\n",
    "\n",
    "<br>\n",
    "\n",
    "---\n",
    "\n",
    "# 파이썬 기본 함수와 자료형\n",
    "\n",
    "### print()\n",
    "파이썬에서 print()는 값을 출력하는 함수입니다.<br>\n",
    "줄바꿈인 '\\n'을 필수적으로 붙여야 하는 다른 언어와 달리, 파이썬은 다음과 같이 줄바꿈을 할 수 있습니다.<br>\n",
    "다른 언어에 비해 더욱 직관적입니다.<br>\n",
    "큰따옴표 등을 문자열로 인식하기 때문에, 큰따옴표를 출력하고자 한다면, 익스케이프 문자(\\)를 사용하여야 합니다.<br>\n",
    "그 외에 \\t (tab), \\n (줄바꿈)도 상황에 따라 이용할 수 있습니다.<br>\n",
    "<br>"
   ]
  },
  {
   "cell_type": "code",
   "execution_count": 10,
   "metadata": {},
   "outputs": [
    {
     "name": "stdout",
     "output_type": "stream",
     "text": [
      "hello\n",
      "20\n",
      "20 30 40 python\n",
      "70\n",
      "I said \"Hello\"\n",
      "      Monday\n",
      "      Tuesday\n",
      "      Wednesday\n",
      "      Thursday\n",
      "      Friday      \n"
     ]
    }
   ],
   "source": [
    "print(\"hello\")\n",
    "print(20)\n",
    "print(20, 30, 40, \"python\")\n",
    "print(20+50)\n",
    "print(\"I said \\\"Hello\\\"\")\n",
    "\n",
    "# \"\"\" \"\"\"을 통해 다음과 같이 출력할 수 있습니다. \\를 추가할 경우 줄바꿈을 없앨 수 있습니다.\n",
    "print(\"\"\"\\\n",
    "      Monday\n",
    "      Tuesday\n",
    "      Wednesday\n",
    "      Thursday\n",
    "      Friday\\\n",
    "      \"\"\")"
   ]
  },
  {
   "cell_type": "markdown",
   "metadata": {},
   "source": [
    "## 자료형\n",
    "프로그램이 처리할 수 있는 모든 것을 통틀어 **자료**라고 부르고, 이렇게 구분된 종류를 **자료형(Data Type)**이라고 부릅니다.<br>\n",
    "Python은 기본적으로 문자열(String), 숫자(Number), 불리언(Boolean)형으로 나뉩니다.<br>\n",
    "불리언은 true와 false입니다.<br>\n",
    "<br>\n",
    "\n",
    "### type()\n",
    "type()은 해당 자료의 자료형을 알려주는 함수입니다.<br>\n",
    "\" \" 안에 있는 것은 문자열로 취급합니다. 큰따옴표와 작은따옴표를 사용하는 것은 상관 없습니다.<br>"
   ]
  },
  {
   "cell_type": "code",
   "execution_count": 7,
   "metadata": {},
   "outputs": [
    {
     "name": "stdout",
     "output_type": "stream",
     "text": [
      "<class 'str'>\n",
      "<class 'int'>\n",
      "<class 'str'>\n"
     ]
    }
   ],
   "source": [
    "print(type(\"Hello, World!\"))\n",
    "print(type(123))\n",
    "print(type(\"123\"))"
   ]
  },
  {
   "cell_type": "markdown",
   "metadata": {},
   "source": [
    "### 문자열 연산자\n",
    "python에서 '문자열 + 문자열 = 문자열'으로, 이어서 출력을 합니다.<br>\n",
    "그러나, python은 자동 타입 변환(Promotion)이 Java에 비해서는 제한적이므로 숫자를 문자열로 자동 타입 변환해주지 않습니다.<br>\n",
    "따라서 '숫자 + 문자열'은 에러가 발생합니다.<br>"
   ]
  },
  {
   "cell_type": "code",
   "execution_count": 1,
   "metadata": {},
   "outputs": [
    {
     "name": "stdout",
     "output_type": "stream",
     "text": [
      "Hello, World!\n",
      "12\n"
     ]
    }
   ],
   "source": [
    "print(\"Hello, \" + \"World!\")\n",
    "print(\"1\" + \"2\")\n",
    "# TypeError: print(1 + \"2\")"
   ]
  },
  {
   "cell_type": "markdown",
   "metadata": {},
   "source": [
    "파이썬은 곱셈에서는 '숫자 * 문자열'을 허용합니다. 문자열 반복 연산자라고 부르며, 문자열을 반복합니다.<br>"
   ]
  },
  {
   "cell_type": "code",
   "execution_count": 2,
   "metadata": {},
   "outputs": [
    {
     "name": "stdout",
     "output_type": "stream",
     "text": [
      "PythonPythonPythonPythonPython\n",
      "PythonPythonPythonPythonPythonPythonPythonPythonPythonPython\n"
     ]
    }
   ],
   "source": [
    "print(\"Python\" * 5)\n",
    "print(10 * \"Python\")"
   ]
  },
  {
   "cell_type": "markdown",
   "metadata": {},
   "source": [
    "문자열 내부의 문자 하나를 선택하고 싶다면 대괄호를 사용하면 됩니다.<br>\n",
    "파이썬은 제로 인덱스(Zero Index)로 숫자를 0부터 세기 때문에, 가장 첫 번째 자리는 0입니다.<br>\n",
    "<br>\n",
    "반대로, 음수를 입력할 경우 뒤에서부터 시작합니다. -1부터 시작합니다.<br>"
   ]
  },
  {
   "cell_type": "code",
   "execution_count": 7,
   "metadata": {},
   "outputs": [
    {
     "name": "stdout",
     "output_type": "stream",
     "text": [
      "세\n",
      "o\n",
      "r\n"
     ]
    }
   ],
   "source": [
    "print(\"안녕하세요\"[3])\n",
    "print(\"Hello\"[4])\n",
    "print(\"Backward\"[-2])"
   ]
  },
  {
   "cell_type": "markdown",
   "metadata": {},
   "source": [
    "대괄호 안에 m:n을 사용하여, m번째 문자부터 n-1번째 문자까지를 선택하여 출력할 수 있습니다.<br>\n",
    "숫자를 명시하지 않는 경우 시작 부분은 0, 마지막 부분은 문자열의 최대 위치까지 설정됩니다."
   ]
  },
  {
   "cell_type": "code",
   "execution_count": 6,
   "metadata": {},
   "outputs": [
    {
     "name": "stdout",
     "output_type": "stream",
     "text": [
      "ngUniv\n"
     ]
    }
   ],
   "source": [
    "print(\"SejongUniversity\"[4:10])"
   ]
  },
  {
   "cell_type": "markdown",
   "metadata": {},
   "source": [
    "### len()\n",
    "len() 함수는 문자열의 길이를 반환합니다."
   ]
  },
  {
   "cell_type": "code",
   "execution_count": 8,
   "metadata": {},
   "outputs": [
    {
     "name": "stdout",
     "output_type": "stream",
     "text": [
      "9\n"
     ]
    }
   ],
   "source": [
    "print(len(\"Afternoon\"))"
   ]
  },
  {
   "cell_type": "markdown",
   "metadata": {},
   "source": [
    "## 숫자\n",
    "\n",
    "파이썬에서 숫자는 정수형(int)과 실수형(float)로 구분됩니다.<br>\n",
    "숫자는 다음과 같은 연산자를 사용하는데, 기본적인 사칙연산과 동일하여 예시만 남깁니다.<br>\n",
    "\n",
    "+, -, *, / : 사칙연산<br>\n",
    "**//** : 정수 나누기(나눗셈으로 정수만 출력)<br>\n",
    "**%** : 나머지<br>\n",
    "**: 제곱<br>"
   ]
  },
  {
   "cell_type": "code",
   "execution_count": 11,
   "metadata": {},
   "outputs": [
    {
     "name": "stdout",
     "output_type": "stream",
     "text": [
      "1\n",
      "1\n",
      "1\n",
      "1.0\n",
      "1\n",
      "1\n",
      "1\n",
      "1\n"
     ]
    }
   ],
   "source": [
    "print(0+1)\n",
    "print(2-1)\n",
    "print(1*1)\n",
    "print(9/9)\n",
    "print(16//14)\n",
    "print(34%3)\n",
    "print(24**0)\n",
    "# 수학의 연산자 우선순위와 동일합니다.\n",
    "print(9 - 2 * 4) "
   ]
  },
  {
   "cell_type": "markdown",
   "metadata": {},
   "source": [
    "## 변수와 입력\n",
    "\n",
    "변수란 값을 저장하기 위해 사용하는 식별자입니다. 파이썬에서는 다음과 같이 변수를 선언 및 정의할 수 있습니다.<br>\n",
    "다른 언어와 달리 자료형을 요구하지 않습니다."
   ]
  },
  {
   "cell_type": "code",
   "execution_count": 2,
   "metadata": {},
   "outputs": [
    {
     "name": "stdout",
     "output_type": "stream",
     "text": [
      "10\n",
      "String\n",
      "35\n",
      "StringStringStringString\n"
     ]
    }
   ],
   "source": [
    "a = 10\n",
    "b = \"String\"\n",
    "print(a)\n",
    "print(b)\n",
    "print(a*3+5)\n",
    "print(b*4)"
   ]
  },
  {
   "cell_type": "markdown",
   "metadata": {},
   "source": [
    "### input()\n",
    "\n",
    "input() 함수는 데이터를 입력받는 함수입니다.<br>\n",
    "괄호 안에 문자열을 넣을 수 있으며, 안의 문자열이 먼저 출력되고 입력을 기다립니다."
   ]
  },
  {
   "cell_type": "code",
   "execution_count": 5,
   "metadata": {},
   "outputs": [
    {
     "name": "stdout",
     "output_type": "stream",
     "text": [
      "입력된 값은 10입니다.\n"
     ]
    }
   ],
   "source": [
    "a = input(\"값을 입력해주세요: \")\n",
    "print(\"입력된 값은 \" + a + \"입니다.\")"
   ]
  },
  {
   "cell_type": "markdown",
   "metadata": {},
   "source": [
    "파이썬은 기본적으로 '문자열 + 숫자'를 지원하지 않고, 이를 입력할 경우 에러가 발생합니다.<br>\n",
    "그러나, 숫자 값을 입력했음에도 위의 코드가 정상적으로 실행된다는 것은 우리가 입력한 값이 문자열로 인식되었다는 뜻입니다.<br>\n",
    "input()은 입력값을 항상 문자열로 저장하기 때문에, 만약 숫자로 저장하고 싶다면 강제 타입 변환(casting)을 해야합니다.<br>\n",
    "\n",
    "강제 타입 변환을 위해 파이썬에서는 **int()** 와 **float()** 를 사용합니다.<br>\n",
    "반대로 숫자를 문자열로 바꾸고 싶다면 **str()** 을 사용합니다."
   ]
  },
  {
   "cell_type": "code",
   "execution_count": 6,
   "metadata": {},
   "outputs": [
    {
     "name": "stdout",
     "output_type": "stream",
     "text": [
      "a + b = 10.0\n"
     ]
    }
   ],
   "source": [
    "a = float(input(\"a 값을 입력해주세요: \"))\n",
    "b = float(input(\"b 값을 입력해주세요: \"))\n",
    "print(\"a + b = \" + str(a+b))"
   ]
  },
  {
   "cell_type": "markdown",
   "metadata": {},
   "source": [
    "### format()\n",
    "format() 함수는 문자열이 가지고 있는 함수로, 중괄호를 포함한 문자열 뒤에 마침표를 찍고 매개변수 값을 중괄호에 차례대로 입력합니다.<br>\n",
    "format을 통해 입력한 숫자는 모두 문자열로 변환됩니다."
   ]
  },
  {
   "cell_type": "code",
   "execution_count": 8,
   "metadata": {},
   "outputs": [
    {
     "name": "stdout",
     "output_type": "stream",
     "text": [
      "10시 20분입니다.\n",
      "부모는 아이의 거울이다.\n"
     ]
    }
   ],
   "source": [
    "str1 = \"{}시 {}분입니다.\".format(10, 20)\n",
    "str2 = \"{}는 {}의 {}이다.\".format(\"부모\", \"아이\", \"거울\")\n",
    "print(str1)\n",
    "print(str2)"
   ]
  },
  {
   "cell_type": "markdown",
   "metadata": {},
   "source": [
    "중괄호 안에는 다양한 기능을 추가할 수 있습니다.<br>\n",
    "대표적인 것으로 중괄호 안에 :을 입력하고, d를 추가하면 정수를 다양하게 출력하고, f를 추가하면 부동 소수점을 다양하게 출력합니다.<br>\n",
    "의미 없는 소수점을 제거할 때는 g를 사용합니다."
   ]
  },
  {
   "cell_type": "code",
   "execution_count": 16,
   "metadata": {},
   "outputs": [
    {
     "name": "stdout",
     "output_type": "stream",
     "text": [
      "    0\n",
      "3.14159\n",
      "1\n"
     ]
    }
   ],
   "source": [
    "making_space = \"{:5d}\".format(0)\n",
    "other_float = \"{:.5f}\".format(3.1415926535)\n",
    "useless_point = \"{:g}\".format(1 / 1)\n",
    "print(making_space)\n",
    "print(other_float)\n",
    "print(useless_point)"
   ]
  },
  {
   "cell_type": "markdown",
   "metadata": {},
   "source": [
    "### f-string\n",
    "f-string은 Python 3.6부터 도입되어 문자열 내에서 변수를 간결하게 삽입할 수 있는 방법입니다."
   ]
  },
  {
   "cell_type": "code",
   "execution_count": 13,
   "metadata": {},
   "outputs": [
    {
     "name": "stdout",
     "output_type": "stream",
     "text": [
      "오늘은 1월 1일이고, 현재 시간은 4시 30분입니다.\n"
     ]
    }
   ],
   "source": [
    "month = \"1월 1일\"\n",
    "hour = 4\n",
    "minute = 30\n",
    "print(f\"오늘은 {month}이고, 현재 시간은 {hour}시 {minute}분입니다.\")\n"
   ]
  },
  {
   "cell_type": "markdown",
   "metadata": {},
   "source": [
    "### upper()와 lower()\n",
    "\n",
    "upper(): 문자열의 알파벳을 모두 대문자로 변경합니다.<br>\n",
    "lower(): 문자열의 알파벳을 모두 소문자로 변경합니다."
   ]
  },
  {
   "cell_type": "code",
   "execution_count": 17,
   "metadata": {},
   "outputs": [
    {
     "name": "stdout",
     "output_type": "stream",
     "text": [
      "HELLO, WORLD!\n",
      "hello, world!\n"
     ]
    }
   ],
   "source": [
    "a = \"Hello, World!\"\n",
    "print(a.upper())\n",
    "print(a.lower())"
   ]
  },
  {
   "cell_type": "markdown",
   "metadata": {},
   "source": [
    "### strip()\n",
    "strip()는 문자열 양옆의 공백을 제거하는 함수입니다.<br>\n",
    "rstrip()은 문자열 오른쪽의 공백을 제거하고, lstrip()은 문자열의 왼쪽 공백을 제거합니다."
   ]
  },
  {
   "cell_type": "code",
   "execution_count": 20,
   "metadata": {},
   "outputs": [
    {
     "name": "stdout",
     "output_type": "stream",
     "text": [
      "before\n",
      "\n",
      "        This is Python\n",
      "Programming\n",
      "\n",
      "\n",
      "after\n",
      "This is Python\n",
      "Programming\n"
     ]
    }
   ],
   "source": [
    "a = \"\"\"\n",
    "        This is Python\n",
    "Programming\n",
    "\"\"\"\n",
    "\n",
    "print(\"before\")\n",
    "print(a)\n",
    "print()\n",
    "print(\"after\")\n",
    "print(a.strip())"
   ]
  },
  {
   "cell_type": "markdown",
   "metadata": {},
   "source": [
    "tab 뿐만 아니라, 앞뒤 줄바꿈도 사라진 것을 확인할 수 있습니다.단어와 단어 사이의 띄어쓰기는 적용되지 않습니다.<br>\n",
    "\n",
    "### find()\n",
    "find()는 특정 문자가 어디에 있는지를 반환하는 함수입니다.<br>\n",
    "\n",
    "find(): 왼쪽부터 찾아서 처음 등장하는 위치를 찾습니다.<br>\n",
    "rfind(): 오른쪽부터 찾아서 처음 등장하는 위치를 찾습니다."
   ]
  },
  {
   "cell_type": "code",
   "execution_count": 22,
   "metadata": {},
   "outputs": [
    {
     "name": "stdout",
     "output_type": "stream",
     "text": [
      "1\n",
      "7\n"
     ]
    }
   ],
   "source": [
    "a = \"abcabcabc\"\n",
    "print(a.find(\"b\"))\n",
    "print(a.rfind(\"b\"))"
   ]
  },
  {
   "cell_type": "markdown",
   "metadata": {},
   "source": [
    "### in 연산자\n",
    "in 연산자는 문자열 안에 특정 문자열이 있으면 true를 아니면 false를 반환합니다."
   ]
  },
  {
   "cell_type": "code",
   "execution_count": 24,
   "metadata": {},
   "outputs": [
    {
     "name": "stdout",
     "output_type": "stream",
     "text": [
      "True\n"
     ]
    }
   ],
   "source": [
    "a = \"Hello\" in \"Hello, World!\"\n",
    "print(a)"
   ]
  },
  {
   "cell_type": "markdown",
   "metadata": {},
   "source": [
    "### split()\n",
    "문자열을 특정한 문자로 자를 때 split() 함수를 사용합니다."
   ]
  },
  {
   "cell_type": "code",
   "execution_count": 25,
   "metadata": {},
   "outputs": [
    {
     "name": "stdout",
     "output_type": "stream",
     "text": [
      "['10', '20', '30', '40', '50', '60', '70', '80']\n"
     ]
    }
   ],
   "source": [
    "a = \"10 20 30 40 50 60 70 80\".split(\" \")\n",
    "print(a)"
   ]
  }
 ],
 "metadata": {
  "kernelspec": {
   "display_name": "Python 3",
   "language": "python",
   "name": "python3"
  },
  "language_info": {
   "codemirror_mode": {
    "name": "ipython",
    "version": 3
   },
   "file_extension": ".py",
   "mimetype": "text/x-python",
   "name": "python",
   "nbconvert_exporter": "python",
   "pygments_lexer": "ipython3",
   "version": "3.12.2"
  }
 },
 "nbformat": 4,
 "nbformat_minor": 2
}
