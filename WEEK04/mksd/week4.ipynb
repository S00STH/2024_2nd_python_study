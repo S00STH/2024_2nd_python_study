{
 "cells": [
  {
   "cell_type": "markdown",
   "metadata": {},
   "source": [
    "5.1~5.3 && 7.1~7.3"
   ]
  },
  {
   "cell_type": "markdown",
   "metadata": {},
   "source": [
    "### 5. 함수 만들기"
   ]
  },
  {
   "cell_type": "code",
   "execution_count": null,
   "metadata": {},
   "outputs": [],
   "source": [
    "def time_3(X):   # time_3라는 이름의 함수 만들기 (X는 매개변수)\n",
    "    print(X)     # 내용\n",
    "time_3(\"AAXAX\")  # 함수 실행\n",
    "print()\n",
    "\n",
    "def Test2(n, *vals):    # 매개변수의 갯수를 바꿀 수 있음\n",
    "    print(n)\n",
    "    print(type(vals))   # 튜플 형태로 변수를 받음\n",
    "    for val in vals:    \n",
    "        print(val, end=\"  \")\n",
    "Test2(5, \"A\",\"B\",\"C\",\"D\")\n",
    "print()\n",
    "\n",
    "def Test3(*val, n = 1, grade = 2, name = \"mksd\"):   # 기본 매개변수 : 값을 인자로 넣지 않았을 때의 기본 값을 정해줌\n",
    "    print(\"val = {}, n = {}, grade = {}, name = {}\".format(val,n,grade,name))\n",
    "Test3(\"MATH\",\"BA\",\"CK\",\"DSS\", n=21, name = \"무강\")  # 가변 매개변수 + 기본 매개변수(n,name)"
   ]
  },
  {
   "cell_type": "code",
   "execution_count": null,
   "metadata": {},
   "outputs": [],
   "source": [
    "def TT(i):\n",
    "    if i==1:\n",
    "        return 100      # 100 반환 (+ 정지)\n",
    "    else:\n",
    "        return          # 리턴값 없음\n",
    "    print(\"!!\")         # 실행 X \n",
    "print(TT(1))            # TT의 리턴 값 100 출력\n",
    "print(TT(0))            # TT의 리턴 값 100 출력"
   ]
  },
  {
   "cell_type": "code",
   "execution_count": 8,
   "metadata": {},
   "outputs": [
    {
     "name": "stdout",
     "output_type": "stream",
     "text": [
      "5! = 120\n",
      "5! = 120\n"
     ]
    }
   ],
   "source": [
    "# 팩토리얼 구하기 \n",
    "# 1. 반복문\n",
    "def factorial(n):\n",
    "    num = 1\n",
    "    for i in range(1, n+1):\n",
    "        num *= i\n",
    "    return num\n",
    "print(\"5! =\",factorial(5))\n",
    "\n",
    "# 2. 재귀 함수\n",
    "def factorial2(n):\n",
    "    if n == 1:              # n == 1 이라면 1 반환 (재귀함수의 끝)\n",
    "        return 1\n",
    "    return n * factorial2(n-1)\n",
    "print(\"5! =\",factorial2(5)) # f(5) * f(4) * f(3) * f(2) * f(1)"
   ]
  },
  {
   "cell_type": "code",
   "execution_count": null,
   "metadata": {},
   "outputs": [],
   "source": []
  }
 ],
 "metadata": {
  "kernelspec": {
   "display_name": "Python 3",
   "language": "python",
   "name": "python3"
  },
  "language_info": {
   "codemirror_mode": {
    "name": "ipython",
    "version": 3
   },
   "file_extension": ".py",
   "mimetype": "text/x-python",
   "name": "python",
   "nbconvert_exporter": "python",
   "pygments_lexer": "ipython3",
   "version": "3.9.13"
  }
 },
 "nbformat": 4,
 "nbformat_minor": 2
}
