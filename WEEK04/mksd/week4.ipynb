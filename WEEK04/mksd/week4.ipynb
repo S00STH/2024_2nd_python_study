{
 "cells": [
  {
   "cell_type": "markdown",
   "metadata": {},
   "source": [
    "5.1~5.3 && 7.1~7.3"
   ]
  },
  {
   "cell_type": "markdown",
   "metadata": {},
   "source": [
    "### 5. 함수 만들기"
   ]
  },
  {
   "cell_type": "code",
   "execution_count": 1,
   "metadata": {},
   "outputs": [
    {
     "name": "stdout",
     "output_type": "stream",
     "text": [
      "AAXAX\n",
      "\n",
      "5\n",
      "<class 'tuple'>\n",
      "A  B  C  D  \n",
      "val = ('MATH', 'BA', 'CK', 'DSS'), n = 21, grade = 2, name = 무강\n"
     ]
    }
   ],
   "source": [
    "def time_3(X):   # time_3라는 이름의 함수 만들기 (X는 매개변수)\n",
    "    print(X)     # 내용\n",
    "time_3(\"AAXAX\")  # 함수 실행\n",
    "print()\n",
    "\n",
    "def Test2(n, *vals):    # 매개변수의 갯수를 바꿀 수 있음\n",
    "    print(n)\n",
    "    print(type(vals))   # 튜플 형태로 변수를 받음\n",
    "    for val in vals:    \n",
    "        print(val, end=\"  \")\n",
    "Test2(5, \"A\",\"B\",\"C\",\"D\")\n",
    "print()\n",
    "\n",
    "def Test3(*val, n = 1, grade = 2, name = \"mksd\"):   # 기본 매개변수 : 값을 인자로 넣지 않았을 때의 기본 값을 정해줌\n",
    "    print(\"val = {}, n = {}, grade = {}, name = {}\".format(val,n,grade,name))\n",
    "Test3(\"MATH\",\"BA\",\"CK\",\"DSS\", n=21, name = \"무강\")  # 가변 매개변수 + 기본 매개변수(n,name)"
   ]
  },
  {
   "cell_type": "code",
   "execution_count": 2,
   "metadata": {},
   "outputs": [
    {
     "name": "stdout",
     "output_type": "stream",
     "text": [
      "100\n",
      "None\n"
     ]
    }
   ],
   "source": [
    "def TT(i):\n",
    "    if i==1:\n",
    "        return 100      # 100 반환 (+ 정지)\n",
    "    else:\n",
    "        return          # 리턴값 없음\n",
    "    print(\"!!\")         # 실행 X \n",
    "print(TT(1))            # TT의 리턴 값 100 출력\n",
    "print(TT(0))            # TT의 리턴 값 100 출력"
   ]
  },
  {
   "cell_type": "code",
   "execution_count": 8,
   "metadata": {},
   "outputs": [
    {
     "name": "stdout",
     "output_type": "stream",
     "text": [
      "5! = 120\n",
      "5! = 120\n"
     ]
    }
   ],
   "source": [
    "# 팩토리얼 구하기 \n",
    "# 1. 반복문\n",
    "def factorial(n):\n",
    "    num = 1\n",
    "    for i in range(1, n+1):\n",
    "        num *= i\n",
    "    return num\n",
    "print(\"5! =\",factorial(5))\n",
    "\n",
    "# 2. 재귀 함수\n",
    "def factorial2(n):\n",
    "    if n == 1:              # n == 1 이라면 1 반환 (재귀함수의 끝)\n",
    "        return 1\n",
    "    return n * factorial2(n-1)\n",
    "print(\"5! =\",factorial2(5)) # f(5) * f(4) * f(3) * f(2) * f(1)"
   ]
  },
  {
   "cell_type": "code",
   "execution_count": 3,
   "metadata": {},
<<<<<<< HEAD
   "outputs": [
    {
     "name": "stdout",
     "output_type": "stream",
     "text": [
      "55\n",
      "109\n"
     ]
    }
   ],
   "source": [
    "# 피보나치 수열 구하기\n",
    "# 1. 재귀함수\n",
    "counter = 0         # 함수 실행횟수 측정 변수\n",
    "def fibonacci(n):\n",
    "    global counter  # counter 변수를 외부에서 참조 -> 외부의 변수를 가져와 값을 바꾸기 위해서 필요함 (= 연산자 제외)\n",
    "    counter += 1\n",
    "    if n==1 or n==2:\n",
    "        return 1\n",
    "    return fibonacci(n-1)+fibonacci(n-2)    \n",
    "# 재귀함수 하나 마다 함수 2개를 부름 --> 이 재귀함수는 약 2^n번 실행하므로 n이 커질 수록 실행횟수가 지수적으로 증가함\n",
    "# 매우 비효율적  \n",
    "print(fibonacci(10)) # n이 1씩 증가할 수록 카운터는 지수적으로 증가\n",
    "print(counter)   "
   ]
  },
  {
   "cell_type": "code",
   "execution_count": 2,
   "metadata": {},
   "outputs": [
    {
     "name": "stdout",
     "output_type": "stream",
     "text": [
      "55\n",
      "17\n"
     ]
    },
    {
     "data": {
      "text/plain": [
       "1"
      ]
     },
     "execution_count": 2,
     "metadata": {},
     "output_type": "execute_result"
    }
   ],
   "source": [
    "# 피보나치 수열 구하기\n",
    "# 2. 저장하면서 구하기\n",
    "counter = 0         \n",
    "dictionary={        # 값 저장용 딕셔너리\n",
    "    1:1,\n",
    "    2:1\n",
    "}\n",
    "def fibonacci(n):\n",
    "    global counter  \n",
    "    counter += 1\n",
    "    if n in dictionary:     # 이미 해당 n을 구해서 딕셔너리에 저장했는 지 확인\n",
    "        return dictionary[n]\n",
    "    \n",
    "    output = fibonacci(n-1)+fibonacci(n-2)\n",
    "    dictionary[n] = output\n",
    "    return output\n",
    "\n",
    "print(fibonacci(10)) \n",
    "print(counter)      # 카운터가 109 -> 17로 매우 적어짐\n",
    "\n",
    "dictionary[2]"
   ]
  },
  {
   "cell_type": "code",
   "execution_count": 8,
   "metadata": {},
   "outputs": [
    {
     "name": "stdout",
     "output_type": "stream",
     "text": [
      "55\n",
      "8\n"
     ]
    }
   ],
   "source": [
    "# 피보나치 수열 구하기\n",
    "# 3. 다이나믹 프로그래밍\n",
    "counter = 0\n",
    "dp = [1, 1] \n",
    "for i in range(2,10):\n",
    "    dp.append(dp[i-1]+dp[i-2])\n",
    "    counter += 1\n",
    "print(dp[9])\n",
    "print(counter)      # 카운터가 17 -> 8로 더욱 적어짐\n"
   ]
  },
  {
   "cell_type": "markdown",
   "metadata": {},
   "source": [
    "### 5.4 Global 함수\n",
    "변수를 외부에서 참조 -> 외부의 변수를 가져와 값을 바꾸기 위해서 필요함 (= 연산자 제외)"
   ]
  },
  {
   "cell_type": "code",
   "execution_count": null,
   "metadata": {},
   "outputs": [],
   "source": [
    "PI = 3.14\n",
    "def test(rad):  \n",
    "    PI *= 1             # global을 적지 않아 에러\n",
    "    return 2*PI*rad\n",
    "test(2)"
   ]
  },
  {
   "cell_type": "code",
   "execution_count": null,
   "metadata": {},
   "outputs": [],
   "source": [
    "PI = 3.14\n",
    "def test(rad):  \n",
    "    PI = 3.141592             # = 연산자는 global이 없어도 에러 X\n",
    "    return 2*PI*rad\n",
    "test(2)"
   ]
  },
  {
   "cell_type": "markdown",
   "metadata": {},
   "source": [
    "### 5.5 튜플\n",
    "리스트와 비슷한 자료형<br>\n",
    "한 번 결정되면 값을 변경하지 못함"
   ]
  },
  {
   "cell_type": "code",
   "execution_count": 12,
   "metadata": {},
   "outputs": [
    {
     "name": "stdout",
     "output_type": "stream",
     "text": [
      "(10, 20, 30)\n",
      "200 27\n",
      "7 11\n",
      "2\n"
     ]
    }
   ],
   "source": [
    "tuple_A = 10,20,30  # 괄호가 없어도 선언가능\n",
    "x, y = (200,27)     # 튜플을 이용해 변수에 한 번에 값을 넣을 수 있음\n",
    "print(tuple_A)\n",
    "print(x,y)\n",
    "n,m = divmod(x,y)   # 200 / 27의 몫과 나머지를 튜플로 반환해 n,m에 각각 저장\n",
    "print(n,m)\n",
    "list_A = [2,4,5]\n",
    "a,b,c = list_A\n",
    "print(a)"
   ]
  },
  {
   "cell_type": "markdown",
   "metadata": {},
   "source": [
    "### 5.6 람다\n",
    "파이썬은 함수를 매개변수로 전달하는 기능도 지원\n",
    "람다 형식을 이용해 한 줄로 함수를 만들 수 있음"
   ]
  },
  {
   "cell_type": "code",
   "execution_count": 13,
   "metadata": {},
   "outputs": [
    {
     "name": "stdout",
     "output_type": "stream",
     "text": [
      "1 !!\n",
      "2 !!\n",
      "3 !!\n"
     ]
    }
   ],
   "source": [
    "# 1. 함수를 매개변수로 전달\n",
    "def call_func(func):\n",
    "    for i in range(1,4):\n",
    "        func(i)\n",
    "\n",
    "def print_num(n):\n",
    "    print(n,\"!!\")\n",
    "\n",
    "call_func(print_num)    # 매개변수로 함수를 넣음"
   ]
  },
  {
   "cell_type": "code",
   "execution_count": 30,
   "metadata": {},
   "outputs": [
    {
     "name": "stdout",
     "output_type": "stream",
     "text": [
      "[9, 16, 25, 36, 4]\n",
      "[3, 4, 2]\n"
     ]
    }
   ],
   "source": [
    "def power(num):\n",
    "    return num * num\n",
    "def under_5(num):\n",
    "    return num < 5\n",
    "\n",
    "list_A = [3,4,5,6,2]\n",
    "\n",
    "output_power = map(power,list_A)    # A를 각각 power 함수에 넣어 나온 값을 저장\n",
    "print(list(output_power))\n",
    "\n",
    "output_under = filter(under_5,list_A)   # under_5 함수에 넣어 True 인 경우만 리스트에 저장\n",
    "print(list(output_under))"
   ]
  },
  {
   "cell_type": "code",
   "execution_count": 31,
   "metadata": {},
   "outputs": [
    {
     "name": "stdout",
     "output_type": "stream",
     "text": [
      "[9, 16, 25, 36, 4]\n",
      "[3, 4, 2]\n"
     ]
    }
   ],
   "source": [
    "# 2. 람다 형식\n",
    "# lambda (매개변수) : (리턴 값)\n",
    "\n",
    "list_A = [3,4,5,6,2]\n",
    "\n",
    "output_power = map(lambda x: x*x,list_A)    # 람다 형식을 바로 매개변수에 삽입\n",
    "print(list(output_power))\n",
    "\n",
    "output_under = filter(lambda x: x < 5,list_A)   # 위와 동일\n",
    "print(list(output_under))"
   ]
  },
  {
   "cell_type": "markdown",
   "metadata": {},
   "source": [
    "### 5.7 파일 처리\n",
    "텍스트 파일 (txt, csv, json 등) 과 바이너리 파일을 파이썬으로 불러와 읽기,수정, 저장 가능 <br>\n",
    "(파일 객체) = open(문자열: 파일 경로, 문자열 : 읽기모드)           <br>\n",
    "읽기모드 -> w : 새로 쓰기, a : 뒤에서 이어 쓰기, r : 읽기          <br>\n",
    "<U>__파일 경로에 바로 파일 명을 적는 경우 현재 파일에서 찾음__</U>          <br>\n",
    "(파일 객체).close -> 파일 닫기"
   ]
  },
  {
   "cell_type": "code",
   "execution_count": 44,
   "metadata": {},
   "outputs": [
    {
     "name": "stdout",
     "output_type": "stream",
     "text": [
      "Hello Python!!\n",
      "Hello Python!!!\n"
     ]
    }
   ],
   "source": [
    "file = open(\"file_test.txt\",\"w\")         # 현재 파일경로에서 test.txt를 쓰기 모드로 열기 (없는 경우 자동으로 생성!)\n",
    "file.write(\"Hello Python!!\\n\")      # 문자열 작성\n",
    "file.close()                        # 파일 닫기\n",
    "\n",
    "\n",
    "with open(\"file_test.txt\",\"a\") as file:  # with문이 끝나면 자동으로 파일이 닫힘\n",
    "    file.write(\"Hello Python!!!\")\n",
    "\n",
    "with open(\"file_test.txt\",\"r\") as file:  # 읽기 모드로 열기\n",
    "    contents = file.read()\n",
    "    \n",
    "print(contents)"
   ]
  },
  {
   "cell_type": "markdown",
   "metadata": {},
   "source": [
    "### 7-1. 표준 모듈\n",
    "파이썬에는 매우 많은 표준 모듈이 있음 <br>\n",
    "이를 가져오는 방법에 여러가지가 있음 <br>\n",
    "모듈 전체를 가져올 수 있고 필요한 함수만 가져올 수 있음 <br>\n",
    "```python \n",
    "import math # 으로 모듈을 가져올 수 있음\n",
    "# math.sin() 으로 사용 가능\n",
    "import math as mt\n",
    "# m.sin() 으로 사용 가능\n",
    "from math import sin, cos   # math 모듈에서 sin, cos 함수만 가져옴\n",
    "# sin() 으로 사용 가능\n",
    "from math import *          # math 모듈의 함수와 변수 모두 가져옴\n",
    "\n",
    "``` \n",
    "<U>많이 사용하는 모듈들</U> <br>\n",
    "math : 수학관련 모듈  (삼각함수, 반올림, 로그 등등) <br>\n",
    "random : 랜덤확률  <br>\n",
    "datetime : 날짜  <br>\n",
    "time : 시간 관련 (time.sleep(n) : n초 동안 정지) <br>\n",
    "urlib : URL 에서 값 읽기 <br>\n",
    "sys : 시스템  <br>\n",
    "os : 운영체제  <br>"
   ]
  },
  {
   "cell_type": "markdown",
   "metadata": {},
   "source": [
    "### 7-2. 외부 모듈\n",
    "외부 모듈은 터미널에서 pip(파이썬의 표준 패키지 관리자)를 사용해 설치할 수 있음 <br> \n",
    "pip3 install (모듈 이름)<br> <br>\n",
    "<U>많이 사용하는 외부 모듈 </U><br>\n",
    "numpy : 행렬 관련 <br>\n",
    "tensorflow : 기계학습<br>\n",
    "matplotlib : 데이터 시각화<br>\n",
    "<br><br>\n",
    "__외부 모듈에서 2가지 형태가 있음__<br>\n",
    "라이브러리 : 개발자가 모듈의 기능을 호출하는 형태 <br>\n",
    "프레임워크 : 개발자가 작성한 코드를 모듈에서 실행하는 형태 (제어 역전)"
   ]
  },
  {
   "cell_type": "markdown",
   "metadata": {},
   "source": [
    "### 7-3. 모듈 방식의 차이\n",
    "**from module import * 와 import module의 차이** <br>\n",
    "import module        --> 모듈의 함수만 가져옴 <br>\n",
    "from module import * --> 모듈의 함수와 변수를 모두 다 가져옴<br>\n",
    "\n",
    "```python \n",
    "import math                 # math 모듈의 함수만 가져옴\n",
    "from math import *          # math 모듈의 함수와 변수 모두 가져옴\n",
    "``` \n",
    "\n",
    "변수 __name__의 값은 메인(프로그램의 진입점) 인지 모듈인지에 따라서 달라짐!! <br>\n",
    "메인에서의 \\_\\_name\\_\\_은 \"\\_\\_main\\_\\_\"이고 <br>\n",
    "모듈에서의 \\_\\_name\\_\\_은 str(모듈이름) 이다. <br>\n",
    "\n",
    "--> 모듈안에 if (\\_\\_name__ == \\_\\_main\\_\\_): 구문을 삽입해 모듈을 import하는 사용자 환경에서 실행되지 않는 테스트를 위한 코드를 만들 수 있음"
   ]
=======
   "outputs": [],
   "source": []
>>>>>>> 66c8e163851c940398e33b6ce2d7f2f038267e56
  }
 ],
 "metadata": {
  "kernelspec": {
   "display_name": "Python 3",
   "language": "python",
   "name": "python3"
  },
  "language_info": {
   "codemirror_mode": {
    "name": "ipython",
    "version": 3
   },
   "file_extension": ".py",
   "mimetype": "text/x-python",
   "name": "python",
   "nbconvert_exporter": "python",
   "pygments_lexer": "ipython3",
   "version": "3.9.13"
  }
 },
 "nbformat": 4,
 "nbformat_minor": 2
}
