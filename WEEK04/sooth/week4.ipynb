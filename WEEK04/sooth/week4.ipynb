{
 "cells": [
  {
   "cell_type": "markdown",
   "metadata": {},
   "source": [
    "# 4. 반복문"
   ]
  },
  {
   "cell_type": "markdown",
   "metadata": {},
   "source": [
    "### 1. 리스트"
   ]
  },
  {
   "cell_type": "markdown",
   "metadata": {},
   "source": [
    "#### (1) 리스트란 ? : 파이썬에서 리스트란 여러 가지 자료를 저장할 수 있는 자료이다. 대괄호 [] 내부에 여러 종류의 자료형을 넣어 선언한다. 선언한 리스트를 출력하면 내부의 자료를 모두 출력한다.\n",
    "#### (2) 리스트 선언하고 요소에 접근하기 : 대괄호[] 내부에 넣는 자료를 요소라하고 하고 영어로는 element라고 한다. \n",
    "- 리스트 기호인 대괄호 안에 들어간 숫자를 인덱스라 한다. 파이썬은 인덱스를 0부터 계산한다.\n",
    "- 슬라이싱 : 예를 들어 list_2[1:3]은 1번째부터 2번째 요소를 선택한다.\n",
    "- 리스트의 특정 요소 변경 가능 "
   ]
  },
  {
   "cell_type": "code",
   "execution_count": 4,
   "metadata": {},
   "outputs": [
    {
     "name": "stdout",
     "output_type": "stream",
     "text": [
      "[1, 2, 3, 4]\n",
      "['안', '녕', '히', '계', '세', '요']\n",
      "[2, 5, '하이', 'True']\n",
      "1\n",
      "계\n",
      "하이\n",
      "안녕\n"
     ]
    }
   ],
   "source": [
    "list_1 = [1,2,3,4] # 숫자만\n",
    "list_2 = [\"안\",\"녕\",\"히\",\"계\",\"세\",\"요\"] # 문자열만\n",
    "list_3 = [2, 5, \"하이\", \"True\"] # 여러 가지 자료형\n",
    "print(list_1)\n",
    "print(list_2)\n",
    "print(list_3)\n",
    "print(list_1[0])\n",
    "print(list_2[3])\n",
    "print(list_3[2])\n",
    "list_3[2] = \"안녕\" # 리스트 요소 변경\n",
    "print(list_3[2])"
   ]
  },
  {
   "cell_type": "markdown",
   "metadata": {},
   "source": [
    "- 대괄호 안에 음수를 넣어 뒤에서부터 요소 선택 가능"
   ]
  },
  {
   "cell_type": "code",
   "execution_count": 7,
   "metadata": {},
   "outputs": [
    {
     "name": "stdout",
     "output_type": "stream",
     "text": [
      "True\n",
      "안녕\n",
      "5\n",
      "2\n"
     ]
    }
   ],
   "source": [
    "print(list_3[-1])\n",
    "print(list_3[-2])\n",
    "print(list_3[-3])\n",
    "print(list_3[-4])"
   ]
  },
  {
   "cell_type": "markdown",
   "metadata": {},
   "source": [
    "- 리스트 접근 연산자 이중 사용 가능"
   ]
  },
  {
   "cell_type": "code",
   "execution_count": 10,
   "metadata": {},
   "outputs": [
    {
     "name": "stdout",
     "output_type": "stream",
     "text": [
      "안녕\n",
      "안\n"
     ]
    }
   ],
   "source": [
    "print(list_3[2])\n",
    "print(list_3[2][0]) # \"안녕\"의 첫번째 글자"
   ]
  },
  {
   "cell_type": "markdown",
   "metadata": {},
   "source": [
    "- 리스트 안에 리스트 사용 가능"
   ]
  },
  {
   "cell_type": "code",
   "execution_count": 12,
   "metadata": {},
   "outputs": [
    {
     "name": "stdout",
     "output_type": "stream",
     "text": [
      "[[1, 2, 3], [4, 5, 6], [7, 8, 9]]\n",
      "[1, 2, 3]\n",
      "1\n"
     ]
    }
   ],
   "source": [
    "list_4 = [[1,2,3],[4,5,6],[7,8,9]]\n",
    "print(list_4)\n",
    "print(list_4[0])\n",
    "print(list_4[0][0])"
   ]
  },
  {
   "cell_type": "markdown",
   "metadata": {},
   "source": [
    "- Indexerror : 리스트의 길이를 넘는 인덱스로 요소에 접근하려고 할 때 발생하는 예외"
   ]
  },
  {
   "cell_type": "markdown",
   "metadata": {},
   "source": [
    "#### (4) 리스트 연산자 : 연결(+), 반복(*), len()"
   ]
  },
  {
   "cell_type": "markdown",
   "metadata": {},
   "source": [
    "#### (5) 리스트에 요소 추가 : append(), insert(), extend()"
   ]
  },
  {
   "cell_type": "code",
   "execution_count": 17,
   "metadata": {},
   "outputs": [
    {
     "name": "stdout",
     "output_type": "stream",
     "text": [
      "[1, 2, 3, 4]\n",
      "[10, 1, 2, 3, 4]\n",
      "[10, 1, 2, 3, 4, 4, 5, 6]\n"
     ]
    }
   ],
   "source": [
    "list_a = [1,2,3]\n",
    "list_a.append(4) # 리스트명.append(요소)\n",
    "print(list_a)\n",
    "\n",
    "list_a.insert(0,10) # 리스트명.insert(위치, 요소)\n",
    "print(list_a)\n",
    "\n",
    "list_a.extend([4,5,6]) # 리스트명.extend(요소들)\n",
    "print(list_a)"
   ]
  },
  {
   "cell_type": "markdown",
   "metadata": {},
   "source": [
    "- 리스트 연결 연산자와 요소 추가의 차이 : 리스트 연결 연산자는 원본에 어떠한 변화도 없지만(비파괴적), 요소를 추가하는 함수를 사용하면 원본이 변한다.(파괴적)"
   ]
  },
  {
   "cell_type": "markdown",
   "metadata": {},
   "source": [
    "#### (6) 리스트 요소 제거\n",
    "- 인덱스로 제거하기 : del, pop\n",
    "    - del은 범위를 지정해 리스트의 요소를 한꺼번에 제거할 수도 있다.\n",
    "    - pop() 함수의 매개변수에 아무 것도 입력하지 않으면 자동으로 -1이 들어가 마지막 요소를 제거한다."
   ]
  },
  {
   "cell_type": "code",
   "execution_count": 22,
   "metadata": {},
   "outputs": [
    {
     "name": "stdout",
     "output_type": "stream",
     "text": [
      "[0, 2, 3, 4, 5]\n",
      "[0, 2, 4, 5]\n",
      "[5]\n"
     ]
    }
   ],
   "source": [
    "list_b = [0, 1, 2, 3, 4, 5]\n",
    "\n",
    "del list_b[1] # del 리스트명[인덱스]\n",
    "print(list_b)\n",
    "\n",
    "list_b.pop(2) # 리스트명.pop(인덱스)\n",
    "print(list_b)\n",
    "\n",
    "del list_b[0:3]\n",
    "print(list_b)"
   ]
  },
  {
   "cell_type": "markdown",
   "metadata": {},
   "source": [
    "- 값으로 제거하기 : remove\n",
    "    - 리스트 내부에 여러 개가 있어도 가장 먼저 발견되는 하나만 제거한다."
   ]
  },
  {
   "cell_type": "code",
   "execution_count": 23,
   "metadata": {},
   "outputs": [
    {
     "name": "stdout",
     "output_type": "stream",
     "text": [
      "[1, 1, 2]\n"
     ]
    }
   ],
   "source": [
    "list_c = [1, 2, 1, 2]\n",
    "list_c.remove(2) # 리스트명.remove(값)\n",
    "print(list_c)"
   ]
  },
  {
   "cell_type": "markdown",
   "metadata": {},
   "source": [
    "- 모두 제거하기 : clear"
   ]
  },
  {
   "cell_type": "code",
   "execution_count": 24,
   "metadata": {},
   "outputs": [
    {
     "name": "stdout",
     "output_type": "stream",
     "text": [
      "[]\n"
     ]
    }
   ],
   "source": [
    "list_d = [0, 1, 2, 3, 4]\n",
    "list_d.clear() # 리스트명.clear()\n",
    "print(list_d)"
   ]
  },
  {
   "cell_type": "markdown",
   "metadata": {},
   "source": [
    "#### (6) 리스트 내부에 있는지 확인하기 : in / not in 연산자"
   ]
  },
  {
   "cell_type": "code",
   "execution_count": 26,
   "metadata": {},
   "outputs": [
    {
     "data": {
      "text/plain": [
       "True"
      ]
     },
     "execution_count": 26,
     "metadata": {},
     "output_type": "execute_result"
    }
   ],
   "source": [
    "1 in list_a"
   ]
  },
  {
   "cell_type": "code",
   "execution_count": 27,
   "metadata": {},
   "outputs": [
    {
     "data": {
      "text/plain": [
       "False"
      ]
     },
     "execution_count": 27,
     "metadata": {},
     "output_type": "execute_result"
    }
   ],
   "source": [
    "100 in list_a"
   ]
  },
  {
   "cell_type": "code",
   "execution_count": 28,
   "metadata": {},
   "outputs": [
    {
     "data": {
      "text/plain": [
       "False"
      ]
     },
     "execution_count": 28,
     "metadata": {},
     "output_type": "execute_result"
    }
   ],
   "source": [
    "1 not in list_a"
   ]
  },
  {
   "cell_type": "code",
   "execution_count": 29,
   "metadata": {},
   "outputs": [
    {
     "data": {
      "text/plain": [
       "True"
      ]
     },
     "execution_count": 29,
     "metadata": {},
     "output_type": "execute_result"
    }
   ],
   "source": [
    "100 not in list_a"
   ]
  },
  {
   "cell_type": "markdown",
   "metadata": {},
   "source": [
    "### 2. for문\n",
    "\n",
    "for 반복자 in 반복할 수 있는 것:\n",
    "\n",
    "코드"
   ]
  },
  {
   "cell_type": "code",
   "execution_count": 30,
   "metadata": {},
   "outputs": [
    {
     "name": "stdout",
     "output_type": "stream",
     "text": [
      "1\n",
      "2\n",
      "3\n",
      "4\n",
      "5\n"
     ]
    }
   ],
   "source": [
    "# for문 리스트와 사용\n",
    "array = [1, 2, 3, 4, 5]\n",
    "for element in array:\n",
    "    print(element)"
   ]
  },
  {
   "cell_type": "code",
   "execution_count": 32,
   "metadata": {},
   "outputs": [
    {
     "name": "stdout",
     "output_type": "stream",
     "text": [
      "- 안\n",
      "- 녕\n",
      "- 하\n",
      "- 세\n",
      "- 요\n"
     ]
    }
   ],
   "source": [
    "# for문 문자열과 사용\n",
    "for character in \"안녕하세요\":\n",
    "    print(\"-\", character)"
   ]
  },
  {
   "cell_type": "markdown",
   "metadata": {},
   "source": [
    "#### <예제>"
   ]
  },
  {
   "cell_type": "code",
   "execution_count": 36,
   "metadata": {},
   "outputs": [
    {
     "name": "stdout",
     "output_type": "stream",
     "text": [
      "273 는 홀수입니다.\n",
      "103 는 홀수입니다.\n",
      "5 는 홀수입니다.\n",
      "32 는 짝수입니다.\n",
      "65 는 홀수입니다.\n",
      "9 는 홀수입니다.\n",
      "72 는 짝수입니다.\n",
      "800 는 짝수입니다.\n",
      "99 는 홀수입니다.\n"
     ]
    }
   ],
   "source": [
    "numbers = [273, 103, 5, 32, 65, 9, 72, 800, 99]\n",
    "\n",
    "for number in numbers:\n",
    "    if number % 2 == 0:\n",
    "        print(number, \"는\", \"짝수입니다.\")\n",
    "    elif number % 2 != 0:\n",
    "        print(number, \"는\", \"홀수입니다.\")"
   ]
  },
  {
   "cell_type": "code",
   "execution_count": 42,
   "metadata": {},
   "outputs": [
    {
     "name": "stdout",
     "output_type": "stream",
     "text": [
      "1\n",
      "2\n",
      "3\n",
      "4\n",
      "5\n",
      "6\n",
      "7\n",
      "8\n",
      "9\n"
     ]
    }
   ],
   "source": [
    "list_of_list = [[1,2,3],[4,5,6,7],[8,9]]\n",
    "\n",
    "for sub in list_of_list:\n",
    "    for l in sub:\n",
    "        print(l)"
   ]
  },
  {
   "cell_type": "markdown",
   "metadata": {},
   "source": [
    "### 3. 딕셔너리 : 리스트가 인덱스를 기반으로 값을 저장하는 것이라면 딕셔너리는 키를 기반으로 값을 저장하는 것\n",
    "### (1) 딕셔너리 선언하기 : 중괄호 {}로 선언, '키:값' 형태를 쉼표로 연결해 만든다. 키는 문자열, 숫자, 불 등으로 선언할 수 있다. 딕셔너리 값에는 문자열, 숫자, 불, 리스트, 딕셔너리를 넣을 수 있다."
   ]
  },
  {
   "cell_type": "code",
   "execution_count": 45,
   "metadata": {},
   "outputs": [],
   "source": [
    "dic_1 = {\n",
    "    \"name\": \"어밴저스 엔드게임\",\n",
    "    \"type\": \"히어로 무비\"\n",
    "}"
   ]
  },
  {
   "cell_type": "markdown",
   "metadata": {},
   "source": [
    "### (2) 딕셔너리 요소에 접근하기 : 리스트처럼 딕셔너리 뒤에 대괄호[]를 입력하고 내부에 인덱스처럼 키를 입력한다. "
   ]
  },
  {
   "cell_type": "code",
   "execution_count": 47,
   "metadata": {},
   "outputs": [
    {
     "name": "stdout",
     "output_type": "stream",
     "text": [
      "어밴저스 엔드게임\n",
      "히어로 무비\n"
     ]
    }
   ],
   "source": [
    "print(dic_1[\"name\"])\n",
    "print(dic_1[\"type\"])"
   ]
  },
  {
   "cell_type": "code",
   "execution_count": 49,
   "metadata": {},
   "outputs": [
    {
     "name": "stdout",
     "output_type": "stream",
     "text": [
      "name: 7D 건조 망고\n",
      "type: 당절임\n",
      "ingredient: ['망고', '설탕', '메타중아황산나트륨', '치자황색소']\n",
      "origin: 필리핀\n",
      "\n",
      "name: 8D 건조 망고\n"
     ]
    },
    {
     "data": {
      "text/plain": [
       "'설탕'"
      ]
     },
     "execution_count": 49,
     "metadata": {},
     "output_type": "execute_result"
    }
   ],
   "source": [
    "dictionary = {\n",
    "    \"name\" : \"7D 건조 망고\",\n",
    "    \"type\" : \"당절임\",\n",
    "    \"ingredient\" : [\"망고\", \"설탕\", \"메타중아황산나트륨\", \"치자황색소\"],\n",
    "    \"origin\" : \"필리핀\"\n",
    "}\n",
    "\n",
    "print(\"name:\", dictionary[\"name\"])\n",
    "print(\"type:\", dictionary[\"type\"])\n",
    "print(\"ingredient:\", dictionary[\"ingredient\"])\n",
    "print(\"origin:\", dictionary[\"origin\"])\n",
    "print()\n",
    "\n",
    "# 값 변경\n",
    "dictionary[\"name\"] = \"8D 건조 망고\"\n",
    "print(\"name:\", dictionary[\"name\"])\n",
    "\n",
    "# ingredent의 값은 리스트형이므로 인덱스를 지정하여 리스트 안의 특정 값을 출력할 수 있다.\n",
    "dictionary[\"ingredient\"][1]"
   ]
  },
  {
   "cell_type": "markdown",
   "metadata": {},
   "source": [
    "- 딕셔너리의 문자열 키와 관련된 실수 : NameError, 키 정의되지 않았다는 오류, 파이썬은 딕셔너리의 키에 단순한 식별자를 입력하면 이를 변수로 인식한다."
   ]
  },
  {
   "cell_type": "code",
   "execution_count": 53,
   "metadata": {},
   "outputs": [],
   "source": [
    "dictionary = {\n",
    "    name : \"7D 건조 망고\",\n",
    "    type : \"당절임\",\n",
    "    \"ingredient\" : [\"망고\", \"설탕\", \"메타중아황산나트륨\", \"치자황색소\"],\n",
    "    \"origin\" : \"필리핀\"\n",
    "}"
   ]
  },
  {
   "cell_type": "code",
   "execution_count": 52,
   "metadata": {},
   "outputs": [
    {
     "data": {
      "text/plain": [
       "{'이름': '7D 건조 망고',\n",
       " 'type': '당절임',\n",
       " 'ingredient': ['망고', '설탕', '메타중아황산나트륨', '치자황색소'],\n",
       " 'origin': '필리핀'}"
      ]
     },
     "execution_count": 52,
     "metadata": {},
     "output_type": "execute_result"
    }
   ],
   "source": [
    "# name이라는 변수를 만들어 문제 해결\n",
    "name = \"이름\"\n",
    "dictionary = {\n",
    "    name : \"7D 건조 망고\",\n",
    "    type : \"당절임\", # type은 type()이라는 기본 식별자가 있기 때문에 이것이 키로 들어가 오류를 발생시키지 않는다.\n",
    "    \"ingredient\" : [\"망고\", \"설탕\", \"메타중아황산나트륨\", \"치자황색소\"],\n",
    "    \"origin\" : \"필리핀\"\n",
    "}\n",
    "dictionary"
   ]
  },
  {
   "cell_type": "markdown",
   "metadata": {},
   "source": [
    "- KeyError 예외 : 딕셔너리에 존재하지 않는 키에 접근하면 KeyError 발생"
   ]
  },
  {
   "cell_type": "markdown",
   "metadata": {},
   "source": [
    "#### (3) 딕셔너리에 값 추가 / 제거\n",
    "- 추가 : 딕셔너리[새로운 키] = 새로운 값\n",
    "- 제거 : del 이용"
   ]
  },
  {
   "cell_type": "markdown",
   "metadata": {},
   "source": [
    "#### (4) 딕셔너리 내부에 키가 있는지 확인\n",
    "- in 키워드"
   ]
  },
  {
   "cell_type": "code",
   "execution_count": 55,
   "metadata": {},
   "outputs": [
    {
     "name": "stdout",
     "output_type": "stream",
     "text": [
      "존재하지 않습니다.\n",
      "7D 건조 망고\n"
     ]
    }
   ],
   "source": [
    "dictionary = {\n",
    "    \"name\" : \"7D 건조 망고\",\n",
    "    \"type\" : \"당절임\",\n",
    "    \"ingredient\" : [\"망고\", \"설탕\", \"메타중아황산나트륨\", \"치자황색소\"],\n",
    "    \"origin\" : \"필리핀\"\n",
    "}\n",
    "\n",
    "if name in dictionary:\n",
    "    print(dictionary[name])\n",
    "else:\n",
    "    print(\"존재하지 않습니다.\")\n",
    "\n",
    "if \"name\" in dictionary:\n",
    "    print(dictionary[\"name\"])\n",
    "else:\n",
    "    print(\"존재하지 않습니다.\")"
   ]
  },
  {
   "cell_type": "markdown",
   "metadata": {},
   "source": [
    "- get() : 존재하지 않는 키에 접근하는 상황 => None 출력"
   ]
  },
  {
   "cell_type": "code",
   "execution_count": 56,
   "metadata": {},
   "outputs": [
    {
     "name": "stdout",
     "output_type": "stream",
     "text": [
      "value\n",
      "존재하지 않는 키입니다.\n"
     ]
    }
   ],
   "source": [
    "dictionary = {\n",
    "    \"name\" : \"7D 건조 망고\",\n",
    "    \"type\" : \"당절임\",\n",
    "    \"ingredient\" : [\"망고\", \"설탕\", \"메타중아황산나트륨\", \"치자황색소\"],\n",
    "    \"origin\" : \"필리핀\"\n",
    "}\n",
    "\n",
    "value = dictionary.get(\"존재하지 않는 키\")\n",
    "print(\"value\")\n",
    "\n",
    "if value == None:\n",
    "    print(\"존재하지 않는 키입니다.\")"
   ]
  },
  {
   "cell_type": "markdown",
   "metadata": {},
   "source": [
    "#### (5) for문과 딕셔너리\n",
    "\n",
    "for 키 변수 in 딕셔너리:\n",
    "\n",
    "코드"
   ]
  },
  {
   "cell_type": "code",
   "execution_count": 57,
   "metadata": {},
   "outputs": [
    {
     "name": "stdout",
     "output_type": "stream",
     "text": [
      "name 7D 건조 망고\n",
      "type 당절임\n",
      "ingredient ['망고', '설탕', '메타중아황산나트륨', '치자황색소']\n",
      "origin 필리핀\n"
     ]
    }
   ],
   "source": [
    "dictionary = {\n",
    "    \"name\" : \"7D 건조 망고\",\n",
    "    \"type\" : \"당절임\",\n",
    "    \"ingredient\" : [\"망고\", \"설탕\", \"메타중아황산나트륨\", \"치자황색소\"],\n",
    "    \"origin\" : \"필리핀\"\n",
    "}\n",
    "\n",
    "for key in dictionary:\n",
    "    print(key, dictionary[key])"
   ]
  },
  {
   "cell_type": "markdown",
   "metadata": {},
   "source": [
    "#### <예제>"
   ]
  },
  {
   "cell_type": "code",
   "execution_count": 74,
   "metadata": {},
   "outputs": [
    {
     "name": "stdout",
     "output_type": "stream",
     "text": [
      "# 우리 동네 애완 동물들\n",
      "구름 5 살\n",
      "초코 3 살\n",
      "아지 1 살\n",
      "호랑이 1 살\n"
     ]
    }
   ],
   "source": [
    "pets = [\n",
    "    {\"name\":\"구름\", \"age\":5},\n",
    "    {\"name\":\"초코\", \"age\":3},\n",
    "    {\"name\":\"아지\", \"age\":1},\n",
    "    {\"name\":\"호랑이\", \"age\":1},\n",
    "]\n",
    "\n",
    "print(\"# 우리 동네 애완 동물들\")\n",
    "for pet in pets:\n",
    "    print(pet[\"name\"], pet[\"age\"], \"살\")"
   ]
  },
  {
   "cell_type": "markdown",
   "metadata": {},
   "source": [
    "### 4. 반복문과 while 반복문"
   ]
  },
  {
   "cell_type": "markdown",
   "metadata": {},
   "source": [
    "(1) 범위 : range()의 매개변수는 반드시 \"정수\"여야 한다. (수식이 들어가면 안 된다.)\n",
    "- 매개변수에 숫자 한 개 : range(A)\n",
    "- 숫자 두 개 : range(A, B) -> A부터 B-1\n",
    "- 숫자 세 개 : range(A, B, C) -> A부터 C만큼 건너뒤며 B-1까지"
   ]
  },
  {
   "cell_type": "markdown",
   "metadata": {},
   "source": [
    "(2) for문 범위와 함께 사용"
   ]
  },
  {
   "cell_type": "code",
   "execution_count": 76,
   "metadata": {},
   "outputs": [
    {
     "name": "stdout",
     "output_type": "stream",
     "text": [
      "0=반복 변수\n",
      "1=반복 변수\n",
      "2=반복 변수\n",
      "3=반복 변수\n",
      "4=반복 변수\n",
      "\n",
      "5=반복 변수\n",
      "6=반복 변수\n",
      "7=반복 변수\n",
      "8=반복 변수\n",
      "9=반복 변수\n",
      "\n",
      "0=반복 변수\n",
      "3=반복 변수\n",
      "6=반복 변수\n",
      "9=반복 변수\n",
      "\n"
     ]
    }
   ],
   "source": [
    "# range 사용\n",
    "for i in range(5):\n",
    "    print(str(i) + \"=반복 변수\")\n",
    "print()\n",
    "\n",
    "for i in range(5, 10):\n",
    "    print(str(i) + \"=반복 변수\")\n",
    "print()\n",
    "\n",
    "for i in range(0, 10, 3):\n",
    "    print(str(i) + \"=반복 변수\")\n",
    "print()"
   ]
  },
  {
   "cell_type": "code",
   "execution_count": 78,
   "metadata": {},
   "outputs": [
    {
     "name": "stdout",
     "output_type": "stream",
     "text": [
      "0번째 반복 : 273\n",
      "1번째 반복 : 32\n",
      "2번째 반복 : 103\n",
      "3번째 반복 : 57\n",
      "4번째 반복 : 52\n"
     ]
    }
   ],
   "source": [
    "# 리스트를 범위로\n",
    "\n",
    "arr = [273, 32, 103, 57, 52]\n",
    "\n",
    "for i in range(len(arr)):\n",
    "    print(\"{}번째 반복 : {}\".format(i, arr[i]))"
   ]
  },
  {
   "cell_type": "code",
   "execution_count": 80,
   "metadata": {},
   "outputs": [
    {
     "name": "stdout",
     "output_type": "stream",
     "text": [
      "현재 반복 변수: 4\n",
      "현재 반복 변수: 3\n",
      "현재 반복 변수: 2\n",
      "현재 반복 변수: 1\n",
      "현재 반복 변수: 0\n",
      "\n",
      "현재 반복 변수: 4\n",
      "현재 반복 변수: 3\n",
      "현재 반복 변수: 2\n",
      "현재 반복 변수: 1\n",
      "현재 반복 변수: 0\n"
     ]
    }
   ],
   "source": [
    "# 반대로 반복\n",
    "\n",
    "# range() 사용\n",
    "for i in range(4, 0 -1, -1):\n",
    "    print(\"현재 반복 변수: {}\".format(i))\n",
    "print()\n",
    "\n",
    "# reversed() 사용\n",
    "for i in reversed(range(5)):\n",
    "    print(\"현재 반복 변수: {}\".format(i))"
   ]
  },
  {
   "cell_type": "markdown",
   "metadata": {},
   "source": [
    "#### (3) while\n",
    "\n",
    "while 불 표현식:\n",
    "\n",
    "문장"
   ]
  },
  {
   "cell_type": "markdown",
   "metadata": {},
   "source": [
    "- while을 for문처럼 사용하기"
   ]
  },
  {
   "cell_type": "code",
   "execution_count": 81,
   "metadata": {},
   "outputs": [
    {
     "name": "stdout",
     "output_type": "stream",
     "text": [
      "0번째 반복입니다.\n",
      "1번째 반복입니다.\n",
      "2번째 반복입니다.\n",
      "3번째 반복입니다.\n",
      "4번째 반복입니다.\n",
      "5번째 반복입니다.\n",
      "6번째 반복입니다.\n",
      "7번째 반복입니다.\n",
      "8번째 반복입니다.\n",
      "9번째 반복입니다.\n"
     ]
    }
   ],
   "source": [
    "i = 0\n",
    "while i < 10:\n",
    "    print(\"{}번째 반복입니다.\".format(i))\n",
    "    i+=1"
   ]
  },
  {
   "cell_type": "markdown",
   "metadata": {},
   "source": [
    "- 상태를 기반으로 반복하기 : 조건을 리스트 내부에 요소가 있는 동안으로 지정"
   ]
  },
  {
   "cell_type": "code",
   "execution_count": 82,
   "metadata": {},
   "outputs": [
    {
     "name": "stdout",
     "output_type": "stream",
     "text": [
      "[1, 1]\n"
     ]
    }
   ],
   "source": [
    "list_test = [1, 2, 1, 2]\n",
    "value = 2\n",
    "\n",
    "while value in list_test:\n",
    "    list_test.remove(value)\n",
    "\n",
    "print(list_test)"
   ]
  },
  {
   "cell_type": "markdown",
   "metadata": {},
   "source": [
    "- break 키워드 / continue 키워드\n",
    "    - break : 반복문 종료 -> 무한 반복문을 만들고, 내부의 반복을 벗어날 때 많이 사용\n",
    "    - continue : 현재 반복을 생략하고, 다음 반복으로 넘어갈 때 사용"
   ]
  },
  {
   "cell_type": "code",
   "execution_count": 84,
   "metadata": {},
   "outputs": [
    {
     "name": "stdout",
     "output_type": "stream",
     "text": [
      "15\n",
      "20\n",
      "25\n"
     ]
    }
   ],
   "source": [
    "numbers = [5, 15, 6, 20, 7, 25]\n",
    "\n",
    "for number in numbers:\n",
    "    if number < 10:\n",
    "        continue # number가 10보다 작으면 다음 반복으로 넘어간다. (오류 발생하지 않는다.)\n",
    "    print(number)"
   ]
  },
  {
   "cell_type": "markdown",
   "metadata": {},
   "source": [
    "#### <예제>"
   ]
  },
  {
   "cell_type": "code",
   "execution_count": 85,
   "metadata": {},
   "outputs": [
    {
     "name": "stdout",
     "output_type": "stream",
     "text": [
      "{'name': '기사', 'hp': 200, 'mp': 30, 'level': 5}\n"
     ]
    }
   ],
   "source": [
    "key_list = [\"name\", \"hp\", \"mp\", \"level\"]\n",
    "value_list = [\"기사\", 200, 30, 5]\n",
    "character = {}\n",
    "\n",
    "for i in range(len(key_list)):\n",
    "    character[key_list[i]] = value_list[i]\n",
    "\n",
    "print(character)"
   ]
  },
  {
   "cell_type": "markdown",
   "metadata": {},
   "source": [
    "### 4. 문자열, 리스트, 딕셔너리와 관련된 기본 함수들"
   ]
  },
  {
   "cell_type": "markdown",
   "metadata": {},
   "source": [
    "#### (1) 리스트에 적용할 수 있는 기본 함수들\n",
    "- min() : 리스트 내부에서 최솟값 찾기\n",
    "- max() : 리스트 내부에서 최댓값 찾기\n",
    "- sum() : 리스트 내부에서 값을 모두 더하기\n",
    "(참고 : 리스트 설정하지 않고 매개변수로 직접 넣어 사용할 수 있다.)"
   ]
  },
  {
   "cell_type": "markdown",
   "metadata": {},
   "source": [
    "#### (2) reversed() : 매개변수에 리스트 넣으면 리스트 뒤집을 수 있다."
   ]
  },
  {
   "cell_type": "code",
   "execution_count": 86,
   "metadata": {},
   "outputs": [
    {
     "name": "stdout",
     "output_type": "stream",
     "text": [
      "첫 번째 반복문 : 6\n",
      "첫 번째 반복문 : 5\n",
      "첫 번째 반복문 : 4\n",
      "첫 번째 반복문 : 3\n",
      "첫 번째 반복문 : 2\n",
      "첫 번째 반복문 : 1\n"
     ]
    }
   ],
   "source": [
    "temp = reversed([1,2,3,4,5,6])\n",
    "\n",
    "for i in temp:\n",
    "    print(\"첫 번째 반복문 : {}\".format(i))\n",
    "\n",
    "for i in temp:\n",
    "    print(\"두 번째 반복문 : {}\".format(i))"
   ]
  },
  {
   "cell_type": "markdown",
   "metadata": {},
   "source": [
    "위 코드 실행 출력 결과 첫 번째 반복문만 실행된다. => reversed()함수 결과가 제너레이터이기 때문이다. 제너레이터는 파이썬의 특별한 기능으로, 일단 reversed()함수와 반복문을 조합할 때는 함수의 결과를 여러 번 활용하지 않고 for 구문 내부에 reversed() 함수를 곧바로 넣어 사용한다. 즉, 필요한 시점에 사용한다."
   ]
  },
  {
   "cell_type": "code",
   "execution_count": 87,
   "metadata": {},
   "outputs": [
    {
     "name": "stdout",
     "output_type": "stream",
     "text": [
      "첫 번째 반복문 : 6\n",
      "첫 번째 반복문 : 5\n",
      "첫 번째 반복문 : 4\n",
      "첫 번째 반복문 : 3\n",
      "첫 번째 반복문 : 2\n",
      "첫 번째 반복문 : 1\n",
      "두 번째 반복문 : 6\n",
      "두 번째 반복문 : 5\n",
      "두 번째 반복문 : 4\n",
      "두 번째 반복문 : 3\n",
      "두 번째 반복문 : 2\n",
      "두 번째 반복문 : 1\n"
     ]
    }
   ],
   "source": [
    "numbers = [1,2,3,4,5,6]\n",
    "\n",
    "for i in reversed(numbers):\n",
    "    print(\"첫 번째 반복문 : {}\".format(i))\n",
    "\n",
    "for i in reversed(numbers):\n",
    "    print(\"두 번째 반복문 : {}\".format(i))"
   ]
  },
  {
   "cell_type": "markdown",
   "metadata": {},
   "source": [
    "- 리스트 뒤집을 수 잇는 추가적인 방ㅂ버으로, 확장 슬라이싱이 있다. 리스트 뒤에 [::-1]을 붙이면 리스트 내용이 뒤집힌다."
   ]
  },
  {
   "cell_type": "markdown",
   "metadata": {},
   "source": [
    "#### (3) enumerate()와 반복문 조합"
   ]
  },
  {
   "cell_type": "code",
   "execution_count": 89,
   "metadata": {},
   "outputs": [
    {
     "name": "stdout",
     "output_type": "stream",
     "text": [
      "# 단순 출력\n",
      "['요소A', '요소B', '요소C']\n",
      "\n",
      "# enumerate() 적용\n",
      "<enumerate object at 0x108b27510>\n",
      "\n",
      "# list로 강제 변환 출력\n"
     ]
    },
    {
     "ename": "TypeError",
     "evalue": "'list' object is not callable",
     "output_type": "error",
     "traceback": [
      "\u001b[0;31m---------------------------------------------------------------------------\u001b[0m",
      "\u001b[0;31mTypeError\u001b[0m                                 Traceback (most recent call last)",
      "Cell \u001b[0;32mIn[89], line 15\u001b[0m\n\u001b[1;32m     13\u001b[0m \u001b[38;5;66;03m# list()함수로 변환 출력\u001b[39;00m\n\u001b[1;32m     14\u001b[0m \u001b[38;5;28mprint\u001b[39m(\u001b[38;5;124m\"\u001b[39m\u001b[38;5;124m# list로 강제 변환 출력\u001b[39m\u001b[38;5;124m\"\u001b[39m)\n\u001b[0;32m---> 15\u001b[0m l \u001b[38;5;241m=\u001b[39m \u001b[38;5;28;43mlist\u001b[39;49m\u001b[43m(\u001b[49m\u001b[38;5;28;43menumerate\u001b[39;49m\u001b[43m(\u001b[49m\u001b[43mexample_list\u001b[49m\u001b[43m)\u001b[49m\u001b[43m)\u001b[49m\n\u001b[1;32m     16\u001b[0m \u001b[38;5;28mprint\u001b[39m(l)\n\u001b[1;32m     17\u001b[0m \u001b[38;5;28mprint\u001b[39m()\n",
      "\u001b[0;31mTypeError\u001b[0m: 'list' object is not callable"
     ]
    }
   ],
   "source": [
    "example_list = [\"요소A\", \"요소B\", \"요소C\"]\n",
    "\n",
    "# 단순 출력\n",
    "print(\"# 단순 출력\")\n",
    "print(example_list)\n",
    "print()\n",
    "\n",
    "# enumerate() 사용\n",
    "print(\"# enumerate() 적용\")\n",
    "print(enumerate(example_list))\n",
    "print()\n",
    "\n",
    "# list()함수로 변환 출력 => 왜 오류가 발생하는지 해결하지 못 했다.\n",
    "print(\"# list로 강제 변환 출력\")\n",
    "l = list(enumerate(example_list))\n",
    "print(l)\n",
    "print()\n",
    "\n",
    "# for문과 enumerate() 조합\n",
    "print(\"# 반복문과 조합하기\")\n",
    "for i, value in enumerate(example_list): # enumerate() 함수 사용하면 반복 변수를 이런 형태로 넣을 수 있다.\n",
    "    print(\"{}번째 요소는 {}입니다\".format(i, value))"
   ]
  },
  {
   "cell_type": "markdown",
   "metadata": {},
   "source": [
    "#### (4) items()와 반복문 조합"
   ]
  },
  {
   "cell_type": "code",
   "execution_count": 90,
   "metadata": {},
   "outputs": [
    {
     "name": "stdout",
     "output_type": "stream",
     "text": [
      "# 딕셔너리의 items() 함수\n",
      "items(): dict_items([('키A', '값A'), ('키B', '값B'), ('키C', '값C')])\n",
      "\n",
      "# 딕셔너리의 items() 함수와 반복문 조합하기\n",
      "dictionary[키A] = 값A\n",
      "dictionary[키B] = 값B\n",
      "dictionary[키C] = 값C\n"
     ]
    }
   ],
   "source": [
    "example_dictionary = {\n",
    "    \"키A\": \"값A\",\n",
    "    \"키B\": \"값B\",\n",
    "    \"키C\": \"값C\",\n",
    "}\n",
    "\n",
    "# 딕셔너리의 items() 함수 결과 출력\n",
    "print(\"# 딕셔너리의 items() 함수\")\n",
    "print(\"items():\", example_dictionary.items())\n",
    "print()\n",
    "\n",
    "# for 반복문과 items() 함수 조합해서 사용\n",
    "print(\"# 딕셔너리의 items() 함수와 반복문 조합\")\n",
    "\n",
    "for key, element in example_dictionary.items():\n",
    "    print(\"dictionary[{}] = {}\".format(key, element))"
   ]
  },
  {
   "cell_type": "markdown",
   "metadata": {},
   "source": [
    "#### (5) 리스트 내포 : 리스트 이름 = [표현식 for 반복자 in 반복할 수 있는 것 (if 조건문)]"
   ]
  },
  {
   "cell_type": "code",
   "execution_count": 93,
   "metadata": {},
   "outputs": [
    {
     "name": "stdout",
     "output_type": "stream",
     "text": [
      "[0, 4, 16, 36, 64, 100, 144, 196, 256, 324]\n"
     ]
    }
   ],
   "source": [
    "array = []\n",
    "\n",
    "for i in range(0, 20, 2):\n",
    "    array.append(i * i)\n",
    "print(array)"
   ]
  },
  {
   "cell_type": "code",
   "execution_count": 96,
   "metadata": {},
   "outputs": [
    {
     "name": "stdout",
     "output_type": "stream",
     "text": [
      "[0, 4, 16, 36, 64, 100, 144, 196, 256, 324]\n",
      "[16, 36, 64, 100, 144, 196, 256, 324]\n"
     ]
    }
   ],
   "source": [
    "# 위 코드를 한 줄로 작성\n",
    "# range(0, 20, 2)의 요소를 i라고 할 때 i*i로 리스트를 재조합하라는 코드이다. \n",
    "array = [i * i for i in range(0, 20, 2)]\n",
    "array2 = [i * i for i in range(0, 20, 2) if i > 3] # i > 3 이상인 요소에 대해서만 반복문 실행\n",
    "print(array)\n",
    "print(array2)"
   ]
  },
  {
   "cell_type": "markdown",
   "metadata": {},
   "source": [
    "#### (6) 좀 더 알아보기 1 : 구문 내부에 여러 줄 문자열 사용했을 때 문제점 => 실행 결과 여러 줄 문자열 앞에 있는 들여쓰기가 문자열에 포함되어 들어가는 문제 "
   ]
  },
  {
   "cell_type": "markdown",
   "metadata": {},
   "source": [
    "- 괄호로 문자열 연결하기"
   ]
  },
  {
   "cell_type": "code",
   "execution_count": 97,
   "metadata": {},
   "outputs": [
    {
     "name": "stdout",
     "output_type": "stream",
     "text": [
      "test: 이렇게 입력해도 하나의 문자열로 연결되어 생성됩니다.\n",
      "type(test): <class 'str'>\n"
     ]
    }
   ],
   "source": [
    "test = (\n",
    "    \"이렇게 입력해도 \"\n",
    "    \"하나의 문자열로 연결되어 \"\n",
    "    \"생성됩니다.\"\n",
    ")\n",
    "\n",
    "print(\"test:\", test)\n",
    "print(\"type(test):\", type(test))"
   ]
  },
  {
   "cell_type": "code",
   "execution_count": 99,
   "metadata": {},
   "outputs": [
    {
     "name": "stdout",
     "output_type": "stream",
     "text": [
      "입력한 문자열은 3입니다.\n",
      "3는(은) 홀수입니다.\n"
     ]
    }
   ],
   "source": [
    "# \\n 사용\n",
    "number = int(input(\"정수 입력> \"))\n",
    "\n",
    "if number % 2 == 0:\n",
    "    print((\n",
    "        \"입력한 문자열은 {}입니다.\\n\"\n",
    "        \"{}는(은) 짝수입니다.\"\n",
    "    ).format(number, number))\n",
    "else:\n",
    "    print((\n",
    "        \"입력한 문자열은 {}입니다.\\n\"\n",
    "        \"{}는(은) 홀수입니다.\"\n",
    "    ).format(number, number))"
   ]
  },
  {
   "cell_type": "markdown",
   "metadata": {},
   "source": [
    "- join() 사용"
   ]
  },
  {
   "cell_type": "code",
   "execution_count": 100,
   "metadata": {},
   "outputs": [
    {
     "name": "stdout",
     "output_type": "stream",
     "text": [
      "입력한 문자열은 3입니다.\n",
      "3는(은) 홀수입니다.\n"
     ]
    }
   ],
   "source": [
    "number = int(input(\"정수 입력> \"))\n",
    "\n",
    "if number % 2 == 0:\n",
    "    print(\"\\n\".join([\n",
    "        \"입력한 문자열은 {}입니다.\",\n",
    "        \"{}는(은) 짝수입니다.\"\n",
    "    ]).format(number, number))\n",
    "else:\n",
    "    print(\"\\n\".join([\n",
    "        \"입력한 문자열은 {}입니다.\",\n",
    "        \"{}는(은) 홀수입니다.\"\n",
    "    ]).format(number, number))"
   ]
  },
  {
   "cell_type": "markdown",
   "metadata": {},
   "source": [
    "# <과제>"
   ]
  },
  {
   "cell_type": "markdown",
   "metadata": {},
   "source": [
    "## < from module import * vs import module>\n",
    "\n",
    "1. from module import * : 모듈 내에서 자동으로 사용 가능\n",
    "- 장점 : 각 심볼을 모듈 이름으로 수식할 필요가 없다.\n",
    "- 단점 : 동일한 이름이 현재 네임스페이스에 이미 있을 경우 덮어쓸 수 있어 의도치 않은 오류가 발생할 수 있음, 가독성 저하\n",
    "\n",
    "* 네임스페이스(Namespace)란 ? 이름(변수, 함수, 객체 등)과 객체(데이터) 간의 매핑을 관리하는 공간 또는 범위를 의미한다. 프로그래밍에서 네임스페이스는 각 이름이 서로 충돌하지 않도록 구분 짓는 역할을 한다."
   ]
  },
  {
   "cell_type": "code",
   "execution_count": 101,
   "metadata": {},
   "outputs": [
    {
     "name": "stdout",
     "output_type": "stream",
     "text": [
      "4.0\n"
     ]
    }
   ],
   "source": [
    "from math import *\n",
    "print(sqrt(16))  # math.sqrt가 아닌 sqrt로 바로 접근 가능"
   ]
  },
  {
   "cell_type": "markdown",
   "metadata": {},
   "source": [
    "2. import module : 모듈 전체를 가져오고, 모듈 이름을 무조건 붙여줘야 함.\n",
    "- 장점: 모듈 이름을 통해 심볼에 접근하므로 네임스페이스 오염을 방지할 수 있음, 가독성 향상\n",
    "- 단점: 매번 모듈 이름을 적어야 하므로 코드가 길어질 수 있음."
   ]
  },
  {
   "cell_type": "code",
   "execution_count": 102,
   "metadata": {},
   "outputs": [
    {
     "name": "stdout",
     "output_type": "stream",
     "text": [
      "4.0\n"
     ]
    }
   ],
   "source": [
    "import math\n",
    "print(math.sqrt(16))  # math 모듈을 명시적으로 사용하여 sqrt에 접근"
   ]
  }
 ],
 "metadata": {
  "kernelspec": {
   "display_name": "prompt",
   "language": "python",
   "name": "python3"
  },
  "language_info": {
   "codemirror_mode": {
    "name": "ipython",
    "version": 3
   },
   "file_extension": ".py",
   "mimetype": "text/x-python",
   "name": "python",
   "nbconvert_exporter": "python",
   "pygments_lexer": "ipython3",
   "version": "3.11.9"
  }
 },
 "nbformat": 4,
 "nbformat_minor": 2
}
