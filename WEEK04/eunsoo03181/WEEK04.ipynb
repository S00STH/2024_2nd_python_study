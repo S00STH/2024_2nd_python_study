{
 "cells": [
  {
   "cell_type": "markdown",
   "metadata": {},
   "source": [
    "# Python 4주차\n",
    "파이썬에서 함수는 def 키워드를 사용하여 정의되며,<br> \n",
    "필요한 매개변수(parameter)를 받아 작업을 수행한 후 결과를 반환하거나 출력하는 역할을 합니다."
   ]
  },
  {
   "cell_type": "code",
   "execution_count": 1,
   "metadata": {},
   "outputs": [
    {
     "name": "stdout",
     "output_type": "stream",
     "text": [
      "5\n"
     ]
    }
   ],
   "source": [
    "def getPlus(a, b):\n",
    "    return a+b\n",
    "\n",
    "print(getPlus(2,3))"
   ]
  },
  {
   "cell_type": "markdown",
   "metadata": {},
   "source": [
    "## 매개변수\n",
    "### 가변 매개변수\n",
    "print() 함수와 같이 매개변수를 원하는만큼 입력할 수 있는 함수는 가변 매개변수를 사용하며, 가장 마지막에 한 번만 써야한다는 규칙을 가집니다."
   ]
  },
  {
   "cell_type": "code",
   "execution_count": 7,
   "metadata": {},
   "outputs": [
    {
     "name": "stdout",
     "output_type": "stream",
     "text": [
      "15\n",
      "15\n"
     ]
    }
   ],
   "source": [
    "def getPlus(*a):\n",
    "    output = 0\n",
    "    for i in a:\n",
    "        output += i\n",
    "    return output\n",
    "\n",
    "print(getPlus(1, 2, 3, 4, 5))\n",
    "print(getPlus(7, 8))"
   ]
  },
  {
   "cell_type": "markdown",
   "metadata": {},
   "source": [
    "### 기본 매개변수\n",
    "기본 매개변수는 매개변수를 입력하지 않을 경우 들어가는 기본값이며, 일반 매개변수 뒤에 올 수 없습니다."
   ]
  },
  {
   "cell_type": "code",
   "execution_count": 12,
   "metadata": {},
   "outputs": [
    {
     "name": "stdout",
     "output_type": "stream",
     "text": [
      "Hello,World!Hello,World!Hello,World!Hello,World!\n"
     ]
    }
   ],
   "source": [
    "def repeat_four(text, n=4):\n",
    "    print(text * n)\n",
    "\n",
    "repeat_four(\"Hello,World!\")"
   ]
  },
  {
   "cell_type": "markdown",
   "metadata": {},
   "source": [
    "기본 매개변수가 가변 매개변수보다 앞선 경우, 기본 매개변수를 수정할 수 있습니다.<br>\n",
    "<br>\n",
    "반대로, 가변 매개변수가 기본 매개변수보다 앞선 경우, 기본 매개변수를 직접 지정하여야 수정할 수 있습니다.<br>\n",
    "매개변수 이름을 지정해서 입력하는 것을 키워드 매개변수라고 합니다."
   ]
  },
  {
   "cell_type": "code",
   "execution_count": 16,
   "metadata": {},
   "outputs": [
    {
     "name": "stdout",
     "output_type": "stream",
     "text": [
      "365\n",
      "123\n",
      "123\n"
     ]
    }
   ],
   "source": [
    "def get_multi_and_plus(*a, n=5):\n",
    "    output = 1\n",
    "    for i in a:\n",
    "        output *= i\n",
    "    return output + n\n",
    "\n",
    "def get_multi_and_plus2(n=5, *a):\n",
    "    output = 1\n",
    "    for i in a:\n",
    "        output *= i\n",
    "    return output + n\n",
    "\n",
    "print(get_multi_and_plus(3, 4, 5, 6))\n",
    "print(get_multi_and_plus2(3, 4, 5, 6))\n",
    "print(get_multi_and_plus(4, 5, 6, n=3))"
   ]
  },
  {
   "cell_type": "markdown",
   "metadata": {},
   "source": [
    "## 리턴\n",
    "호출된 함수가 반환되는 것을 리턴이라고 하며, 값을 반환한 경우 이를 리턴값이라고 합니다.<br>\n",
    "함수를 반환한 경우, 함수는 더 이상 실행되지 않습니다. 반복문에서 자주 사용하던 break와 유사합니다.<br>\n",
    "<br>\n",
    "아무것도 반환하지 않는 경우 print() 함수에서 None을 출력합니다."
   ]
  },
  {
   "cell_type": "code",
   "execution_count": 18,
   "metadata": {},
   "outputs": [
    {
     "name": "stdout",
     "output_type": "stream",
     "text": [
      "return 이후의 print() 함수도 실행하는가?\n",
      "Hi~\n",
      "return 이후의 print() 함수도 실행하는가?\n",
      "None\n"
     ]
    }
   ],
   "source": [
    "def return_self(parameter):\n",
    "    print(\"return 이후의 print() 함수도 실행하는가?\")\n",
    "    return parameter\n",
    "    print(\"네\")\n",
    "\n",
    "def return_nothing(parameter):\n",
    "    print(\"return 이후의 print() 함수도 실행하는가?\")\n",
    "    return\n",
    "    print(\"네\")\n",
    "\n",
    "\n",
    "print(return_self(\"Hi~\"))\n",
    "print(return_nothing(\"Bye~~\"))\n"
   ]
  },
  {
   "cell_type": "markdown",
   "metadata": {},
   "source": [
    "## 재귀 함수\n",
    "자기 자신을 호출하는 함수를 재귀 함수(순환)라고 합니다.<br>\n",
    "대표적인 예시로 팩토리얼, 피보나치 수열과 하노이 탑 알고리즘이 있습니다."
   ]
  },
  {
   "cell_type": "code",
   "execution_count": 21,
   "metadata": {},
   "outputs": [
    {
     "name": "stdout",
     "output_type": "stream",
     "text": [
      "120\n"
     ]
    }
   ],
   "source": [
    "def factorial(n):\n",
    "    if n == 1:\n",
    "        return 1\n",
    "    else:\n",
    "        return factorial(n-1) * n\n",
    "    \n",
    "print(factorial(5))"
   ]
  },
  {
   "cell_type": "code",
   "execution_count": 25,
   "metadata": {},
   "outputs": [
    {
     "name": "stdout",
     "output_type": "stream",
     "text": [
      "55\n"
     ]
    }
   ],
   "source": [
    "def fibonacci(n):\n",
    "    if n == 1:\n",
    "        return 1\n",
    "    elif n == 2:\n",
    "        return 1\n",
    "    else:\n",
    "        return fibonacci(n-1) + fibonacci(n-2)\n",
    "    \n",
    "\n",
    "print(fibonacci(10))"
   ]
  },
  {
   "cell_type": "code",
   "execution_count": 26,
   "metadata": {},
   "outputs": [
    {
     "name": "stdout",
     "output_type": "stream",
     "text": [
      "31\n",
      "1 3\n",
      "1 2\n",
      "3 2\n",
      "1 3\n",
      "2 1\n",
      "2 3\n",
      "1 3\n",
      "1 2\n",
      "3 2\n",
      "3 1\n",
      "2 1\n",
      "3 2\n",
      "1 3\n",
      "1 2\n",
      "3 2\n",
      "1 3\n",
      "2 1\n",
      "2 3\n",
      "1 3\n",
      "2 1\n",
      "3 2\n",
      "3 1\n",
      "2 1\n",
      "2 3\n",
      "1 3\n",
      "1 2\n",
      "3 2\n",
      "1 3\n",
      "2 1\n",
      "2 3\n",
      "1 3\n"
     ]
    }
   ],
   "source": [
    "# 하노이탑\n",
    "\n",
    "# 하노이탑 함수\n",
    "def Hanoi(N, start=1, target=3, middle=2):\n",
    "    if N == 1:\n",
    "        print(f\"{start} {target}\")\n",
    "    else:\n",
    "        Hanoi(N-1, start, middle, target)\n",
    "        print(f\"{start} {target}\")\n",
    "        Hanoi(N-1, middle, target, start)\n",
    "\n",
    "p = int(input())\n",
    "print(pow(2,p)-1)\n",
    "if (p <= 20):\n",
    "    Hanoi(p)"
   ]
  },
  {
   "cell_type": "markdown",
   "metadata": {},
   "source": [
    "### 시간 복잡도\n",
    "시간 복잡도란, 프로그램에서 입력값과 연산 수행간의 상관 관계를 나타내는 척도입니다. 그 중 Big-O 계산법은 코드에서 최악의 결과일 때를 상정하여 시간 복잡도를 계산합니다.<br>\n",
    "<br>\n",
    "Big-O 표기는, 다음과 같은 모습을 하며, 가장 영향력이 큰 문자만 적습니다. 예를 들어, 시간 복잡도가 O(2n! + 5n)인 경우, O(n!)으로 표기합니다.<br>\n",
    "<br>\n",
    "\n",
    "**상수 시간 - O(1)** <br>\n",
    "<br>\n",
    "프로그램을 실행할 때 오로지 한 작업만 실행합니다.<br>\n",
    "<br>\n",
    "\n",
    "**로그 시간 - O(log n)**<br>\n",
    "<br>\n",
    "프로그램을 실행할 때, 필요한 연산이 특정 원인에 따라 감소합니다. 이때, log n은 상용로그가 아닌 밑이 2인 log이지만, 큰 상관은 없습니다.<br>\n",
    "<br>\n",
    "\n",
    "**직선 시간 - O(n)**<br>\n",
    "<br>\n",
    "프로그램을 실행할 때, 단계의 수와 입력값이 1:1입니다.<br>\n",
    "실생활에서 예를 든다면, 101동에 사는 친구집의 ‘호 수’를 찾기 위해서는 최악의 경우 N번동안 집을 찾아야 합니다. 이를 O(n)으로 나타낼 수 있습니다.<br>\n",
    "<br>\n",
    "\n",
    "**선형로그 시간 - O(n log n)**<br>\n",
    "<br>\n",
    "퀵 정렬과 같은 방식이 위와 같은 방식을 따릅니다.<br>\n",
    "<br>\n",
    "\n",
    "**다차 시간 - O(n^c)**<br>\n",
    "<br>\n",
    "프로그램을 실행할 때, 단계의 수와 입력값이 c제곱에 비례합니다.<br>\n",
    "실생활에서 예를 든다면, 1단지에 사는 친구의 집에 가기 위해서는 N번동안 친구가 사는 동을 찾아야 하고, N번동안 친구가 사는 호를 찾아야 합니다.<br>\n",
    "즉, N^2의 실행 횟수가 발생하므로, O(n^2)이 됩니다.<br>\n",
    "<br>\n",
    "\n",
    "**지수 시간 - O(2^n)**<br>\n",
    "<br>\n",
    "c^n은 2^log₂c^n이기 때문에, 주로 2^n으로 표기합니다. 재귀함수의 호출시 자주 가지게 되는 시간 복잡도입니다.<br>\n",
    "<br>\n",
    "\n",
    "**계승 시간 - O(n!)**<br>\n",
    "<br>\n",
    "\n",
    "매우 비효율적인 코드로, n팩토리얼을 구하는 함수를, 재귀 함수로 만들 경우 구현할 수 있습니다.<br>\n",
    "<br>\n",
    "유의할 것은 시간 복잡도가 작은 것이 반드시 좋은 코딩이라고 보장할 수 없다는 점입니다.<br>\n",
    "시간 복잡도가 작을수록 프로그램의 실행이 빨라지고 정확해지지만<br>\n",
    "코드의 가독성과 유지 보수성이 훼손될 수 있어 실제로 코드를 설계할 때는 시간 복잡도 뿐만 아니라<br>\n",
    "가독성과 유지 보수성을 고려하는 것이 필요합니다."
   ]
  },
  {
   "cell_type": "markdown",
   "metadata": {},
   "source": [
    "### 메모이제이션\n",
    "재귀 함수는 시간이 오래 걸린다는 단점을 가집니다.<br>\n",
    "함수를 계속해서 호출하여 연산을 반복하기 때문입니다.<br>\n",
    "<br>\n",
    "순환을 이용할 경우 피보나치 수열의 시간 복잡도는 O(2^n)입니다.<br>\n",
    "위의 코드는 상당히 비효율적인 코딩입니다.<br>\n",
    "각 메소드가 독특한 값을 가지는 하노이 탑과 달리, 피보나치 수열은 항상 같은 값을 가지기 때문에,<br>\n",
    "메모이제이션을 통해, 시간 복잡도를 줄일 수 있습니다.<br>"
   ]
  },
  {
   "cell_type": "code",
   "execution_count": 19,
   "metadata": {},
   "outputs": [
    {
     "name": "stdout",
     "output_type": "stream",
     "text": [
      "55\n"
     ]
    }
   ],
   "source": [
    "def fibonacci(n, memo={}):\n",
    "    if n in memo:\n",
    "        return memo[n]\n",
    "    \n",
    "    # 기본 케이스: n이 0 또는 1일 때\n",
    "    if n == 0:\n",
    "        return 0\n",
    "    elif n == 1:\n",
    "        return 1\n",
    "    \n",
    "    # 값을 계산하고 메모리에 저장\n",
    "    memo[n] = fibonacci(n - 1, memo) + fibonacci(n - 2, memo)\n",
    "    \n",
    "    return memo[n]\n",
    "\n",
    "print(fibonacci(10))"
   ]
  },
  {
   "cell_type": "markdown",
   "metadata": {},
   "source": [
    "위와 같이 값을 저장하여 실행할 경우, 시간 복잡도를 O(n)으로 줄일 수 있습니다."
   ]
  },
  {
   "cell_type": "markdown",
   "metadata": {},
   "source": [
    "## 람다\n",
    "람다는 익명 함수를 정의할 때 사용하는 키워드입니다.<br>\n",
    "익명 함수란 이름 없이 정의된 함수로, 람다 함수는 짧고 간결하게 함수를 정의할 수 있어<br>\n",
    "코드가 복잡하지 않은 경우 사용하기 적합합니다."
   ]
  },
  {
   "cell_type": "code",
   "execution_count": 9,
   "metadata": {},
   "outputs": [
    {
     "name": "stdout",
     "output_type": "stream",
     "text": [
      "20\n",
      "이 수는 홀수입니다.\n"
     ]
    }
   ],
   "source": [
    "plus = lambda a, b: a + b\n",
    "\n",
    "print(plus(10,10))\n",
    "\n",
    "isEven = lambda x: \"이 수는 짝수입니다.\" if x % 2 == 0 else \"이 수는 홀수입니다.\"\n",
    "\n",
    "print(isEven(13))"
   ]
  },
  {
   "cell_type": "markdown",
   "metadata": {},
   "source": [
    "람다는 주로 간단한 함수를 만들거나, 일회성으로 함수를 필요로 한 경우 사용합니다.<br>\n",
    "자주 사용하거나 복잡한 연산의 경우 def을 사용하는 것이 적절합니다."
   ]
  },
  {
   "cell_type": "markdown",
   "metadata": {},
   "source": [
    "## 모듈\n",
    "모듈은 여러 변수와 함수를 가지고 있는 집합체로, 크게 표준 모듈과 외부 모듈로 나뉩니다.<br>\n",
    "math, random과 같이 파이썬에서 기본적으로 제공하는 것을 표준 모듈이라 하고,<br>\n",
    "사용자가 공개한 모듈을 외부 모듈이라고 합니다.<br>\n",
    "<br>\n",
    "모듈을 가져올 때는 import를 사용합니다."
   ]
  },
  {
   "cell_type": "code",
   "execution_count": 10,
   "metadata": {},
   "outputs": [
    {
     "name": "stdout",
     "output_type": "stream",
     "text": [
      "PI로 구한 값: 3.14159\n",
      "math.pi로 구한 값: 3.141592653589793\n"
     ]
    }
   ],
   "source": [
    "import math\n",
    "\n",
    "PI = 3.14159\n",
    "\n",
    "def get_area(n):\n",
    "    return n*n*PI\n",
    "\n",
    "def get_area2(n):\n",
    "    return n*n*math.pi\n",
    "\n",
    "\n",
    "print(f\"PI로 구한 값: {get_area(1)}\")\n",
    "print(f\"math.pi로 구한 값: {get_area2(1)}\")"
   ]
  },
  {
   "cell_type": "markdown",
   "metadata": {},
   "source": [
    "파이썬에서 제공하는 표준 모듈인 math를 통해 pi를 이용하면, 사용자가 정의한 PI보다 더 정확한 값을 구할 수 있습니다."
   ]
  },
  {
   "cell_type": "markdown",
   "metadata": {},
   "source": [
    "### from, as\n",
    "\n",
    "from 구문은 모듈에서 일부 기능만을 가져올 때 사용하며, 이 경우 모듈명을 앞에 붙이지 않아도 된다는 장점을 가집니다."
   ]
  },
  {
   "cell_type": "code",
   "execution_count": 15,
   "metadata": {},
   "outputs": [
    {
     "name": "stdout",
     "output_type": "stream",
     "text": [
      "0.49999999999999994\n",
      "-1.0\n",
      "0.9999999999999999\n"
     ]
    }
   ],
   "source": [
    "from math import pi, sin, cos, tan\n",
    "\n",
    "print(sin(pi/6))\n",
    "print(cos(pi))\n",
    "print(tan(pi/4))"
   ]
  },
  {
   "cell_type": "markdown",
   "metadata": {},
   "source": [
    "모듈 이름이 너무 길거나 복잡할 경우 as 구문을 사용하여 모듈 이름을 사용자가 원하는대로 사용할 수 있습니다."
   ]
  },
  {
   "cell_type": "code",
   "execution_count": 19,
   "metadata": {},
   "outputs": [
    {
     "name": "stdout",
     "output_type": "stream",
     "text": [
      "2024-10-05 17:34:21.473064\n"
     ]
    }
   ],
   "source": [
    "import datetime as dt\n",
    "\n",
    "now = dt.datetime.now()\n",
    "print(now)"
   ]
  },
  {
   "cell_type": "markdown",
   "metadata": {},
   "source": [
    "dt는 모듈이고, 뒤에 오는 datetime은 모듈 안의 클래스 이름입니다. now()는 정적(static) 메소드입니다."
   ]
  },
  {
   "cell_type": "markdown",
   "metadata": {},
   "source": [
    "## 외부 모듈\n",
    "외부 모듈은 파이썬에서 기본적으로 제공하지 않기 때문에 다음 명령어를 사용하여 설치할 수 있습니다."
   ]
  },
  {
   "cell_type": "code",
   "execution_count": null,
   "metadata": {
    "vscode": {
     "languageId": "powershell"
    }
   },
   "outputs": [],
   "source": [
    "pip install module_name"
   ]
  },
  {
   "cell_type": "markdown",
   "metadata": {},
   "source": [
    "### numpy\n",
    "NumPy는 Numerical Python의 줄임말로, 과학 계산과 데이터 분석에 사용됩니다.<br> \n",
    "NumPy는 빠르고 효율적인 배열 처리를 지원하며, 수학적 연산, 선형 대수, 통계적 연산 등 수치 계산에 필수적인 함수들을 제공합니다."
   ]
  },
  {
   "cell_type": "code",
   "execution_count": 26,
   "metadata": {},
   "outputs": [
    {
     "name": "stdout",
     "output_type": "stream",
     "text": [
      "[[1 2 3]\n",
      " [4 5 6]]\n",
      "[[1 2 0]\n",
      " [0 5 6]]\n",
      "[[2 3 3]\n",
      " [4 6 7]]\n",
      "[[2 3 3]\n",
      " [5 6 6]]\n"
     ]
    }
   ],
   "source": [
    "import numpy as np\n",
    "\n",
    "arr1 = np.array([[1, 2, 3], [4, 5, 6]])\n",
    "arr2 = np.array([[1, 1, 0], [0, 1, 1]])\n",
    "\n",
    "print(arr1)\n",
    "\n",
    "# 기초적인 산술 연산\n",
    "print(arr1 * arr2)\n",
    "print(arr1 + arr2)\n",
    "\n",
    "# 브로드캐스팅 (크기에 맞춰 연산)\n",
    "print(arr1 + arr2[0])"
   ]
  },
  {
   "cell_type": "markdown",
   "metadata": {},
   "source": [
    "위에서 브로드캐스팅으로 구해진 값은 arr2[0]을 2번째 행으로 복사하여 연산한 것입니다."
   ]
  },
  {
   "cell_type": "markdown",
   "metadata": {},
   "source": [
    "### pandas\n",
    "Pandas는 데이터 조작과 분석을 위한 모듈입니다.<br>\n",
    "엑셀, CSV, SQL과 같은 데이터 파일을 읽고 쓰는 기능을 제공합니다. "
   ]
  },
  {
   "cell_type": "code",
   "execution_count": 1,
   "metadata": {},
   "outputs": [
    {
     "name": "stdout",
     "output_type": "stream",
     "text": [
      "    city located  Top Rate\n",
      "0  Seoul  Middle         1\n",
      "1  Busan   Below         2\n",
      "2   Jeju  Bottom         3\n",
      "       0\n",
      "0  Seoul\n",
      "1  Busan\n",
      "2   Jeju\n"
     ]
    },
    {
     "name": "stderr",
     "output_type": "stream",
     "text": [
      "C:\\Users\\정은수\\AppData\\Local\\Temp\\ipykernel_28104\\2125649389.py:1: DeprecationWarning: \n",
      "Pyarrow will become a required dependency of pandas in the next major release of pandas (pandas 3.0),\n",
      "(to allow more performant data types, such as the Arrow string type, and better interoperability with other libraries)\n",
      "but was not found to be installed on your system.\n",
      "If this would cause problems for you,\n",
      "please provide us feedback at https://github.com/pandas-dev/pandas/issues/54466\n",
      "        \n",
      "  import pandas as pd\n"
     ]
    }
   ],
   "source": [
    "import pandas as pd\n",
    "\n",
    "data = {\n",
    "    \"city\": [\"Seoul\", \"Busan\", \"Jeju\"],\n",
    "    \"located\": [\"Middle\", \"Below\", \"Bottom\"],\n",
    "    \"Top Rate\": [1, 2, 3]\n",
    "}\n",
    "\n",
    "print(pd.DataFrame(data))\n",
    "print(pd.DataFrame(data[\"city\"]))\n"
   ]
  },
  {
   "cell_type": "markdown",
   "metadata": {},
   "source": [
    "## 모듈 만들기\n",
    "사용자가 모듈을 직접 만들기 위해서는 모듈을 만들 파이썬 파일을 만들고 그곳에 함수를 지정해주면 됩니다.<br>\n",
    "이후, 다른 파일에 해당 파일명을 import하면 됩니다."
   ]
  },
  {
   "cell_type": "code",
   "execution_count": null,
   "metadata": {},
   "outputs": [],
   "source": [
    "# 파일명: handmade.py\n",
    "\n",
    "def get_plus(a, b):\n",
    "    return a+b\n",
    "\n",
    "def get_minus(a, b):\n",
    "    return a-b\n",
    "\n",
    "def get_multi(a, b):\n",
    "    return a*b\n",
    "\n",
    "def get_div(a, b):\n",
    "    return a/b\n",
    "\n",
    "def get_mod(a, b):\n",
    "    return a%b\n",
    "\n",
    "\n",
    "if __name__ == '__main__':\n",
    "    print(get_plus(1, 1))\n",
    "    print(get_minus(3, 2))\n",
    "    print(get_multi(4, 4))\n",
    "    print(get_div(8, 4))\n",
    "    print(get_mod(10, 3))"
   ]
  },
  {
   "cell_type": "code",
   "execution_count": 14,
   "metadata": {},
   "outputs": [
    {
     "name": "stdout",
     "output_type": "stream",
     "text": [
      "8\n",
      "7\n",
      "754\n",
      "4.645833333333333\n",
      "229\n"
     ]
    }
   ],
   "source": [
    "import handmade\n",
    "\n",
    "print(handmade.get_plus(4,4))\n",
    "print(handmade.get_minus(35, 28))\n",
    "print(handmade.get_multi(13, 58))\n",
    "print(handmade.get_div(223, 48))\n",
    "print(handmade.get_mod(994, 255))\n"
   ]
  },
  {
   "cell_type": "markdown",
   "metadata": {},
   "source": [
    "위와 같이 직접 만든 모듈을 활용할 수 있습니다.<br>\n",
    "\n",
    "### if __ name __ == '__ main __'\n",
    "\n",
    "이 조건문은 만약 현재 실행(호출)되는 파일이 실행 진입점(entry point)인 경우 출력하라는 의미로, main 함수와 유사합니다.<br>\n",
    "handmade.py를 직접 출력할 경우, 조건문이 True가 되어 값을 출력하지만 모듈로 import된 경우 실행 진입점이 아니기 때문에 출력되지 않습니다.<br>\n",
    "<br>\n",
    "이 조건문은 주로, 해당 모듈이 어떻게 작동하는지에 대한 예를 들기 위해 주로 사용합니다."
   ]
  },
  {
   "cell_type": "markdown",
   "metadata": {},
   "source": [
    "# 과제\n",
    "## 과제1: calculator 모듈 만들기"
   ]
  },
  {
   "cell_type": "code",
   "execution_count": null,
   "metadata": {},
   "outputs": [],
   "source": [
    "'''\n",
    "TODO: \n",
    "1. 각 함수명에 걸맞는 연산을 수행하는 함수를 완성하세요.\n",
    "2. WEEK04.ipynb 에서 import calculator로 함수를 불러와 검증하는 부분을 추가하세요.\n",
    "3. 모듈 함수 사용방법은 calculator.sum_numbers(1, 2, 3) 식으로 사용할 수 있습니다.\n",
    "'''\n",
    "\n",
    "\n",
    "def sum_numbers(*args: int) -> int:\n",
    "    # 복수 개의 정수 입력을 받아 모두 더한 값을 출력하는 함수\n",
    "    # for 문을 사용하세요\n",
    "    pass\n",
    "\n",
    "\n",
    "def multiply(*args: int) -> int:\n",
    "    # 복수 개의 정수 입력을 받아 모두 곱한 값을 출력하는 함수\n",
    "    # for 문을 사용하세요\n",
    "    pass\n",
    "\n",
    "\n",
    "def factorial(n: int) -> int:\n",
    "    # n이 0 이상일 때, n! 을 반환하는 함수\n",
    "    # while 문을 사용하세요\n",
    "    pass\n",
    "\n",
    "\n",
    "def fibonacci(n: int) -> int:\n",
    "    # n 번째 피보나치 수를 반환하는 함수\n",
    "    # 조건문과 재귀함수를 이용하세요\n",
    "    pass\n",
    "\n",
    "\n",
    "def primes_up_to_n(n: int) -> int:\n",
    "    # 1부터 N까지의 정수 중에 소수를 모두 찾아 리스트로 반환하는 함수\n",
    "    # 리스트 컴프리헨션과 조건문을 이용하세요\n",
    "    pass\n",
    "\n",
    "\n",
    "def even_numbers(numbers: list[int]) -> list[int]:\n",
    "    # 정수 리스트에서 짝수들만 골라 리스트로 반환하는 함수를 만드세요\n",
    "    # 람다 함수식을 사용하세요\n",
    "    # return list(filter( ####, #### ))\n",
    "    pass"
   ]
  },
  {
   "cell_type": "markdown",
   "metadata": {},
   "source": [
    "**풀이** <br>\n",
    "우선, ': int'는 정수형 타입으로 매개변수를 받으라는 뜻이며, '-> int'는 정수형 타입으로 반환하라는 뜻입니다.<br>\n",
    "파이썬에 있는 기능으로, 코드의 유지보수성에 관련이 있습니다.<br>\n",
    "이는 권고 사항이므로, 입력과 반환이 반드시 그 타입이 아니라고 하더라도 오류는 없습니다."
   ]
  },
  {
   "cell_type": "code",
   "execution_count": 22,
   "metadata": {},
   "outputs": [],
   "source": [
    "# 파일명: calculator.py\n",
    "\n",
    "def sum_numbers(*args: int) -> int:\n",
    "    output = 0\n",
    "    for i in args:\n",
    "        output += i\n",
    "    return output\n",
    "\n",
    "\n",
    "def multiply(*args: int) -> int:\n",
    "    output = 1\n",
    "    for i in args:\n",
    "        output *= i\n",
    "    return output\n",
    "\n",
    "\n",
    "def factorial(n: int) -> int:\n",
    "    if n == 0 or n == 1:\n",
    "        return 1\n",
    "    return factorial(n-1) * n\n",
    "\n",
    "\n",
    "def fibonacci(n: int) -> int:\n",
    "    if n == 1:\n",
    "        return 1\n",
    "    elif n == 2:\n",
    "        return 1\n",
    "    else:\n",
    "        return fibonacci(n-1) + fibonacci(n-2)\n",
    "\n",
    "\n",
    "\n",
    "def primes_up_to_n(n: int) -> int:\n",
    "    \n",
    "    def is_prime(num):\n",
    "        if num < 2:\n",
    "            return False\n",
    "        for i in range(2, int(num / 2) + 1):\n",
    "            if num % i == 0:\n",
    "                return False\n",
    "        return True\n",
    "    \n",
    "    return [a \n",
    "            for a in range(2, n + 1) \n",
    "            if is_prime(a)\n",
    "            ]\n",
    "\n",
    "\n",
    "def even_numbers(numbers: list[int]) -> list[int]:\n",
    "    isEven = lambda x: x % 2 == 0\n",
    "    return list(filter(isEven, numbers))"
   ]
  },
  {
   "cell_type": "markdown",
   "metadata": {},
   "source": [
    "sum_numbers()와 multiply()<br>\n",
    "가변 매개변수를 range()를 통해 받아 값을 반환합니다.<br>\n",
    "<br>\n",
    "factorial()과 fibonacci()<br>\n",
    "위와 같이 순환합니다. 시간 복잡도를 줄이기 위해 메모이제이션을 활용할 수 있습니다.<br>\n",
    "<br>\n",
    "primes_up_to_n()<br>\n",
    "함수 안에 소수를 판별할 수 있는 함수를 정의합니다.<br>\n",
    "이후, 리스트에 소수로 판별된 수를 리스트에 저장하여 반환합니다.<br>\n",
    "1을 포함시키지 않은 이유는 1은 소수가 아니기 때문이며, n + 1은 n번째까지 연산할 수 있도록 +1을 보정합니다.<br>\n",
    "<br>\n",
    "even_numbers()<br>\n",
    "filter() 함수는 1번째 매개변수로 boolean을, 2번째 매개변수로 반복 가능한 객체를 받습니다.<br>\n",
    "filter()는 필요한 상황에만 값을 하나씩 반환하므로, list로 반환하기 위해선 변환해주어야 합니다.\n"
   ]
  },
  {
   "cell_type": "code",
   "execution_count": 24,
   "metadata": {},
   "outputs": [
    {
     "name": "stdout",
     "output_type": "stream",
     "text": [
      "16 120 720 55\n",
      "[2, 3, 5, 7, 11, 13, 17, 19, 23, 29, 31, 37, 41, 43, 47]\n",
      "[2, 4, 6, 8, 10, 14, 18, 20]\n"
     ]
    }
   ],
   "source": [
    "# 최초 경로 지정시\n",
    "# import sys\n",
    "# sys.path.append(\"경로명\")\n",
    "\n",
    "import calculator\n",
    "\n",
    "sn = calculator.sum_numbers(1, 1, 2, 3, 4, 5)\n",
    "mp = calculator.multiply(1, 2, 3, 4, 5)\n",
    "ft = calculator.factorial(6)\n",
    "fb = calculator.fibonacci(10)\n",
    "pu = calculator.primes_up_to_n(50)\n",
    "eb = calculator.even_numbers([1,2,3,4,5,6,7,8,9,10,13,14,15,18,20])\n",
    "print(f\"{sn} {mp} {ft} {fb}\")\n",
    "print(pu)\n",
    "print(eb)"
   ]
  },
  {
   "cell_type": "markdown",
   "metadata": {},
   "source": [
    "## 과제2: from module import * 와 import module의 차이\n",
    "\n",
    "from module import *와 import module은 모듈의 모든 클래스, 객체, 함수 등을 가져오라는 공통점이 있습니다."
   ]
  },
  {
   "cell_type": "code",
   "execution_count": 25,
   "metadata": {},
   "outputs": [
    {
     "name": "stdout",
     "output_type": "stream",
     "text": [
      "3.141592653589793\n"
     ]
    }
   ],
   "source": [
    "from math import *\n",
    "\n",
    "print(pi)"
   ]
  },
  {
   "cell_type": "code",
   "execution_count": 1,
   "metadata": {},
   "outputs": [
    {
     "name": "stdout",
     "output_type": "stream",
     "text": [
      "3.141592653589793\n"
     ]
    }
   ],
   "source": [
    "import math\n",
    "\n",
    "print(math.pi)"
   ]
  },
  {
   "cell_type": "markdown",
   "metadata": {},
   "source": [
    "둘은 모두 같은 값을 출력하고, 실제로도 같습니다.<br>\n",
    "차이는, 후자의 경우 math 모듈의 것이라는 것을 지정해주어야 한다는 불편함도 있어 보입니다.<br>\n",
    "<br>\n",
    "그러나, 전자는 해당 코드의 출처가 모호해진다는 단점을 가집니다."
   ]
  },
  {
   "cell_type": "code",
   "execution_count": 2,
   "metadata": {},
   "outputs": [
    {
     "name": "stdout",
     "output_type": "stream",
     "text": [
      "3\n"
     ]
    }
   ],
   "source": [
    "from math import *\n",
    "\n",
    "pi = 3\n",
    "\n",
    "print(pi)"
   ]
  },
  {
   "cell_type": "markdown",
   "metadata": {},
   "source": [
    "위 코드에서 정확한 원주율을 구하기 위해, math 모듈의 pi를 호출하려고 한다고 할 때 위와 같은 경우 원하지 않는 값이 나올 수 있습니다.<br>\n",
    "<br>\n",
    "같은 이름의 함수, 클래스, 객체 등이 있는 모듈끼리도 이 충돌이 일어날 수 있고, 가장 마지막으로 정의된 것을 기준으로 파이썬은 정합니다.<br>\n",
    "이러한 충돌을 막기 위해 자신이 필요한 것만 import하거나, 자신이 원하는 것이 어디의 소속인지를 명확하게 하는 것이 권장됩니다."
   ]
  },
  {
   "cell_type": "markdown",
   "metadata": {},
   "source": [
    "## 과제3: 파이썬이 모듈을 찾는 과정\n",
    "\n",
    "### 1. 모듈 캐시 확인"
   ]
  },
  {
   "cell_type": "code",
   "execution_count": 30,
   "metadata": {},
   "outputs": [
    {
     "name": "stdout",
     "output_type": "stream",
     "text": [
      "생략"
     ]
    }
   ],
   "source": [
    "import sys\n",
    "\n",
    "print(sys.modules)"
   ]
  },
  {
   "cell_type": "markdown",
   "metadata": {},
   "source": [
    "파이썬은 가장 먼저 만약 이미 import된 모듈이 있을 경우, 그 캐시를 사용합니다.<br>\n",
    "파이썬은 sys.modules라는 모듈 캐시를 확인합니다.<br>\n",
    "이 캐시는 Python이 이미 임포트한 모듈을 저장하는 딕셔너리입니다."
   ]
  },
  {
   "cell_type": "markdown",
   "metadata": {},
   "source": [
    "### 2. 모듈 찾기 \n"
   ]
  },
  {
   "cell_type": "code",
   "execution_count": 32,
   "metadata": {},
   "outputs": [
    {
     "name": "stdout",
     "output_type": "stream",
     "text": [
      "생략"
     ]
    }
   ],
   "source": [
    "import sys\n",
    "\n",
    "print(sys.path)"
   ]
  },
  {
   "cell_type": "markdown",
   "metadata": {},
   "source": [
    "만약 파이썬이 sys.modules에서 모듈을 찾지 못하면, Python은 모듈을 찾기 위해 검색 경로를 탐색합니다.<br>\n",
    "경로는 파이썬이 모듈을 찾을 수 있는 디렉터리 목록인 sys.path에 저장되어 있습니다.<br>\n",
    "표준 라이브러리 경로, 현재 작업 디렉터리, 그리고 사용자가 정의한 추가 경로를 가지고 있습니다.<br>\n",
    "sys.path는 리스트 형태이기 때문에 경로를 추가하고 싶다면, sys.path.append()를 사용하면 됩니다."
   ]
  },
  {
   "cell_type": "markdown",
   "metadata": {},
   "source": [
    "### 3. 모듈 파일 확인\n",
    "파이썬은 sys.path 내의 각 디렉토리를 차례로 탐색하면서 모듈 파일을 찾습니다. \n",
    "<br>\n",
    "<br>\n",
    "\n",
    "### 4. 모듈 로드 및 컴파일\n",
    "모듈을 찾았다면 파이썬은 해당 모듈을 로드합니다.<br>\n",
    ".py 파일일 경우 컴파일을, 바이트코드 또는 C 확장 파일은 바로 로드합니다.\n",
    "<br>\n",
    "<br>\n",
    "\n",
    "### 5. 모듈 초기화 및 실행\n",
    "모듈이 로드되고 컴파일된 후 파이썬은 모듈 내의 클래스, 객체, 함수 등을 실행하여 모듈을 초기화 후 객체는 메모리에 적재합니다.\n",
    "<br>\n",
    "<br>\n",
    "\n"
   ]
  },
  {
   "cell_type": "markdown",
   "metadata": {},
   "source": [
    "### 6. 모듈 캐시 저장\n",
    "모듈이 성공적으로 로드되고 실행되면, 해당 모듈을 sys.modules에 캐시합니다.<br>\n",
    "이렇게 함으로써 같은 모듈을 다시 import할 때 빠르게 사용할 수 있습니다.<br>\n",
    "<br>\n",
    "위의 코드 중 handmade 모듈을 추가했을때 경로 지정을 따로 하지 않은 것을 확인할 수 있는데,<br>\n",
    "이는 이미 모듈이 캐시에 저장되어 더 이상 그 모듈의 경로가 필요하지 않았기 때문입니다. <br>\n",
    "(calculator 모듈을 추가할 때처럼, 처음 import시에 경로명을 지정하여야 합니다.)\n",
    "<br>\n",
    "<br>\n",
    "\n",
    "### 7. 모듈 import 완료\n",
    "위의 과정을 모두 마치면 파이썬은 모듈 import에 성공한 것입니다.<br>\n",
    "이 시점부터 모듈을 자유롭게 호출할 수 있습니다."
   ]
  }
 ],
 "metadata": {
  "kernelspec": {
   "display_name": "Python 3",
   "language": "python",
   "name": "python3"
  },
  "language_info": {
   "codemirror_mode": {
    "name": "ipython",
    "version": 3
   },
   "file_extension": ".py",
   "mimetype": "text/x-python",
   "name": "python",
   "nbconvert_exporter": "python",
   "pygments_lexer": "ipython3",
   "version": "3.12.2"
  }
 },
 "nbformat": 4,
 "nbformat_minor": 2
}
